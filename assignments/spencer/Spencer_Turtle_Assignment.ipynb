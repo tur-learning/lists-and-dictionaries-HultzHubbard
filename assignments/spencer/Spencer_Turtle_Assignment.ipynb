{
  "cells": [
    {
      "cell_type": "markdown",
      "metadata": {
        "id": "zZqE5eiMY-_u"
      },
      "source": [
        "<a href=\"https://colab.research.google.com/github/tur-learning/CIS1051-python/blob/lectures/lectures/notebooks/04b_interfaces_design.ipynb\" target=\"_parent\"><img src=\"https://colab.research.google.com/assets/colab-badge.svg\" alt=\"Open In Colab\"/></a>"
      ]
    },
    {
      "cell_type": "markdown",
      "metadata": {
        "id": "nVDtWg5BpfQW"
      },
      "source": [
        "# Interface Design\n",
        "\n",
        "The following case study presents how to design functions that work together.\n",
        "\n",
        "This is done introducing the <code>turtle</code> module, to draw images using turtle graphics."
      ]
    },
    {
      "cell_type": "markdown",
      "metadata": {
        "id": "cvcA0BFcsXwM"
      },
      "source": [
        "## The Turtle Module\n",
        "\n",
        "The <a href=\"https://docs.python.org/3/library/turtle.html\">turtle module</a> is included in most Python installations, but if you are running Python in the browser, like using\n",
        "- <em>PythonAnywhere</em>\n",
        "- <em>Google Colab</em>\n",
        "- a <em>Docker container</em>\n",
        "\n",
        "anything won't appear on your screen since there's no <code>$DISPLAY</code> at all :)\n",
        "\n",
        "Fortunately, there exists an <a href=\"https://github.com/tolgaatam/ColabTurtle/\">HTML based Turtle implementation</a> by Tolga Atam (tolgaatam) to work in Google Colab, this is what we are going to use troughout the case study."
      ]
    },
    {
      "cell_type": "markdown",
      "metadata": {
        "id": "2xu7m_-8XwEi"
      },
      "source": [
        "To ensure the <code>turtle</code> module is installed in the current notebook environment, run the following code block (just once)."
      ]
    },
    {
      "cell_type": "code",
      "execution_count": null,
      "metadata": {
        "colab": {
          "base_uri": "https://localhost:8080/"
        },
        "id": "2ISLuNPF2LKE",
        "outputId": "d75ce08d-370f-4d52-90fa-b5f1461ca8f5"
      },
      "outputs": [
        {
          "output_type": "stream",
          "name": "stdout",
          "text": [
            "Collecting ColabTurtle\n",
            "  Downloading ColabTurtle-2.1.0.tar.gz (6.8 kB)\n",
            "  Preparing metadata (setup.py) ... \u001b[?25l\u001b[?25hdone\n",
            "Building wheels for collected packages: ColabTurtle\n",
            "  Building wheel for ColabTurtle (setup.py) ... \u001b[?25l\u001b[?25hdone\n",
            "  Created wheel for ColabTurtle: filename=ColabTurtle-2.1.0-py3-none-any.whl size=7641 sha256=4ccd6fe249d03f0eed44d3b21b05853ddfcf32d8a72be8eb4e5e2a5f885b2b61\n",
            "  Stored in directory: /root/.cache/pip/wheels/5b/86/e8/54f5c8c853606e3a3060bb2e60363cbed632374a12e0f33ffc\n",
            "Successfully built ColabTurtle\n",
            "Installing collected packages: ColabTurtle\n",
            "Successfully installed ColabTurtle-2.1.0\n"
          ]
        }
      ],
      "source": [
        "!pip3 install ColabTurtle\n",
        "import ColabTurtle.Turtle as turtle"
      ]
    },
    {
      "cell_type": "markdown",
      "metadata": {
        "id": "uWENJXy0-fkU"
      },
      "source": [
        "<br/><br/>\n",
        "The <code>initializeTurtle()</code> function call will create a turtle for us ... and a new window should pop-up!\n",
        "\n",
        "If you already have a turtle, the <code>intializeTurtle()</code> function will erase your turtle's history so that you can start over."
      ]
    },
    {
      "cell_type": "code",
      "execution_count": null,
      "metadata": {
        "colab": {
          "base_uri": "https://localhost:8080/"
        },
        "id": "fZ4V9cYZuYJy",
        "outputId": "9ceff842-ffef-41d3-8aec-14a99d73fb81"
      },
      "outputs": [
        {
          "output_type": "display_data",
          "data": {
            "text/plain": [
              "<IPython.core.display.HTML object>"
            ],
            "text/html": [
              "\n",
              "      <svg width=\"800\" height=\"500\">\n",
              "        <rect width=\"100%\" height=\"100%\" fill=\"black\"/>\n",
              "        \n",
              "        <g visibility=visible transform=\"rotate(360,400,250) translate(382, 232)\">\n",
              "<path style=\" stroke:none;fill-rule:evenodd;fill:white;fill-opacity:1;\" d=\"M 18.214844 0.632812 C 16.109375 1.800781 15.011719 4.074219 15.074219 7.132812 L 15.085938 7.652344 L 14.785156 7.496094 C 13.476562 6.824219 11.957031 6.671875 10.40625 7.066406 C 8.46875 7.550781 6.515625 9.15625 4.394531 11.992188 C 3.0625 13.777344 2.679688 14.636719 3.042969 15.027344 L 3.15625 15.152344 L 3.519531 15.152344 C 4.238281 15.152344 4.828125 14.886719 8.1875 13.039062 C 9.386719 12.378906 10.371094 11.839844 10.378906 11.839844 C 10.386719 11.839844 10.355469 11.929688 10.304688 12.035156 C 9.832031 13.09375 9.257812 14.820312 8.96875 16.078125 C 7.914062 20.652344 8.617188 24.53125 11.070312 27.660156 C 11.351562 28.015625 11.363281 27.914062 10.972656 28.382812 C 8.925781 30.84375 7.945312 33.28125 8.238281 35.1875 C 8.289062 35.527344 8.28125 35.523438 8.917969 35.523438 C 10.941406 35.523438 13.074219 34.207031 15.136719 31.6875 C 15.359375 31.417969 15.328125 31.425781 15.5625 31.574219 C 16.292969 32.042969 18.023438 32.964844 18.175781 32.964844 C 18.335938 32.964844 19.941406 32.210938 20.828125 31.71875 C 20.996094 31.625 21.136719 31.554688 21.136719 31.558594 C 21.203125 31.664062 21.898438 32.414062 22.222656 32.730469 C 23.835938 34.300781 25.5625 35.132812 27.582031 35.300781 C 27.90625 35.328125 27.9375 35.308594 28.007812 34.984375 C 28.382812 33.242188 27.625 30.925781 25.863281 28.425781 L 25.542969 27.96875 L 25.699219 27.785156 C 28.945312 23.960938 29.132812 18.699219 26.257812 11.96875 L 26.207031 11.84375 L 27.945312 12.703125 C 31.53125 14.476562 32.316406 14.800781 33.03125 14.800781 C 33.976562 14.800781 33.78125 13.9375 32.472656 12.292969 C 28.519531 7.355469 25.394531 5.925781 21.921875 7.472656 L 21.558594 7.636719 L 21.578125 7.542969 C 21.699219 6.992188 21.761719 5.742188 21.699219 5.164062 C 21.496094 3.296875 20.664062 1.964844 19.003906 0.855469 C 18.480469 0.503906 18.457031 0.5 18.214844 0.632812\"/>\n",
              "</g>\n",
              "      </svg>\n",
              "    "
            ]
          },
          "metadata": {}
        }
      ],
      "source": [
        "turtle.initializeTurtle()"
      ]
    },
    {
      "cell_type": "markdown",
      "metadata": {
        "id": "Y_i4_0XuZTA8"
      },
      "source": [
        "Thus, the <code>ColabTurtle</code> module allows for <em>a single instance</em> of a turtle at a time ... in a future case study we will import <code>ColabTurtlePlus</code> an <a href=\"https://github.com/mathriddle/ColabTurtlePlus\">extension of the original one using classes</a>\n",
        ", to allow for multiple turtle instances."
      ]
    },
    {
      "cell_type": "markdown",
      "metadata": {
        "id": "TqjI2Mylsqnu"
      },
      "source": [
        "## Moving around the turtle"
      ]
    },
    {
      "cell_type": "markdown",
      "metadata": {
        "id": "U5LCHU1AsyEr"
      },
      "source": [
        "Once created a Turtle, there are some functions to move it around the window."
      ]
    },
    {
      "cell_type": "code",
      "execution_count": null,
      "metadata": {
        "colab": {
          "base_uri": "https://localhost:8080/"
        },
        "id": "w02iN8ids52l",
        "outputId": "7e29f76c-675c-45f1-80c1-a935c1e631fa"
      },
      "outputs": [
        {
          "output_type": "display_data",
          "data": {
            "text/plain": [
              "<IPython.core.display.HTML object>"
            ],
            "text/html": [
              "\n",
              "      <svg width=\"800\" height=\"500\">\n",
              "        <rect width=\"100%\" height=\"100%\" fill=\"black\"/>\n",
              "        <line x1=\"400\" y1=\"250\" x2=\"400.0\" y2=\"150.0\" stroke-linecap=\"round\" style=\"stroke:white;stroke-width:4\"/>\n",
              "        <g visibility=visible transform=\"rotate(360,400.0,150.0) translate(382.0, 132.0)\">\n",
              "<path style=\" stroke:none;fill-rule:evenodd;fill:white;fill-opacity:1;\" d=\"M 18.214844 0.632812 C 16.109375 1.800781 15.011719 4.074219 15.074219 7.132812 L 15.085938 7.652344 L 14.785156 7.496094 C 13.476562 6.824219 11.957031 6.671875 10.40625 7.066406 C 8.46875 7.550781 6.515625 9.15625 4.394531 11.992188 C 3.0625 13.777344 2.679688 14.636719 3.042969 15.027344 L 3.15625 15.152344 L 3.519531 15.152344 C 4.238281 15.152344 4.828125 14.886719 8.1875 13.039062 C 9.386719 12.378906 10.371094 11.839844 10.378906 11.839844 C 10.386719 11.839844 10.355469 11.929688 10.304688 12.035156 C 9.832031 13.09375 9.257812 14.820312 8.96875 16.078125 C 7.914062 20.652344 8.617188 24.53125 11.070312 27.660156 C 11.351562 28.015625 11.363281 27.914062 10.972656 28.382812 C 8.925781 30.84375 7.945312 33.28125 8.238281 35.1875 C 8.289062 35.527344 8.28125 35.523438 8.917969 35.523438 C 10.941406 35.523438 13.074219 34.207031 15.136719 31.6875 C 15.359375 31.417969 15.328125 31.425781 15.5625 31.574219 C 16.292969 32.042969 18.023438 32.964844 18.175781 32.964844 C 18.335938 32.964844 19.941406 32.210938 20.828125 31.71875 C 20.996094 31.625 21.136719 31.554688 21.136719 31.558594 C 21.203125 31.664062 21.898438 32.414062 22.222656 32.730469 C 23.835938 34.300781 25.5625 35.132812 27.582031 35.300781 C 27.90625 35.328125 27.9375 35.308594 28.007812 34.984375 C 28.382812 33.242188 27.625 30.925781 25.863281 28.425781 L 25.542969 27.96875 L 25.699219 27.785156 C 28.945312 23.960938 29.132812 18.699219 26.257812 11.96875 L 26.207031 11.84375 L 27.945312 12.703125 C 31.53125 14.476562 32.316406 14.800781 33.03125 14.800781 C 33.976562 14.800781 33.78125 13.9375 32.472656 12.292969 C 28.519531 7.355469 25.394531 5.925781 21.921875 7.472656 L 21.558594 7.636719 L 21.578125 7.542969 C 21.699219 6.992188 21.761719 5.742188 21.699219 5.164062 C 21.496094 3.296875 20.664062 1.964844 19.003906 0.855469 C 18.480469 0.503906 18.457031 0.5 18.214844 0.632812\"/>\n",
              "</g>\n",
              "      </svg>\n",
              "    "
            ]
          },
          "metadata": {}
        }
      ],
      "source": [
        "turtle.fd(100) # move bob forward, by 100 pixels"
      ]
    },
    {
      "cell_type": "markdown",
      "metadata": {
        "id": "4t1EltxhxZN0"
      },
      "source": [
        "Other functions one can call on the turtle are:\n",
        "<ul>\n",
        "<li><code>bk</code> to move backward</li>\n",
        "<li><code>lt</code> turn left (by an angle in degrees)</li>\n",
        "<li><code>rt</code> turn right (by an angle in degrees)</li>\n",
        "</ul>"
      ]
    },
    {
      "cell_type": "markdown",
      "metadata": {
        "id": "J8SBFbc6yMPh"
      },
      "source": [
        "Each Turtle is holding a pen, which is either\n",
        "<ul>\n",
        "<li><code>pd</code> down</li>\n",
        "<li><code>pu</code> up</li>\n",
        "</ul>\n",
        "for the Turtle to leave a trail when it moves."
      ]
    },
    {
      "cell_type": "markdown",
      "metadata": {
        "id": "vnSBXD-EyZEM"
      },
      "source": [
        "To draw a right angle, add these lines to the above blocks"
      ]
    },
    {
      "cell_type": "code",
      "execution_count": null,
      "metadata": {
        "colab": {
          "base_uri": "https://localhost:8080/"
        },
        "id": "OnaxZO9CyJXt",
        "outputId": "73945e8e-411c-4fc9-96f2-6b1f8e89594b"
      },
      "outputs": [
        {
          "output_type": "display_data",
          "data": {
            "text/plain": [
              "<IPython.core.display.HTML object>"
            ],
            "text/html": [
              "\n",
              "      <svg width=\"800\" height=\"500\">\n",
              "        <rect width=\"100%\" height=\"100%\" fill=\"black\"/>\n",
              "        <line x1=\"400\" y1=\"250\" x2=\"400.0\" y2=\"150.0\" stroke-linecap=\"round\" style=\"stroke:white;stroke-width:4\"/><line x1=\"400.0\" y1=\"150.0\" x2=\"500.0\" y2=\"150.0\" stroke-linecap=\"round\" style=\"stroke:white;stroke-width:4\"/>\n",
              "        <g visibility=visible transform=\"rotate(90,500.0,150.0) translate(482.0, 132.0)\">\n",
              "<path style=\" stroke:none;fill-rule:evenodd;fill:white;fill-opacity:1;\" d=\"M 18.214844 0.632812 C 16.109375 1.800781 15.011719 4.074219 15.074219 7.132812 L 15.085938 7.652344 L 14.785156 7.496094 C 13.476562 6.824219 11.957031 6.671875 10.40625 7.066406 C 8.46875 7.550781 6.515625 9.15625 4.394531 11.992188 C 3.0625 13.777344 2.679688 14.636719 3.042969 15.027344 L 3.15625 15.152344 L 3.519531 15.152344 C 4.238281 15.152344 4.828125 14.886719 8.1875 13.039062 C 9.386719 12.378906 10.371094 11.839844 10.378906 11.839844 C 10.386719 11.839844 10.355469 11.929688 10.304688 12.035156 C 9.832031 13.09375 9.257812 14.820312 8.96875 16.078125 C 7.914062 20.652344 8.617188 24.53125 11.070312 27.660156 C 11.351562 28.015625 11.363281 27.914062 10.972656 28.382812 C 8.925781 30.84375 7.945312 33.28125 8.238281 35.1875 C 8.289062 35.527344 8.28125 35.523438 8.917969 35.523438 C 10.941406 35.523438 13.074219 34.207031 15.136719 31.6875 C 15.359375 31.417969 15.328125 31.425781 15.5625 31.574219 C 16.292969 32.042969 18.023438 32.964844 18.175781 32.964844 C 18.335938 32.964844 19.941406 32.210938 20.828125 31.71875 C 20.996094 31.625 21.136719 31.554688 21.136719 31.558594 C 21.203125 31.664062 21.898438 32.414062 22.222656 32.730469 C 23.835938 34.300781 25.5625 35.132812 27.582031 35.300781 C 27.90625 35.328125 27.9375 35.308594 28.007812 34.984375 C 28.382812 33.242188 27.625 30.925781 25.863281 28.425781 L 25.542969 27.96875 L 25.699219 27.785156 C 28.945312 23.960938 29.132812 18.699219 26.257812 11.96875 L 26.207031 11.84375 L 27.945312 12.703125 C 31.53125 14.476562 32.316406 14.800781 33.03125 14.800781 C 33.976562 14.800781 33.78125 13.9375 32.472656 12.292969 C 28.519531 7.355469 25.394531 5.925781 21.921875 7.472656 L 21.558594 7.636719 L 21.578125 7.542969 C 21.699219 6.992188 21.761719 5.742188 21.699219 5.164062 C 21.496094 3.296875 20.664062 1.964844 19.003906 0.855469 C 18.480469 0.503906 18.457031 0.5 18.214844 0.632812\"/>\n",
              "</g>\n",
              "      </svg>\n",
              "    "
            ]
          },
          "metadata": {}
        }
      ],
      "source": [
        "turtle.initializeTurtle() # to refresh the turtle's history\n",
        "\n",
        "turtle.fd(100)\n",
        "turtle.rt(90)\n",
        "turtle.fd(100)"
      ]
    },
    {
      "cell_type": "markdown",
      "metadata": {
        "id": "ofZMpf6Zy56y"
      },
      "source": [
        "remeber to refresh the turtle's history with the <code>intializeTurtle()</code> function!"
      ]
    },
    {
      "cell_type": "markdown",
      "metadata": {
        "id": "X4pGECqazXez"
      },
      "source": [
        "## Simple Repetition\n",
        "\n",
        "Modify the program to draw a square. Let's do it together!"
      ]
    },
    {
      "cell_type": "markdown",
      "metadata": {
        "id": "kbjFJs4QzbRx"
      },
      "source": [
        "<br/><br/>\n",
        "Probably, the easiest way to go would be"
      ]
    },
    {
      "cell_type": "code",
      "execution_count": null,
      "metadata": {
        "colab": {
          "base_uri": "https://localhost:8080/"
        },
        "id": "iCYsIW0Ix46N",
        "outputId": "e32197ec-141d-4eff-d09d-5547421724a4"
      },
      "outputs": [
        {
          "output_type": "display_data",
          "data": {
            "text/plain": [
              "<IPython.core.display.HTML object>"
            ],
            "text/html": [
              "\n",
              "      <svg width=\"800\" height=\"500\">\n",
              "        <rect width=\"100%\" height=\"100%\" fill=\"black\"/>\n",
              "        <line x1=\"400\" y1=\"250\" x2=\"400.0\" y2=\"150.0\" stroke-linecap=\"round\" style=\"stroke:white;stroke-width:4\"/><line x1=\"400.0\" y1=\"150.0\" x2=\"300.0\" y2=\"150.0\" stroke-linecap=\"round\" style=\"stroke:white;stroke-width:4\"/><line x1=\"300.0\" y1=\"150.0\" x2=\"300.0\" y2=\"250.0\" stroke-linecap=\"round\" style=\"stroke:white;stroke-width:4\"/><line x1=\"300.0\" y1=\"250.0\" x2=\"400.0\" y2=\"250.0\" stroke-linecap=\"round\" style=\"stroke:white;stroke-width:4\"/>\n",
              "        <g visibility=visible transform=\"rotate(90,400.0,250.0) translate(382.0, 232.0)\">\n",
              "<path style=\" stroke:none;fill-rule:evenodd;fill:white;fill-opacity:1;\" d=\"M 18.214844 0.632812 C 16.109375 1.800781 15.011719 4.074219 15.074219 7.132812 L 15.085938 7.652344 L 14.785156 7.496094 C 13.476562 6.824219 11.957031 6.671875 10.40625 7.066406 C 8.46875 7.550781 6.515625 9.15625 4.394531 11.992188 C 3.0625 13.777344 2.679688 14.636719 3.042969 15.027344 L 3.15625 15.152344 L 3.519531 15.152344 C 4.238281 15.152344 4.828125 14.886719 8.1875 13.039062 C 9.386719 12.378906 10.371094 11.839844 10.378906 11.839844 C 10.386719 11.839844 10.355469 11.929688 10.304688 12.035156 C 9.832031 13.09375 9.257812 14.820312 8.96875 16.078125 C 7.914062 20.652344 8.617188 24.53125 11.070312 27.660156 C 11.351562 28.015625 11.363281 27.914062 10.972656 28.382812 C 8.925781 30.84375 7.945312 33.28125 8.238281 35.1875 C 8.289062 35.527344 8.28125 35.523438 8.917969 35.523438 C 10.941406 35.523438 13.074219 34.207031 15.136719 31.6875 C 15.359375 31.417969 15.328125 31.425781 15.5625 31.574219 C 16.292969 32.042969 18.023438 32.964844 18.175781 32.964844 C 18.335938 32.964844 19.941406 32.210938 20.828125 31.71875 C 20.996094 31.625 21.136719 31.554688 21.136719 31.558594 C 21.203125 31.664062 21.898438 32.414062 22.222656 32.730469 C 23.835938 34.300781 25.5625 35.132812 27.582031 35.300781 C 27.90625 35.328125 27.9375 35.308594 28.007812 34.984375 C 28.382812 33.242188 27.625 30.925781 25.863281 28.425781 L 25.542969 27.96875 L 25.699219 27.785156 C 28.945312 23.960938 29.132812 18.699219 26.257812 11.96875 L 26.207031 11.84375 L 27.945312 12.703125 C 31.53125 14.476562 32.316406 14.800781 33.03125 14.800781 C 33.976562 14.800781 33.78125 13.9375 32.472656 12.292969 C 28.519531 7.355469 25.394531 5.925781 21.921875 7.472656 L 21.558594 7.636719 L 21.578125 7.542969 C 21.699219 6.992188 21.761719 5.742188 21.699219 5.164062 C 21.496094 3.296875 20.664062 1.964844 19.003906 0.855469 C 18.480469 0.503906 18.457031 0.5 18.214844 0.632812\"/>\n",
              "</g>\n",
              "      </svg>\n",
              "    "
            ]
          },
          "metadata": {}
        }
      ],
      "source": [
        "turtle.initializeTurtle()\n",
        "\n",
        "turtle.fd(100) ; turtle.lt(90)  # 1st side\n",
        "turtle.fd(100) ; turtle.lt(90)  # 2nd side\n",
        "turtle.fd(100) ; turtle.lt(90)  # 3rd side\n",
        "turtle.fd(100)                  # last side"
      ]
    },
    {
      "cell_type": "markdown",
      "metadata": {
        "id": "1vgZx4Kk0bUe"
      },
      "source": [
        "Otherwise – more concisely – with a <code>for</code> statement.\n",
        "<br/><br/>\n",
        "This is the simplest use of the for statement:"
      ]
    },
    {
      "cell_type": "code",
      "execution_count": null,
      "metadata": {
        "colab": {
          "base_uri": "https://localhost:8080/"
        },
        "id": "Ta2PYRc_tb1I",
        "outputId": "7b712b69-0411-4736-a26d-919d33614144"
      },
      "outputs": [
        {
          "output_type": "stream",
          "name": "stdout",
          "text": [
            "Hello!\n",
            "Hello!\n",
            "Hello!\n",
            "Hello!\n"
          ]
        }
      ],
      "source": [
        "for i in range(4):\n",
        "    print('Hello!')"
      ]
    },
    {
      "cell_type": "markdown",
      "metadata": {
        "id": "dnocm3P102GA"
      },
      "source": [
        "... don't care about the iterator value?\n",
        "<br/><br/>Just think about it should run some specific number of times!"
      ]
    },
    {
      "cell_type": "code",
      "execution_count": null,
      "metadata": {
        "colab": {
          "base_uri": "https://localhost:8080/"
        },
        "id": "_JRmHUlOxeBP",
        "outputId": "05c10c8b-c6ce-44ed-c19b-17cb7aadf546"
      },
      "outputs": [
        {
          "output_type": "stream",
          "name": "stdout",
          "text": [
            "Hello!\n",
            "Hello!\n",
            "Hello!\n",
            "Hello!\n"
          ]
        }
      ],
      "source": [
        "for _ in range(4):\n",
        "    print('Hello!')"
      ]
    },
    {
      "cell_type": "markdown",
      "metadata": {
        "id": "duM5UrUi1bNJ"
      },
      "source": [
        "The syntax is similar to a function definition, with:\n",
        "<ul>\n",
        "<li>an <strong>header</strong> that ends with a colon</li>\n",
        "<li>an indented <strong>body</strong></li>\n",
        "</ul>\n",
        "\n",
        "The body can contain any number of statements."
      ]
    },
    {
      "cell_type": "markdown",
      "metadata": {
        "id": "pFXAY4k-2ZQS"
      },
      "source": [
        "A for statement is also called a <strong>loop</strong> because the <strong>flow of execution</strong> runs through the body and then loops back to the top."
      ]
    },
    {
      "cell_type": "markdown",
      "metadata": {
        "id": "sm4XwOfg2e65"
      },
      "source": [
        "This <code>for</code> statement draws a square:\n",
        "\n"
      ]
    },
    {
      "cell_type": "code",
      "execution_count": null,
      "metadata": {
        "colab": {
          "base_uri": "https://localhost:8080/"
        },
        "id": "EikOad5NxeD_",
        "outputId": "086cbdd2-eb9c-47d5-821f-180c7d2bcba8"
      },
      "outputs": [
        {
          "output_type": "display_data",
          "data": {
            "text/plain": [
              "<IPython.core.display.HTML object>"
            ],
            "text/html": [
              "\n",
              "      <svg width=\"800\" height=\"500\">\n",
              "        <rect width=\"100%\" height=\"100%\" fill=\"black\"/>\n",
              "        <line x1=\"400\" y1=\"250\" x2=\"400.0\" y2=\"150.0\" stroke-linecap=\"round\" style=\"stroke:white;stroke-width:4\"/><line x1=\"400.0\" y1=\"150.0\" x2=\"300.0\" y2=\"150.0\" stroke-linecap=\"round\" style=\"stroke:white;stroke-width:4\"/><line x1=\"300.0\" y1=\"150.0\" x2=\"300.0\" y2=\"250.0\" stroke-linecap=\"round\" style=\"stroke:white;stroke-width:4\"/><line x1=\"300.0\" y1=\"250.0\" x2=\"400.0\" y2=\"250.0\" stroke-linecap=\"round\" style=\"stroke:white;stroke-width:4\"/>\n",
              "        <g visibility=visible transform=\"rotate(360,400.0,250.0) translate(382.0, 232.0)\">\n",
              "<path style=\" stroke:none;fill-rule:evenodd;fill:white;fill-opacity:1;\" d=\"M 18.214844 0.632812 C 16.109375 1.800781 15.011719 4.074219 15.074219 7.132812 L 15.085938 7.652344 L 14.785156 7.496094 C 13.476562 6.824219 11.957031 6.671875 10.40625 7.066406 C 8.46875 7.550781 6.515625 9.15625 4.394531 11.992188 C 3.0625 13.777344 2.679688 14.636719 3.042969 15.027344 L 3.15625 15.152344 L 3.519531 15.152344 C 4.238281 15.152344 4.828125 14.886719 8.1875 13.039062 C 9.386719 12.378906 10.371094 11.839844 10.378906 11.839844 C 10.386719 11.839844 10.355469 11.929688 10.304688 12.035156 C 9.832031 13.09375 9.257812 14.820312 8.96875 16.078125 C 7.914062 20.652344 8.617188 24.53125 11.070312 27.660156 C 11.351562 28.015625 11.363281 27.914062 10.972656 28.382812 C 8.925781 30.84375 7.945312 33.28125 8.238281 35.1875 C 8.289062 35.527344 8.28125 35.523438 8.917969 35.523438 C 10.941406 35.523438 13.074219 34.207031 15.136719 31.6875 C 15.359375 31.417969 15.328125 31.425781 15.5625 31.574219 C 16.292969 32.042969 18.023438 32.964844 18.175781 32.964844 C 18.335938 32.964844 19.941406 32.210938 20.828125 31.71875 C 20.996094 31.625 21.136719 31.554688 21.136719 31.558594 C 21.203125 31.664062 21.898438 32.414062 22.222656 32.730469 C 23.835938 34.300781 25.5625 35.132812 27.582031 35.300781 C 27.90625 35.328125 27.9375 35.308594 28.007812 34.984375 C 28.382812 33.242188 27.625 30.925781 25.863281 28.425781 L 25.542969 27.96875 L 25.699219 27.785156 C 28.945312 23.960938 29.132812 18.699219 26.257812 11.96875 L 26.207031 11.84375 L 27.945312 12.703125 C 31.53125 14.476562 32.316406 14.800781 33.03125 14.800781 C 33.976562 14.800781 33.78125 13.9375 32.472656 12.292969 C 28.519531 7.355469 25.394531 5.925781 21.921875 7.472656 L 21.558594 7.636719 L 21.578125 7.542969 C 21.699219 6.992188 21.761719 5.742188 21.699219 5.164062 C 21.496094 3.296875 20.664062 1.964844 19.003906 0.855469 C 18.480469 0.503906 18.457031 0.5 18.214844 0.632812\"/>\n",
              "</g>\n",
              "      </svg>\n",
              "    "
            ]
          },
          "metadata": {}
        }
      ],
      "source": [
        "turtle.initializeTurtle()\n",
        "\n",
        "for _ in range(4):\n",
        "    turtle.fd(100)\n",
        "    turtle.lt(90)"
      ]
    },
    {
      "cell_type": "markdown",
      "metadata": {
        "id": "TZokDJYY3Kot"
      },
      "source": [
        "<p>This version – actually – slightly differs from the previous one, because of the <em>extra turn it takes</em></p>\n",
        "<p>... but it <strong>simplifies the code</strong> repeating the same thing through the loop!</p>"
      ]
    },
    {
      "cell_type": "markdown",
      "metadata": {
        "id": "uJWPB_Kg3fWQ"
      },
      "source": [
        "# Assignment"
      ]
    },
    {
      "cell_type": "markdown",
      "metadata": {
        "id": "OYcXEAbL32Oh"
      },
      "source": [
        "<ol>\n",
        "<li>A function <code>square</code> takes no <strong>parameter</strong> and draws a square. Call <code>square</code> function passing no <strong>argument</strong>.</li>\n",
        "<li>The <code>square</code> function takes the side's <code>length</code> as <strong>parameter</strong>. Pass this <strong>argument</strong> and <strong>test</strong> a range of values too.</li>\n",
        "<li>A function <code>polygon</code> takes an additional <strong>parameter</strong> <code>n</code> and draws an <em>n-sided</em> regular polygon.</li>\n",
        "<li>A function <code>circle</code> takes as additional <strong>parameter</strong> a radius <code>r</code> and draws an approximate circle. <strong>Test</strong> a range of values of <code>r</code>.</li>\n",
        "<li>A function <code>arc</code> takes as additional <strong>parameter</strong> an <code>angle</code> (degrees) and draws a sector of a circle.</li>\n",
        "</ol>"
      ]
    },
    {
      "cell_type": "code",
      "source": [
        "!pip3 install ColabTurtle\n",
        "import ColabTurtle.Turtle as turtle\n",
        "turtle.initializeTurtle()\n"
      ],
      "metadata": {
        "id": "SdWHNaiSZL3D",
        "outputId": "b93b1951-45bb-4a7e-8789-51dbcedfcffd",
        "colab": {
          "base_uri": "https://localhost:8080/",
          "height": 539
        }
      },
      "execution_count": null,
      "outputs": [
        {
          "output_type": "stream",
          "name": "stdout",
          "text": [
            "Requirement already satisfied: ColabTurtle in /usr/local/lib/python3.10/dist-packages (2.1.0)\n"
          ]
        },
        {
          "output_type": "display_data",
          "data": {
            "text/plain": [
              "<IPython.core.display.HTML object>"
            ],
            "text/html": [
              "\n",
              "      <svg width=\"800\" height=\"500\">\n",
              "        <rect width=\"100%\" height=\"100%\" fill=\"black\"/>\n",
              "        \n",
              "        <g visibility=visible transform=\"rotate(360,400,250) translate(382, 232)\">\n",
              "<path style=\" stroke:none;fill-rule:evenodd;fill:white;fill-opacity:1;\" d=\"M 18.214844 0.632812 C 16.109375 1.800781 15.011719 4.074219 15.074219 7.132812 L 15.085938 7.652344 L 14.785156 7.496094 C 13.476562 6.824219 11.957031 6.671875 10.40625 7.066406 C 8.46875 7.550781 6.515625 9.15625 4.394531 11.992188 C 3.0625 13.777344 2.679688 14.636719 3.042969 15.027344 L 3.15625 15.152344 L 3.519531 15.152344 C 4.238281 15.152344 4.828125 14.886719 8.1875 13.039062 C 9.386719 12.378906 10.371094 11.839844 10.378906 11.839844 C 10.386719 11.839844 10.355469 11.929688 10.304688 12.035156 C 9.832031 13.09375 9.257812 14.820312 8.96875 16.078125 C 7.914062 20.652344 8.617188 24.53125 11.070312 27.660156 C 11.351562 28.015625 11.363281 27.914062 10.972656 28.382812 C 8.925781 30.84375 7.945312 33.28125 8.238281 35.1875 C 8.289062 35.527344 8.28125 35.523438 8.917969 35.523438 C 10.941406 35.523438 13.074219 34.207031 15.136719 31.6875 C 15.359375 31.417969 15.328125 31.425781 15.5625 31.574219 C 16.292969 32.042969 18.023438 32.964844 18.175781 32.964844 C 18.335938 32.964844 19.941406 32.210938 20.828125 31.71875 C 20.996094 31.625 21.136719 31.554688 21.136719 31.558594 C 21.203125 31.664062 21.898438 32.414062 22.222656 32.730469 C 23.835938 34.300781 25.5625 35.132812 27.582031 35.300781 C 27.90625 35.328125 27.9375 35.308594 28.007812 34.984375 C 28.382812 33.242188 27.625 30.925781 25.863281 28.425781 L 25.542969 27.96875 L 25.699219 27.785156 C 28.945312 23.960938 29.132812 18.699219 26.257812 11.96875 L 26.207031 11.84375 L 27.945312 12.703125 C 31.53125 14.476562 32.316406 14.800781 33.03125 14.800781 C 33.976562 14.800781 33.78125 13.9375 32.472656 12.292969 C 28.519531 7.355469 25.394531 5.925781 21.921875 7.472656 L 21.558594 7.636719 L 21.578125 7.542969 C 21.699219 6.992188 21.761719 5.742188 21.699219 5.164062 C 21.496094 3.296875 20.664062 1.964844 19.003906 0.855469 C 18.480469 0.503906 18.457031 0.5 18.214844 0.632812\"/>\n",
              "</g>\n",
              "      </svg>\n",
              "    "
            ]
          },
          "metadata": {}
        }
      ]
    },
    {
      "cell_type": "code",
      "source": [
        "def square(): #a function that makes a square with no parameter\n",
        "  turtle.clear()\n",
        "  for _ in range(4):\n",
        "    turtle.forward(100)\n",
        "    turtle.right(90)\n",
        "\n",
        "square()"
      ],
      "metadata": {
        "id": "NrzmSPkaZofo",
        "outputId": "8b3cfe56-a153-4eb6-85b2-f9f64276eb4b",
        "colab": {
          "base_uri": "https://localhost:8080/",
          "height": 521
        }
      },
      "execution_count": null,
      "outputs": [
        {
          "output_type": "display_data",
          "data": {
            "text/plain": [
              "<IPython.core.display.HTML object>"
            ],
            "text/html": [
              "\n",
              "      <svg width=\"800\" height=\"500\">\n",
              "        <rect width=\"100%\" height=\"100%\" fill=\"black\"/>\n",
              "        \n",
              "        <g visibility=visible transform=\"rotate(360,400.0,250.0) translate(382.0, 232.0)\">\n",
              "<path style=\" stroke:none;fill-rule:evenodd;fill:white;fill-opacity:1;\" d=\"M 18.214844 0.632812 C 16.109375 1.800781 15.011719 4.074219 15.074219 7.132812 L 15.085938 7.652344 L 14.785156 7.496094 C 13.476562 6.824219 11.957031 6.671875 10.40625 7.066406 C 8.46875 7.550781 6.515625 9.15625 4.394531 11.992188 C 3.0625 13.777344 2.679688 14.636719 3.042969 15.027344 L 3.15625 15.152344 L 3.519531 15.152344 C 4.238281 15.152344 4.828125 14.886719 8.1875 13.039062 C 9.386719 12.378906 10.371094 11.839844 10.378906 11.839844 C 10.386719 11.839844 10.355469 11.929688 10.304688 12.035156 C 9.832031 13.09375 9.257812 14.820312 8.96875 16.078125 C 7.914062 20.652344 8.617188 24.53125 11.070312 27.660156 C 11.351562 28.015625 11.363281 27.914062 10.972656 28.382812 C 8.925781 30.84375 7.945312 33.28125 8.238281 35.1875 C 8.289062 35.527344 8.28125 35.523438 8.917969 35.523438 C 10.941406 35.523438 13.074219 34.207031 15.136719 31.6875 C 15.359375 31.417969 15.328125 31.425781 15.5625 31.574219 C 16.292969 32.042969 18.023438 32.964844 18.175781 32.964844 C 18.335938 32.964844 19.941406 32.210938 20.828125 31.71875 C 20.996094 31.625 21.136719 31.554688 21.136719 31.558594 C 21.203125 31.664062 21.898438 32.414062 22.222656 32.730469 C 23.835938 34.300781 25.5625 35.132812 27.582031 35.300781 C 27.90625 35.328125 27.9375 35.308594 28.007812 34.984375 C 28.382812 33.242188 27.625 30.925781 25.863281 28.425781 L 25.542969 27.96875 L 25.699219 27.785156 C 28.945312 23.960938 29.132812 18.699219 26.257812 11.96875 L 26.207031 11.84375 L 27.945312 12.703125 C 31.53125 14.476562 32.316406 14.800781 33.03125 14.800781 C 33.976562 14.800781 33.78125 13.9375 32.472656 12.292969 C 28.519531 7.355469 25.394531 5.925781 21.921875 7.472656 L 21.558594 7.636719 L 21.578125 7.542969 C 21.699219 6.992188 21.761719 5.742188 21.699219 5.164062 C 21.496094 3.296875 20.664062 1.964844 19.003906 0.855469 C 18.480469 0.503906 18.457031 0.5 18.214844 0.632812\"/>\n",
              "</g>\n",
              "      </svg>\n",
              "    "
            ]
          },
          "metadata": {}
        }
      ]
    },
    {
      "cell_type": "code",
      "source": [
        "leg = input('What should the square side length be?\\n')\n",
        "\n",
        "def square(length): #a function that makes a square with different side lengths\n",
        "  turtle.clear()\n",
        "  for _ in range(4):\n",
        "    turtle.forward(length)\n",
        "    turtle.right(90)\n",
        "\n",
        "square(int(leg))"
      ],
      "metadata": {
        "id": "rmEtxezVZLxn",
        "outputId": "d116c592-1b04-48d3-ef96-441b50bb1fc3",
        "colab": {
          "base_uri": "https://localhost:8080/",
          "height": 557
        }
      },
      "execution_count": null,
      "outputs": [
        {
          "name": "stdout",
          "output_type": "stream",
          "text": [
            "What should the square side length be?\n",
            "40\n"
          ]
        },
        {
          "output_type": "display_data",
          "data": {
            "text/plain": [
              "<IPython.core.display.HTML object>"
            ],
            "text/html": [
              "\n",
              "      <svg width=\"800\" height=\"500\">\n",
              "        <rect width=\"100%\" height=\"100%\" fill=\"black\"/>\n",
              "        \n",
              "        <g visibility=visible transform=\"rotate(360,400.0,250.0) translate(382.0, 232.0)\">\n",
              "<path style=\" stroke:none;fill-rule:evenodd;fill:white;fill-opacity:1;\" d=\"M 18.214844 0.632812 C 16.109375 1.800781 15.011719 4.074219 15.074219 7.132812 L 15.085938 7.652344 L 14.785156 7.496094 C 13.476562 6.824219 11.957031 6.671875 10.40625 7.066406 C 8.46875 7.550781 6.515625 9.15625 4.394531 11.992188 C 3.0625 13.777344 2.679688 14.636719 3.042969 15.027344 L 3.15625 15.152344 L 3.519531 15.152344 C 4.238281 15.152344 4.828125 14.886719 8.1875 13.039062 C 9.386719 12.378906 10.371094 11.839844 10.378906 11.839844 C 10.386719 11.839844 10.355469 11.929688 10.304688 12.035156 C 9.832031 13.09375 9.257812 14.820312 8.96875 16.078125 C 7.914062 20.652344 8.617188 24.53125 11.070312 27.660156 C 11.351562 28.015625 11.363281 27.914062 10.972656 28.382812 C 8.925781 30.84375 7.945312 33.28125 8.238281 35.1875 C 8.289062 35.527344 8.28125 35.523438 8.917969 35.523438 C 10.941406 35.523438 13.074219 34.207031 15.136719 31.6875 C 15.359375 31.417969 15.328125 31.425781 15.5625 31.574219 C 16.292969 32.042969 18.023438 32.964844 18.175781 32.964844 C 18.335938 32.964844 19.941406 32.210938 20.828125 31.71875 C 20.996094 31.625 21.136719 31.554688 21.136719 31.558594 C 21.203125 31.664062 21.898438 32.414062 22.222656 32.730469 C 23.835938 34.300781 25.5625 35.132812 27.582031 35.300781 C 27.90625 35.328125 27.9375 35.308594 28.007812 34.984375 C 28.382812 33.242188 27.625 30.925781 25.863281 28.425781 L 25.542969 27.96875 L 25.699219 27.785156 C 28.945312 23.960938 29.132812 18.699219 26.257812 11.96875 L 26.207031 11.84375 L 27.945312 12.703125 C 31.53125 14.476562 32.316406 14.800781 33.03125 14.800781 C 33.976562 14.800781 33.78125 13.9375 32.472656 12.292969 C 28.519531 7.355469 25.394531 5.925781 21.921875 7.472656 L 21.558594 7.636719 L 21.578125 7.542969 C 21.699219 6.992188 21.761719 5.742188 21.699219 5.164062 C 21.496094 3.296875 20.664062 1.964844 19.003906 0.855469 C 18.480469 0.503906 18.457031 0.5 18.214844 0.632812\"/>\n",
              "</g>\n",
              "      </svg>\n",
              "    "
            ]
          },
          "metadata": {}
        }
      ]
    },
    {
      "cell_type": "code",
      "source": [
        "screen_width = turtle.window_width() #data used to center the turtle on the screen... it kept starting in bad places\n",
        "screen_height = turtle.window_height()\n",
        "center_x = screen_width / 2\n",
        "center_y = screen_height / 2\n",
        "\n",
        "num_side = input('How many sides should the polygon have?\\n')\n",
        "leg = input('How long should each side be\\n')\n",
        "\n",
        "def polygon(num_sides,length): #a function that makes a polygon with side n and specified side lengths l\n",
        "  turtle.clear()\n",
        "  turtle.penup()\n",
        "  turtle.goto(center_x,center_y)\n",
        "  turtle.pendown()\n",
        "  turtle.speed(5)\n",
        "  for _ in range(num_sides):\n",
        "    turtle.forward(length)\n",
        "    turtle.right(180-(((num_sides-2)*180)/num_sides))\n",
        "\n",
        "\n",
        "\n",
        "polygon(int(num_side),int(leg))\n",
        "\n"
      ],
      "metadata": {
        "id": "MZqMlfsCZLri",
        "outputId": "999e623b-82ec-42cd-92d5-7f70db5cbcb8",
        "colab": {
          "base_uri": "https://localhost:8080/",
          "height": 592
        }
      },
      "execution_count": null,
      "outputs": [
        {
          "name": "stdout",
          "output_type": "stream",
          "text": [
            "How many sides should the polygon have?\n",
            "7\n",
            "How long should each side be\n",
            "50\n"
          ]
        },
        {
          "output_type": "display_data",
          "data": {
            "text/plain": [
              "<IPython.core.display.HTML object>"
            ],
            "text/html": [
              "\n",
              "      <svg width=\"800\" height=\"500\">\n",
              "        <rect width=\"100%\" height=\"100%\" fill=\"black\"/>\n",
              "        <line x1=\"400.0\" y1=\"250.0\" x2=\"400.0\" y2=\"200.0\" stroke-linecap=\"round\" style=\"stroke:white;stroke-width:4\"/><line x1=\"400.0\" y1=\"200.0\" x2=\"439.092\" y2=\"168.826\" stroke-linecap=\"round\" style=\"stroke:white;stroke-width:4\"/><line x1=\"439.092\" y1=\"168.826\" x2=\"487.838\" y2=\"179.952\" stroke-linecap=\"round\" style=\"stroke:white;stroke-width:4\"/><line x1=\"487.838\" y1=\"179.952\" x2=\"509.532\" y2=\"225.0\" stroke-linecap=\"round\" style=\"stroke:white;stroke-width:4\"/><line x1=\"509.532\" y1=\"225.0\" x2=\"487.838\" y2=\"270.048\" stroke-linecap=\"round\" style=\"stroke:white;stroke-width:4\"/><line x1=\"487.838\" y1=\"270.048\" x2=\"439.092\" y2=\"281.174\" stroke-linecap=\"round\" style=\"stroke:white;stroke-width:4\"/><line x1=\"439.092\" y1=\"281.174\" x2=\"400.0\" y2=\"250.0\" stroke-linecap=\"round\" style=\"stroke:white;stroke-width:4\"/>\n",
              "        <g visibility=visible transform=\"rotate(360.0,400.0,250.0) translate(382.0, 232.0)\">\n",
              "<path style=\" stroke:none;fill-rule:evenodd;fill:white;fill-opacity:1;\" d=\"M 18.214844 0.632812 C 16.109375 1.800781 15.011719 4.074219 15.074219 7.132812 L 15.085938 7.652344 L 14.785156 7.496094 C 13.476562 6.824219 11.957031 6.671875 10.40625 7.066406 C 8.46875 7.550781 6.515625 9.15625 4.394531 11.992188 C 3.0625 13.777344 2.679688 14.636719 3.042969 15.027344 L 3.15625 15.152344 L 3.519531 15.152344 C 4.238281 15.152344 4.828125 14.886719 8.1875 13.039062 C 9.386719 12.378906 10.371094 11.839844 10.378906 11.839844 C 10.386719 11.839844 10.355469 11.929688 10.304688 12.035156 C 9.832031 13.09375 9.257812 14.820312 8.96875 16.078125 C 7.914062 20.652344 8.617188 24.53125 11.070312 27.660156 C 11.351562 28.015625 11.363281 27.914062 10.972656 28.382812 C 8.925781 30.84375 7.945312 33.28125 8.238281 35.1875 C 8.289062 35.527344 8.28125 35.523438 8.917969 35.523438 C 10.941406 35.523438 13.074219 34.207031 15.136719 31.6875 C 15.359375 31.417969 15.328125 31.425781 15.5625 31.574219 C 16.292969 32.042969 18.023438 32.964844 18.175781 32.964844 C 18.335938 32.964844 19.941406 32.210938 20.828125 31.71875 C 20.996094 31.625 21.136719 31.554688 21.136719 31.558594 C 21.203125 31.664062 21.898438 32.414062 22.222656 32.730469 C 23.835938 34.300781 25.5625 35.132812 27.582031 35.300781 C 27.90625 35.328125 27.9375 35.308594 28.007812 34.984375 C 28.382812 33.242188 27.625 30.925781 25.863281 28.425781 L 25.542969 27.96875 L 25.699219 27.785156 C 28.945312 23.960938 29.132812 18.699219 26.257812 11.96875 L 26.207031 11.84375 L 27.945312 12.703125 C 31.53125 14.476562 32.316406 14.800781 33.03125 14.800781 C 33.976562 14.800781 33.78125 13.9375 32.472656 12.292969 C 28.519531 7.355469 25.394531 5.925781 21.921875 7.472656 L 21.558594 7.636719 L 21.578125 7.542969 C 21.699219 6.992188 21.761719 5.742188 21.699219 5.164062 C 21.496094 3.296875 20.664062 1.964844 19.003906 0.855469 C 18.480469 0.503906 18.457031 0.5 18.214844 0.632812\"/>\n",
              "</g>\n",
              "      </svg>\n",
              "    "
            ]
          },
          "metadata": {}
        }
      ]
    },
    {
      "cell_type": "code",
      "source": [
        "circ_rad = input('What should the circle radius be?\\n')\n",
        "\n",
        "def circ(radius): # I think it works now. this function makes a circle of radius r. the circle is approximate and the radius is relative that that of r=1\n",
        "  turtle.clear()\n",
        "  turtle.penup()\n",
        "  turtle.goto(center_x,center_y)\n",
        "  turtle.pendown()\n",
        "  turtle.pencolor(\"white\")\n",
        "  turtle.speed(10)\n",
        "\n",
        "  for _ in range(360):\n",
        "    turtle.forward(radius)\n",
        "    turtle.right(1)\n",
        "\n",
        "\n",
        "circ(int(circ_rad)) #radius is 57.3 * the radius inputted"
      ],
      "metadata": {
        "id": "5AWjLIeJZLjt",
        "colab": {
          "base_uri": "https://localhost:8080/",
          "height": 557
        },
        "outputId": "c5b43071-7296-4243-c6fb-61ca2b32dfc2"
      },
      "execution_count": null,
      "outputs": [
        {
          "name": "stdout",
          "output_type": "stream",
          "text": [
            "What should the circle radius be?\n",
            "3\n"
          ]
        },
        {
          "output_type": "display_data",
          "data": {
            "text/plain": [
              "<IPython.core.display.HTML object>"
            ],
            "text/html": [
              "\n",
              "      <svg width=\"800\" height=\"500\">\n",
              "        <rect width=\"100%\" height=\"100%\" fill=\"black\"/>\n",
              "        <line x1=\"400.0\" y1=\"250.0\" x2=\"400.0\" y2=\"247.0\" stroke-linecap=\"round\" style=\"stroke:white;stroke-width:4\"/><line x1=\"400.0\" y1=\"247.0\" x2=\"400.052\" y2=\"244.0\" stroke-linecap=\"round\" style=\"stroke:white;stroke-width:4\"/><line x1=\"400.052\" y1=\"244.0\" x2=\"400.157\" y2=\"241.002\" stroke-linecap=\"round\" style=\"stroke:white;stroke-width:4\"/><line x1=\"400.157\" y1=\"241.002\" x2=\"400.314\" y2=\"238.006\" stroke-linecap=\"round\" style=\"stroke:white;stroke-width:4\"/><line x1=\"400.314\" y1=\"238.006\" x2=\"400.523\" y2=\"235.013\" stroke-linecap=\"round\" style=\"stroke:white;stroke-width:4\"/><line x1=\"400.523\" y1=\"235.013\" x2=\"400.784\" y2=\"232.024\" stroke-linecap=\"round\" style=\"stroke:white;stroke-width:4\"/><line x1=\"400.784\" y1=\"232.024\" x2=\"401.098\" y2=\"229.04\" stroke-linecap=\"round\" style=\"stroke:white;stroke-width:4\"/><line x1=\"401.098\" y1=\"229.04\" x2=\"401.464\" y2=\"226.062\" stroke-linecap=\"round\" style=\"stroke:white;stroke-width:4\"/><line x1=\"401.464\" y1=\"226.062\" x2=\"401.882\" y2=\"223.091\" stroke-linecap=\"round\" style=\"stroke:white;stroke-width:4\"/><line x1=\"401.882\" y1=\"223.091\" x2=\"402.351\" y2=\"220.128\" stroke-linecap=\"round\" style=\"stroke:white;stroke-width:4\"/><line x1=\"402.351\" y1=\"220.128\" x2=\"402.872\" y2=\"217.174\" stroke-linecap=\"round\" style=\"stroke:white;stroke-width:4\"/><line x1=\"402.872\" y1=\"217.174\" x2=\"403.444\" y2=\"214.229\" stroke-linecap=\"round\" style=\"stroke:white;stroke-width:4\"/><line x1=\"403.444\" y1=\"214.229\" x2=\"404.068\" y2=\"211.295\" stroke-linecap=\"round\" style=\"stroke:white;stroke-width:4\"/><line x1=\"404.068\" y1=\"211.295\" x2=\"404.743\" y2=\"208.372\" stroke-linecap=\"round\" style=\"stroke:white;stroke-width:4\"/><line x1=\"404.743\" y1=\"208.372\" x2=\"405.469\" y2=\"205.461\" stroke-linecap=\"round\" style=\"stroke:white;stroke-width:4\"/><line x1=\"405.469\" y1=\"205.461\" x2=\"406.245\" y2=\"202.563\" stroke-linecap=\"round\" style=\"stroke:white;stroke-width:4\"/><line x1=\"406.245\" y1=\"202.563\" x2=\"407.072\" y2=\"199.679\" stroke-linecap=\"round\" style=\"stroke:white;stroke-width:4\"/><line x1=\"407.072\" y1=\"199.679\" x2=\"407.949\" y2=\"196.81\" stroke-linecap=\"round\" style=\"stroke:white;stroke-width:4\"/><line x1=\"407.949\" y1=\"196.81\" x2=\"408.876\" y2=\"193.957\" stroke-linecap=\"round\" style=\"stroke:white;stroke-width:4\"/><line x1=\"408.876\" y1=\"193.957\" x2=\"409.853\" y2=\"191.12\" stroke-linecap=\"round\" style=\"stroke:white;stroke-width:4\"/><line x1=\"409.853\" y1=\"191.12\" x2=\"410.879\" y2=\"188.301\" stroke-linecap=\"round\" style=\"stroke:white;stroke-width:4\"/><line x1=\"410.879\" y1=\"188.301\" x2=\"411.954\" y2=\"185.5\" stroke-linecap=\"round\" style=\"stroke:white;stroke-width:4\"/><line x1=\"411.954\" y1=\"185.5\" x2=\"413.078\" y2=\"182.718\" stroke-linecap=\"round\" style=\"stroke:white;stroke-width:4\"/><line x1=\"413.078\" y1=\"182.718\" x2=\"414.25\" y2=\"179.956\" stroke-linecap=\"round\" style=\"stroke:white;stroke-width:4\"/><line x1=\"414.25\" y1=\"179.956\" x2=\"415.47\" y2=\"177.215\" stroke-linecap=\"round\" style=\"stroke:white;stroke-width:4\"/><line x1=\"415.47\" y1=\"177.215\" x2=\"416.738\" y2=\"174.496\" stroke-linecap=\"round\" style=\"stroke:white;stroke-width:4\"/><line x1=\"416.738\" y1=\"174.496\" x2=\"418.053\" y2=\"171.8\" stroke-linecap=\"round\" style=\"stroke:white;stroke-width:4\"/><line x1=\"418.053\" y1=\"171.8\" x2=\"419.415\" y2=\"169.127\" stroke-linecap=\"round\" style=\"stroke:white;stroke-width:4\"/><line x1=\"419.415\" y1=\"169.127\" x2=\"420.823\" y2=\"166.478\" stroke-linecap=\"round\" style=\"stroke:white;stroke-width:4\"/><line x1=\"420.823\" y1=\"166.478\" x2=\"422.277\" y2=\"163.854\" stroke-linecap=\"round\" style=\"stroke:white;stroke-width:4\"/><line x1=\"422.277\" y1=\"163.854\" x2=\"423.777\" y2=\"161.256\" stroke-linecap=\"round\" style=\"stroke:white;stroke-width:4\"/><line x1=\"423.777\" y1=\"161.256\" x2=\"425.322\" y2=\"158.684\" stroke-linecap=\"round\" style=\"stroke:white;stroke-width:4\"/><line x1=\"425.322\" y1=\"158.684\" x2=\"426.912\" y2=\"156.14\" stroke-linecap=\"round\" style=\"stroke:white;stroke-width:4\"/><line x1=\"426.912\" y1=\"156.14\" x2=\"428.546\" y2=\"153.624\" stroke-linecap=\"round\" style=\"stroke:white;stroke-width:4\"/><line x1=\"428.546\" y1=\"153.624\" x2=\"430.224\" y2=\"151.137\" stroke-linecap=\"round\" style=\"stroke:white;stroke-width:4\"/><line x1=\"430.224\" y1=\"151.137\" x2=\"431.945\" y2=\"148.68\" stroke-linecap=\"round\" style=\"stroke:white;stroke-width:4\"/><line x1=\"431.945\" y1=\"148.68\" x2=\"433.708\" y2=\"146.253\" stroke-linecap=\"round\" style=\"stroke:white;stroke-width:4\"/><line x1=\"433.708\" y1=\"146.253\" x2=\"435.513\" y2=\"143.857\" stroke-linecap=\"round\" style=\"stroke:white;stroke-width:4\"/><line x1=\"435.513\" y1=\"143.857\" x2=\"437.36\" y2=\"141.493\" stroke-linecap=\"round\" style=\"stroke:white;stroke-width:4\"/><line x1=\"437.36\" y1=\"141.493\" x2=\"439.248\" y2=\"139.162\" stroke-linecap=\"round\" style=\"stroke:white;stroke-width:4\"/><line x1=\"439.248\" y1=\"139.162\" x2=\"441.176\" y2=\"136.864\" stroke-linecap=\"round\" style=\"stroke:white;stroke-width:4\"/><line x1=\"441.176\" y1=\"136.864\" x2=\"443.144\" y2=\"134.6\" stroke-linecap=\"round\" style=\"stroke:white;stroke-width:4\"/><line x1=\"443.144\" y1=\"134.6\" x2=\"445.151\" y2=\"132.371\" stroke-linecap=\"round\" style=\"stroke:white;stroke-width:4\"/><line x1=\"445.151\" y1=\"132.371\" x2=\"447.197\" y2=\"130.177\" stroke-linecap=\"round\" style=\"stroke:white;stroke-width:4\"/><line x1=\"447.197\" y1=\"130.177\" x2=\"449.281\" y2=\"128.019\" stroke-linecap=\"round\" style=\"stroke:white;stroke-width:4\"/><line x1=\"449.281\" y1=\"128.019\" x2=\"451.402\" y2=\"125.898\" stroke-linecap=\"round\" style=\"stroke:white;stroke-width:4\"/><line x1=\"451.402\" y1=\"125.898\" x2=\"453.56\" y2=\"123.814\" stroke-linecap=\"round\" style=\"stroke:white;stroke-width:4\"/><line x1=\"453.56\" y1=\"123.814\" x2=\"455.754\" y2=\"121.768\" stroke-linecap=\"round\" style=\"stroke:white;stroke-width:4\"/><line x1=\"455.754\" y1=\"121.768\" x2=\"457.983\" y2=\"119.761\" stroke-linecap=\"round\" style=\"stroke:white;stroke-width:4\"/><line x1=\"457.983\" y1=\"119.761\" x2=\"460.247\" y2=\"117.793\" stroke-linecap=\"round\" style=\"stroke:white;stroke-width:4\"/><line x1=\"460.247\" y1=\"117.793\" x2=\"462.545\" y2=\"115.865\" stroke-linecap=\"round\" style=\"stroke:white;stroke-width:4\"/><line x1=\"462.545\" y1=\"115.865\" x2=\"464.876\" y2=\"113.977\" stroke-linecap=\"round\" style=\"stroke:white;stroke-width:4\"/><line x1=\"464.876\" y1=\"113.977\" x2=\"467.24\" y2=\"112.13\" stroke-linecap=\"round\" style=\"stroke:white;stroke-width:4\"/><line x1=\"467.24\" y1=\"112.13\" x2=\"469.636\" y2=\"110.325\" stroke-linecap=\"round\" style=\"stroke:white;stroke-width:4\"/><line x1=\"469.636\" y1=\"110.325\" x2=\"472.063\" y2=\"108.562\" stroke-linecap=\"round\" style=\"stroke:white;stroke-width:4\"/><line x1=\"472.063\" y1=\"108.562\" x2=\"474.52\" y2=\"106.841\" stroke-linecap=\"round\" style=\"stroke:white;stroke-width:4\"/><line x1=\"474.52\" y1=\"106.841\" x2=\"477.007\" y2=\"105.163\" stroke-linecap=\"round\" style=\"stroke:white;stroke-width:4\"/><line x1=\"477.007\" y1=\"105.163\" x2=\"479.523\" y2=\"103.529\" stroke-linecap=\"round\" style=\"stroke:white;stroke-width:4\"/><line x1=\"479.523\" y1=\"103.529\" x2=\"482.067\" y2=\"101.939\" stroke-linecap=\"round\" style=\"stroke:white;stroke-width:4\"/><line x1=\"482.067\" y1=\"101.939\" x2=\"484.639\" y2=\"100.394\" stroke-linecap=\"round\" style=\"stroke:white;stroke-width:4\"/><line x1=\"484.639\" y1=\"100.394\" x2=\"487.237\" y2=\"98.894\" stroke-linecap=\"round\" style=\"stroke:white;stroke-width:4\"/><line x1=\"487.237\" y1=\"98.894\" x2=\"489.861\" y2=\"97.44\" stroke-linecap=\"round\" style=\"stroke:white;stroke-width:4\"/><line x1=\"489.861\" y1=\"97.44\" x2=\"492.51\" y2=\"96.032\" stroke-linecap=\"round\" style=\"stroke:white;stroke-width:4\"/><line x1=\"492.51\" y1=\"96.032\" x2=\"495.183\" y2=\"94.67\" stroke-linecap=\"round\" style=\"stroke:white;stroke-width:4\"/><line x1=\"495.183\" y1=\"94.67\" x2=\"497.879\" y2=\"93.355\" stroke-linecap=\"round\" style=\"stroke:white;stroke-width:4\"/><line x1=\"497.879\" y1=\"93.355\" x2=\"500.598\" y2=\"92.087\" stroke-linecap=\"round\" style=\"stroke:white;stroke-width:4\"/><line x1=\"500.598\" y1=\"92.087\" x2=\"503.339\" y2=\"90.867\" stroke-linecap=\"round\" style=\"stroke:white;stroke-width:4\"/><line x1=\"503.339\" y1=\"90.867\" x2=\"506.101\" y2=\"89.695\" stroke-linecap=\"round\" style=\"stroke:white;stroke-width:4\"/><line x1=\"506.101\" y1=\"89.695\" x2=\"508.883\" y2=\"88.571\" stroke-linecap=\"round\" style=\"stroke:white;stroke-width:4\"/><line x1=\"508.883\" y1=\"88.571\" x2=\"511.684\" y2=\"87.496\" stroke-linecap=\"round\" style=\"stroke:white;stroke-width:4\"/><line x1=\"511.684\" y1=\"87.496\" x2=\"514.503\" y2=\"86.47\" stroke-linecap=\"round\" style=\"stroke:white;stroke-width:4\"/><line x1=\"514.503\" y1=\"86.47\" x2=\"517.34\" y2=\"85.493\" stroke-linecap=\"round\" style=\"stroke:white;stroke-width:4\"/><line x1=\"517.34\" y1=\"85.493\" x2=\"520.193\" y2=\"84.566\" stroke-linecap=\"round\" style=\"stroke:white;stroke-width:4\"/><line x1=\"520.193\" y1=\"84.566\" x2=\"523.062\" y2=\"83.689\" stroke-linecap=\"round\" style=\"stroke:white;stroke-width:4\"/><line x1=\"523.062\" y1=\"83.689\" x2=\"525.946\" y2=\"82.862\" stroke-linecap=\"round\" style=\"stroke:white;stroke-width:4\"/><line x1=\"525.946\" y1=\"82.862\" x2=\"528.844\" y2=\"82.086\" stroke-linecap=\"round\" style=\"stroke:white;stroke-width:4\"/><line x1=\"528.844\" y1=\"82.086\" x2=\"531.755\" y2=\"81.36\" stroke-linecap=\"round\" style=\"stroke:white;stroke-width:4\"/><line x1=\"531.755\" y1=\"81.36\" x2=\"534.678\" y2=\"80.685\" stroke-linecap=\"round\" style=\"stroke:white;stroke-width:4\"/><line x1=\"534.678\" y1=\"80.685\" x2=\"537.612\" y2=\"80.061\" stroke-linecap=\"round\" style=\"stroke:white;stroke-width:4\"/><line x1=\"537.612\" y1=\"80.061\" x2=\"540.557\" y2=\"79.489\" stroke-linecap=\"round\" style=\"stroke:white;stroke-width:4\"/><line x1=\"540.557\" y1=\"79.489\" x2=\"543.511\" y2=\"78.968\" stroke-linecap=\"round\" style=\"stroke:white;stroke-width:4\"/><line x1=\"543.511\" y1=\"78.968\" x2=\"546.474\" y2=\"78.499\" stroke-linecap=\"round\" style=\"stroke:white;stroke-width:4\"/><line x1=\"546.474\" y1=\"78.499\" x2=\"549.445\" y2=\"78.081\" stroke-linecap=\"round\" style=\"stroke:white;stroke-width:4\"/><line x1=\"549.445\" y1=\"78.081\" x2=\"552.423\" y2=\"77.715\" stroke-linecap=\"round\" style=\"stroke:white;stroke-width:4\"/><line x1=\"552.423\" y1=\"77.715\" x2=\"555.407\" y2=\"77.401\" stroke-linecap=\"round\" style=\"stroke:white;stroke-width:4\"/><line x1=\"555.407\" y1=\"77.401\" x2=\"558.396\" y2=\"77.14\" stroke-linecap=\"round\" style=\"stroke:white;stroke-width:4\"/><line x1=\"558.396\" y1=\"77.14\" x2=\"561.389\" y2=\"76.931\" stroke-linecap=\"round\" style=\"stroke:white;stroke-width:4\"/><line x1=\"561.389\" y1=\"76.931\" x2=\"564.385\" y2=\"76.774\" stroke-linecap=\"round\" style=\"stroke:white;stroke-width:4\"/><line x1=\"564.385\" y1=\"76.774\" x2=\"567.383\" y2=\"76.669\" stroke-linecap=\"round\" style=\"stroke:white;stroke-width:4\"/><line x1=\"567.383\" y1=\"76.669\" x2=\"570.383\" y2=\"76.617\" stroke-linecap=\"round\" style=\"stroke:white;stroke-width:4\"/><line x1=\"570.383\" y1=\"76.617\" x2=\"573.383\" y2=\"76.617\" stroke-linecap=\"round\" style=\"stroke:white;stroke-width:4\"/><line x1=\"573.383\" y1=\"76.617\" x2=\"576.383\" y2=\"76.669\" stroke-linecap=\"round\" style=\"stroke:white;stroke-width:4\"/><line x1=\"576.383\" y1=\"76.669\" x2=\"579.381\" y2=\"76.774\" stroke-linecap=\"round\" style=\"stroke:white;stroke-width:4\"/><line x1=\"579.381\" y1=\"76.774\" x2=\"582.377\" y2=\"76.931\" stroke-linecap=\"round\" style=\"stroke:white;stroke-width:4\"/><line x1=\"582.377\" y1=\"76.931\" x2=\"585.37\" y2=\"77.14\" stroke-linecap=\"round\" style=\"stroke:white;stroke-width:4\"/><line x1=\"585.37\" y1=\"77.14\" x2=\"588.359\" y2=\"77.401\" stroke-linecap=\"round\" style=\"stroke:white;stroke-width:4\"/><line x1=\"588.359\" y1=\"77.401\" x2=\"591.343\" y2=\"77.715\" stroke-linecap=\"round\" style=\"stroke:white;stroke-width:4\"/><line x1=\"591.343\" y1=\"77.715\" x2=\"594.321\" y2=\"78.081\" stroke-linecap=\"round\" style=\"stroke:white;stroke-width:4\"/><line x1=\"594.321\" y1=\"78.081\" x2=\"597.292\" y2=\"78.499\" stroke-linecap=\"round\" style=\"stroke:white;stroke-width:4\"/><line x1=\"597.292\" y1=\"78.499\" x2=\"600.255\" y2=\"78.968\" stroke-linecap=\"round\" style=\"stroke:white;stroke-width:4\"/><line x1=\"600.255\" y1=\"78.968\" x2=\"603.209\" y2=\"79.489\" stroke-linecap=\"round\" style=\"stroke:white;stroke-width:4\"/><line x1=\"603.209\" y1=\"79.489\" x2=\"606.154\" y2=\"80.061\" stroke-linecap=\"round\" style=\"stroke:white;stroke-width:4\"/><line x1=\"606.154\" y1=\"80.061\" x2=\"609.088\" y2=\"80.685\" stroke-linecap=\"round\" style=\"stroke:white;stroke-width:4\"/><line x1=\"609.088\" y1=\"80.685\" x2=\"612.011\" y2=\"81.36\" stroke-linecap=\"round\" style=\"stroke:white;stroke-width:4\"/><line x1=\"612.011\" y1=\"81.36\" x2=\"614.922\" y2=\"82.086\" stroke-linecap=\"round\" style=\"stroke:white;stroke-width:4\"/><line x1=\"614.922\" y1=\"82.086\" x2=\"617.82\" y2=\"82.862\" stroke-linecap=\"round\" style=\"stroke:white;stroke-width:4\"/><line x1=\"617.82\" y1=\"82.862\" x2=\"620.704\" y2=\"83.689\" stroke-linecap=\"round\" style=\"stroke:white;stroke-width:4\"/><line x1=\"620.704\" y1=\"83.689\" x2=\"623.573\" y2=\"84.566\" stroke-linecap=\"round\" style=\"stroke:white;stroke-width:4\"/><line x1=\"623.573\" y1=\"84.566\" x2=\"626.426\" y2=\"85.493\" stroke-linecap=\"round\" style=\"stroke:white;stroke-width:4\"/><line x1=\"626.426\" y1=\"85.493\" x2=\"629.263\" y2=\"86.47\" stroke-linecap=\"round\" style=\"stroke:white;stroke-width:4\"/><line x1=\"629.263\" y1=\"86.47\" x2=\"632.082\" y2=\"87.496\" stroke-linecap=\"round\" style=\"stroke:white;stroke-width:4\"/><line x1=\"632.082\" y1=\"87.496\" x2=\"634.883\" y2=\"88.571\" stroke-linecap=\"round\" style=\"stroke:white;stroke-width:4\"/><line x1=\"634.883\" y1=\"88.571\" x2=\"637.665\" y2=\"89.695\" stroke-linecap=\"round\" style=\"stroke:white;stroke-width:4\"/><line x1=\"637.665\" y1=\"89.695\" x2=\"640.427\" y2=\"90.867\" stroke-linecap=\"round\" style=\"stroke:white;stroke-width:4\"/><line x1=\"640.427\" y1=\"90.867\" x2=\"643.168\" y2=\"92.087\" stroke-linecap=\"round\" style=\"stroke:white;stroke-width:4\"/><line x1=\"643.168\" y1=\"92.087\" x2=\"645.887\" y2=\"93.355\" stroke-linecap=\"round\" style=\"stroke:white;stroke-width:4\"/><line x1=\"645.887\" y1=\"93.355\" x2=\"648.583\" y2=\"94.67\" stroke-linecap=\"round\" style=\"stroke:white;stroke-width:4\"/><line x1=\"648.583\" y1=\"94.67\" x2=\"651.256\" y2=\"96.032\" stroke-linecap=\"round\" style=\"stroke:white;stroke-width:4\"/><line x1=\"651.256\" y1=\"96.032\" x2=\"653.905\" y2=\"97.44\" stroke-linecap=\"round\" style=\"stroke:white;stroke-width:4\"/><line x1=\"653.905\" y1=\"97.44\" x2=\"656.529\" y2=\"98.894\" stroke-linecap=\"round\" style=\"stroke:white;stroke-width:4\"/><line x1=\"656.529\" y1=\"98.894\" x2=\"659.127\" y2=\"100.394\" stroke-linecap=\"round\" style=\"stroke:white;stroke-width:4\"/><line x1=\"659.127\" y1=\"100.394\" x2=\"661.699\" y2=\"101.939\" stroke-linecap=\"round\" style=\"stroke:white;stroke-width:4\"/><line x1=\"661.699\" y1=\"101.939\" x2=\"664.243\" y2=\"103.529\" stroke-linecap=\"round\" style=\"stroke:white;stroke-width:4\"/><line x1=\"664.243\" y1=\"103.529\" x2=\"666.759\" y2=\"105.163\" stroke-linecap=\"round\" style=\"stroke:white;stroke-width:4\"/><line x1=\"666.759\" y1=\"105.163\" x2=\"669.246\" y2=\"106.841\" stroke-linecap=\"round\" style=\"stroke:white;stroke-width:4\"/><line x1=\"669.246\" y1=\"106.841\" x2=\"671.703\" y2=\"108.562\" stroke-linecap=\"round\" style=\"stroke:white;stroke-width:4\"/><line x1=\"671.703\" y1=\"108.562\" x2=\"674.13\" y2=\"110.325\" stroke-linecap=\"round\" style=\"stroke:white;stroke-width:4\"/><line x1=\"674.13\" y1=\"110.325\" x2=\"676.526\" y2=\"112.13\" stroke-linecap=\"round\" style=\"stroke:white;stroke-width:4\"/><line x1=\"676.526\" y1=\"112.13\" x2=\"678.89\" y2=\"113.977\" stroke-linecap=\"round\" style=\"stroke:white;stroke-width:4\"/><line x1=\"678.89\" y1=\"113.977\" x2=\"681.221\" y2=\"115.865\" stroke-linecap=\"round\" style=\"stroke:white;stroke-width:4\"/><line x1=\"681.221\" y1=\"115.865\" x2=\"683.519\" y2=\"117.793\" stroke-linecap=\"round\" style=\"stroke:white;stroke-width:4\"/><line x1=\"683.519\" y1=\"117.793\" x2=\"685.783\" y2=\"119.761\" stroke-linecap=\"round\" style=\"stroke:white;stroke-width:4\"/><line x1=\"685.783\" y1=\"119.761\" x2=\"688.012\" y2=\"121.768\" stroke-linecap=\"round\" style=\"stroke:white;stroke-width:4\"/><line x1=\"688.012\" y1=\"121.768\" x2=\"690.206\" y2=\"123.814\" stroke-linecap=\"round\" style=\"stroke:white;stroke-width:4\"/><line x1=\"690.206\" y1=\"123.814\" x2=\"692.364\" y2=\"125.898\" stroke-linecap=\"round\" style=\"stroke:white;stroke-width:4\"/><line x1=\"692.364\" y1=\"125.898\" x2=\"694.485\" y2=\"128.019\" stroke-linecap=\"round\" style=\"stroke:white;stroke-width:4\"/><line x1=\"694.485\" y1=\"128.019\" x2=\"696.569\" y2=\"130.177\" stroke-linecap=\"round\" style=\"stroke:white;stroke-width:4\"/><line x1=\"696.569\" y1=\"130.177\" x2=\"698.615\" y2=\"132.371\" stroke-linecap=\"round\" style=\"stroke:white;stroke-width:4\"/><line x1=\"698.615\" y1=\"132.371\" x2=\"700.622\" y2=\"134.6\" stroke-linecap=\"round\" style=\"stroke:white;stroke-width:4\"/><line x1=\"700.622\" y1=\"134.6\" x2=\"702.59\" y2=\"136.864\" stroke-linecap=\"round\" style=\"stroke:white;stroke-width:4\"/><line x1=\"702.59\" y1=\"136.864\" x2=\"704.518\" y2=\"139.162\" stroke-linecap=\"round\" style=\"stroke:white;stroke-width:4\"/><line x1=\"704.518\" y1=\"139.162\" x2=\"706.406\" y2=\"141.493\" stroke-linecap=\"round\" style=\"stroke:white;stroke-width:4\"/><line x1=\"706.406\" y1=\"141.493\" x2=\"708.253\" y2=\"143.857\" stroke-linecap=\"round\" style=\"stroke:white;stroke-width:4\"/><line x1=\"708.253\" y1=\"143.857\" x2=\"710.058\" y2=\"146.253\" stroke-linecap=\"round\" style=\"stroke:white;stroke-width:4\"/><line x1=\"710.058\" y1=\"146.253\" x2=\"711.821\" y2=\"148.68\" stroke-linecap=\"round\" style=\"stroke:white;stroke-width:4\"/><line x1=\"711.821\" y1=\"148.68\" x2=\"713.542\" y2=\"151.137\" stroke-linecap=\"round\" style=\"stroke:white;stroke-width:4\"/><line x1=\"713.542\" y1=\"151.137\" x2=\"715.22\" y2=\"153.624\" stroke-linecap=\"round\" style=\"stroke:white;stroke-width:4\"/><line x1=\"715.22\" y1=\"153.624\" x2=\"716.854\" y2=\"156.14\" stroke-linecap=\"round\" style=\"stroke:white;stroke-width:4\"/><line x1=\"716.854\" y1=\"156.14\" x2=\"718.444\" y2=\"158.684\" stroke-linecap=\"round\" style=\"stroke:white;stroke-width:4\"/><line x1=\"718.444\" y1=\"158.684\" x2=\"719.989\" y2=\"161.256\" stroke-linecap=\"round\" style=\"stroke:white;stroke-width:4\"/><line x1=\"719.989\" y1=\"161.256\" x2=\"721.489\" y2=\"163.854\" stroke-linecap=\"round\" style=\"stroke:white;stroke-width:4\"/><line x1=\"721.489\" y1=\"163.854\" x2=\"722.943\" y2=\"166.478\" stroke-linecap=\"round\" style=\"stroke:white;stroke-width:4\"/><line x1=\"722.943\" y1=\"166.478\" x2=\"724.351\" y2=\"169.127\" stroke-linecap=\"round\" style=\"stroke:white;stroke-width:4\"/><line x1=\"724.351\" y1=\"169.127\" x2=\"725.713\" y2=\"171.8\" stroke-linecap=\"round\" style=\"stroke:white;stroke-width:4\"/><line x1=\"725.713\" y1=\"171.8\" x2=\"727.028\" y2=\"174.496\" stroke-linecap=\"round\" style=\"stroke:white;stroke-width:4\"/><line x1=\"727.028\" y1=\"174.496\" x2=\"728.296\" y2=\"177.215\" stroke-linecap=\"round\" style=\"stroke:white;stroke-width:4\"/><line x1=\"728.296\" y1=\"177.215\" x2=\"729.516\" y2=\"179.956\" stroke-linecap=\"round\" style=\"stroke:white;stroke-width:4\"/><line x1=\"729.516\" y1=\"179.956\" x2=\"730.688\" y2=\"182.718\" stroke-linecap=\"round\" style=\"stroke:white;stroke-width:4\"/><line x1=\"730.688\" y1=\"182.718\" x2=\"731.812\" y2=\"185.5\" stroke-linecap=\"round\" style=\"stroke:white;stroke-width:4\"/><line x1=\"731.812\" y1=\"185.5\" x2=\"732.887\" y2=\"188.301\" stroke-linecap=\"round\" style=\"stroke:white;stroke-width:4\"/><line x1=\"732.887\" y1=\"188.301\" x2=\"733.913\" y2=\"191.12\" stroke-linecap=\"round\" style=\"stroke:white;stroke-width:4\"/><line x1=\"733.913\" y1=\"191.12\" x2=\"734.89\" y2=\"193.957\" stroke-linecap=\"round\" style=\"stroke:white;stroke-width:4\"/><line x1=\"734.89\" y1=\"193.957\" x2=\"735.817\" y2=\"196.81\" stroke-linecap=\"round\" style=\"stroke:white;stroke-width:4\"/><line x1=\"735.817\" y1=\"196.81\" x2=\"736.694\" y2=\"199.679\" stroke-linecap=\"round\" style=\"stroke:white;stroke-width:4\"/><line x1=\"736.694\" y1=\"199.679\" x2=\"737.521\" y2=\"202.563\" stroke-linecap=\"round\" style=\"stroke:white;stroke-width:4\"/><line x1=\"737.521\" y1=\"202.563\" x2=\"738.297\" y2=\"205.461\" stroke-linecap=\"round\" style=\"stroke:white;stroke-width:4\"/><line x1=\"738.297\" y1=\"205.461\" x2=\"739.023\" y2=\"208.372\" stroke-linecap=\"round\" style=\"stroke:white;stroke-width:4\"/><line x1=\"739.023\" y1=\"208.372\" x2=\"739.698\" y2=\"211.295\" stroke-linecap=\"round\" style=\"stroke:white;stroke-width:4\"/><line x1=\"739.698\" y1=\"211.295\" x2=\"740.322\" y2=\"214.229\" stroke-linecap=\"round\" style=\"stroke:white;stroke-width:4\"/><line x1=\"740.322\" y1=\"214.229\" x2=\"740.894\" y2=\"217.174\" stroke-linecap=\"round\" style=\"stroke:white;stroke-width:4\"/><line x1=\"740.894\" y1=\"217.174\" x2=\"741.415\" y2=\"220.128\" stroke-linecap=\"round\" style=\"stroke:white;stroke-width:4\"/><line x1=\"741.415\" y1=\"220.128\" x2=\"741.884\" y2=\"223.091\" stroke-linecap=\"round\" style=\"stroke:white;stroke-width:4\"/><line x1=\"741.884\" y1=\"223.091\" x2=\"742.302\" y2=\"226.062\" stroke-linecap=\"round\" style=\"stroke:white;stroke-width:4\"/><line x1=\"742.302\" y1=\"226.062\" x2=\"742.668\" y2=\"229.04\" stroke-linecap=\"round\" style=\"stroke:white;stroke-width:4\"/><line x1=\"742.668\" y1=\"229.04\" x2=\"742.982\" y2=\"232.024\" stroke-linecap=\"round\" style=\"stroke:white;stroke-width:4\"/><line x1=\"742.982\" y1=\"232.024\" x2=\"743.243\" y2=\"235.013\" stroke-linecap=\"round\" style=\"stroke:white;stroke-width:4\"/><line x1=\"743.243\" y1=\"235.013\" x2=\"743.452\" y2=\"238.006\" stroke-linecap=\"round\" style=\"stroke:white;stroke-width:4\"/><line x1=\"743.452\" y1=\"238.006\" x2=\"743.609\" y2=\"241.002\" stroke-linecap=\"round\" style=\"stroke:white;stroke-width:4\"/><line x1=\"743.609\" y1=\"241.002\" x2=\"743.714\" y2=\"244.0\" stroke-linecap=\"round\" style=\"stroke:white;stroke-width:4\"/><line x1=\"743.714\" y1=\"244.0\" x2=\"743.766\" y2=\"247.0\" stroke-linecap=\"round\" style=\"stroke:white;stroke-width:4\"/><line x1=\"743.766\" y1=\"247.0\" x2=\"743.766\" y2=\"250.0\" stroke-linecap=\"round\" style=\"stroke:white;stroke-width:4\"/><line x1=\"743.766\" y1=\"250.0\" x2=\"743.714\" y2=\"253.0\" stroke-linecap=\"round\" style=\"stroke:white;stroke-width:4\"/><line x1=\"743.714\" y1=\"253.0\" x2=\"743.609\" y2=\"255.998\" stroke-linecap=\"round\" style=\"stroke:white;stroke-width:4\"/><line x1=\"743.609\" y1=\"255.998\" x2=\"743.452\" y2=\"258.994\" stroke-linecap=\"round\" style=\"stroke:white;stroke-width:4\"/><line x1=\"743.452\" y1=\"258.994\" x2=\"743.243\" y2=\"261.987\" stroke-linecap=\"round\" style=\"stroke:white;stroke-width:4\"/><line x1=\"743.243\" y1=\"261.987\" x2=\"742.982\" y2=\"264.976\" stroke-linecap=\"round\" style=\"stroke:white;stroke-width:4\"/><line x1=\"742.982\" y1=\"264.976\" x2=\"742.668\" y2=\"267.96\" stroke-linecap=\"round\" style=\"stroke:white;stroke-width:4\"/><line x1=\"742.668\" y1=\"267.96\" x2=\"742.302\" y2=\"270.938\" stroke-linecap=\"round\" style=\"stroke:white;stroke-width:4\"/><line x1=\"742.302\" y1=\"270.938\" x2=\"741.884\" y2=\"273.909\" stroke-linecap=\"round\" style=\"stroke:white;stroke-width:4\"/><line x1=\"741.884\" y1=\"273.909\" x2=\"741.415\" y2=\"276.872\" stroke-linecap=\"round\" style=\"stroke:white;stroke-width:4\"/><line x1=\"741.415\" y1=\"276.872\" x2=\"740.894\" y2=\"279.826\" stroke-linecap=\"round\" style=\"stroke:white;stroke-width:4\"/><line x1=\"740.894\" y1=\"279.826\" x2=\"740.322\" y2=\"282.771\" stroke-linecap=\"round\" style=\"stroke:white;stroke-width:4\"/><line x1=\"740.322\" y1=\"282.771\" x2=\"739.698\" y2=\"285.705\" stroke-linecap=\"round\" style=\"stroke:white;stroke-width:4\"/><line x1=\"739.698\" y1=\"285.705\" x2=\"739.023\" y2=\"288.628\" stroke-linecap=\"round\" style=\"stroke:white;stroke-width:4\"/><line x1=\"739.023\" y1=\"288.628\" x2=\"738.297\" y2=\"291.539\" stroke-linecap=\"round\" style=\"stroke:white;stroke-width:4\"/><line x1=\"738.297\" y1=\"291.539\" x2=\"737.521\" y2=\"294.437\" stroke-linecap=\"round\" style=\"stroke:white;stroke-width:4\"/><line x1=\"737.521\" y1=\"294.437\" x2=\"736.694\" y2=\"297.321\" stroke-linecap=\"round\" style=\"stroke:white;stroke-width:4\"/><line x1=\"736.694\" y1=\"297.321\" x2=\"735.817\" y2=\"300.19\" stroke-linecap=\"round\" style=\"stroke:white;stroke-width:4\"/><line x1=\"735.817\" y1=\"300.19\" x2=\"734.89\" y2=\"303.043\" stroke-linecap=\"round\" style=\"stroke:white;stroke-width:4\"/><line x1=\"734.89\" y1=\"303.043\" x2=\"733.913\" y2=\"305.88\" stroke-linecap=\"round\" style=\"stroke:white;stroke-width:4\"/><line x1=\"733.913\" y1=\"305.88\" x2=\"732.887\" y2=\"308.699\" stroke-linecap=\"round\" style=\"stroke:white;stroke-width:4\"/><line x1=\"732.887\" y1=\"308.699\" x2=\"731.812\" y2=\"311.5\" stroke-linecap=\"round\" style=\"stroke:white;stroke-width:4\"/><line x1=\"731.812\" y1=\"311.5\" x2=\"730.688\" y2=\"314.282\" stroke-linecap=\"round\" style=\"stroke:white;stroke-width:4\"/><line x1=\"730.688\" y1=\"314.282\" x2=\"729.516\" y2=\"317.044\" stroke-linecap=\"round\" style=\"stroke:white;stroke-width:4\"/><line x1=\"729.516\" y1=\"317.044\" x2=\"728.296\" y2=\"319.785\" stroke-linecap=\"round\" style=\"stroke:white;stroke-width:4\"/><line x1=\"728.296\" y1=\"319.785\" x2=\"727.028\" y2=\"322.504\" stroke-linecap=\"round\" style=\"stroke:white;stroke-width:4\"/><line x1=\"727.028\" y1=\"322.504\" x2=\"725.713\" y2=\"325.2\" stroke-linecap=\"round\" style=\"stroke:white;stroke-width:4\"/><line x1=\"725.713\" y1=\"325.2\" x2=\"724.351\" y2=\"327.873\" stroke-linecap=\"round\" style=\"stroke:white;stroke-width:4\"/><line x1=\"724.351\" y1=\"327.873\" x2=\"722.943\" y2=\"330.522\" stroke-linecap=\"round\" style=\"stroke:white;stroke-width:4\"/><line x1=\"722.943\" y1=\"330.522\" x2=\"721.489\" y2=\"333.146\" stroke-linecap=\"round\" style=\"stroke:white;stroke-width:4\"/><line x1=\"721.489\" y1=\"333.146\" x2=\"719.989\" y2=\"335.744\" stroke-linecap=\"round\" style=\"stroke:white;stroke-width:4\"/><line x1=\"719.989\" y1=\"335.744\" x2=\"718.444\" y2=\"338.316\" stroke-linecap=\"round\" style=\"stroke:white;stroke-width:4\"/><line x1=\"718.444\" y1=\"338.316\" x2=\"716.854\" y2=\"340.86\" stroke-linecap=\"round\" style=\"stroke:white;stroke-width:4\"/><line x1=\"716.854\" y1=\"340.86\" x2=\"715.22\" y2=\"343.376\" stroke-linecap=\"round\" style=\"stroke:white;stroke-width:4\"/><line x1=\"715.22\" y1=\"343.376\" x2=\"713.542\" y2=\"345.863\" stroke-linecap=\"round\" style=\"stroke:white;stroke-width:4\"/><line x1=\"713.542\" y1=\"345.863\" x2=\"711.821\" y2=\"348.32\" stroke-linecap=\"round\" style=\"stroke:white;stroke-width:4\"/><line x1=\"711.821\" y1=\"348.32\" x2=\"710.058\" y2=\"350.747\" stroke-linecap=\"round\" style=\"stroke:white;stroke-width:4\"/><line x1=\"710.058\" y1=\"350.747\" x2=\"708.253\" y2=\"353.143\" stroke-linecap=\"round\" style=\"stroke:white;stroke-width:4\"/><line x1=\"708.253\" y1=\"353.143\" x2=\"706.406\" y2=\"355.507\" stroke-linecap=\"round\" style=\"stroke:white;stroke-width:4\"/><line x1=\"706.406\" y1=\"355.507\" x2=\"704.518\" y2=\"357.838\" stroke-linecap=\"round\" style=\"stroke:white;stroke-width:4\"/><line x1=\"704.518\" y1=\"357.838\" x2=\"702.59\" y2=\"360.136\" stroke-linecap=\"round\" style=\"stroke:white;stroke-width:4\"/><line x1=\"702.59\" y1=\"360.136\" x2=\"700.622\" y2=\"362.4\" stroke-linecap=\"round\" style=\"stroke:white;stroke-width:4\"/><line x1=\"700.622\" y1=\"362.4\" x2=\"698.615\" y2=\"364.629\" stroke-linecap=\"round\" style=\"stroke:white;stroke-width:4\"/><line x1=\"698.615\" y1=\"364.629\" x2=\"696.569\" y2=\"366.823\" stroke-linecap=\"round\" style=\"stroke:white;stroke-width:4\"/><line x1=\"696.569\" y1=\"366.823\" x2=\"694.485\" y2=\"368.981\" stroke-linecap=\"round\" style=\"stroke:white;stroke-width:4\"/><line x1=\"694.485\" y1=\"368.981\" x2=\"692.364\" y2=\"371.102\" stroke-linecap=\"round\" style=\"stroke:white;stroke-width:4\"/><line x1=\"692.364\" y1=\"371.102\" x2=\"690.206\" y2=\"373.186\" stroke-linecap=\"round\" style=\"stroke:white;stroke-width:4\"/><line x1=\"690.206\" y1=\"373.186\" x2=\"688.012\" y2=\"375.232\" stroke-linecap=\"round\" style=\"stroke:white;stroke-width:4\"/><line x1=\"688.012\" y1=\"375.232\" x2=\"685.783\" y2=\"377.239\" stroke-linecap=\"round\" style=\"stroke:white;stroke-width:4\"/><line x1=\"685.783\" y1=\"377.239\" x2=\"683.519\" y2=\"379.207\" stroke-linecap=\"round\" style=\"stroke:white;stroke-width:4\"/><line x1=\"683.519\" y1=\"379.207\" x2=\"681.221\" y2=\"381.135\" stroke-linecap=\"round\" style=\"stroke:white;stroke-width:4\"/><line x1=\"681.221\" y1=\"381.135\" x2=\"678.89\" y2=\"383.023\" stroke-linecap=\"round\" style=\"stroke:white;stroke-width:4\"/><line x1=\"678.89\" y1=\"383.023\" x2=\"676.526\" y2=\"384.87\" stroke-linecap=\"round\" style=\"stroke:white;stroke-width:4\"/><line x1=\"676.526\" y1=\"384.87\" x2=\"674.13\" y2=\"386.675\" stroke-linecap=\"round\" style=\"stroke:white;stroke-width:4\"/><line x1=\"674.13\" y1=\"386.675\" x2=\"671.703\" y2=\"388.438\" stroke-linecap=\"round\" style=\"stroke:white;stroke-width:4\"/><line x1=\"671.703\" y1=\"388.438\" x2=\"669.246\" y2=\"390.159\" stroke-linecap=\"round\" style=\"stroke:white;stroke-width:4\"/><line x1=\"669.246\" y1=\"390.159\" x2=\"666.759\" y2=\"391.837\" stroke-linecap=\"round\" style=\"stroke:white;stroke-width:4\"/><line x1=\"666.759\" y1=\"391.837\" x2=\"664.243\" y2=\"393.471\" stroke-linecap=\"round\" style=\"stroke:white;stroke-width:4\"/><line x1=\"664.243\" y1=\"393.471\" x2=\"661.699\" y2=\"395.061\" stroke-linecap=\"round\" style=\"stroke:white;stroke-width:4\"/><line x1=\"661.699\" y1=\"395.061\" x2=\"659.127\" y2=\"396.606\" stroke-linecap=\"round\" style=\"stroke:white;stroke-width:4\"/><line x1=\"659.127\" y1=\"396.606\" x2=\"656.529\" y2=\"398.106\" stroke-linecap=\"round\" style=\"stroke:white;stroke-width:4\"/><line x1=\"656.529\" y1=\"398.106\" x2=\"653.905\" y2=\"399.56\" stroke-linecap=\"round\" style=\"stroke:white;stroke-width:4\"/><line x1=\"653.905\" y1=\"399.56\" x2=\"651.256\" y2=\"400.968\" stroke-linecap=\"round\" style=\"stroke:white;stroke-width:4\"/><line x1=\"651.256\" y1=\"400.968\" x2=\"648.583\" y2=\"402.33\" stroke-linecap=\"round\" style=\"stroke:white;stroke-width:4\"/><line x1=\"648.583\" y1=\"402.33\" x2=\"645.887\" y2=\"403.645\" stroke-linecap=\"round\" style=\"stroke:white;stroke-width:4\"/><line x1=\"645.887\" y1=\"403.645\" x2=\"643.168\" y2=\"404.913\" stroke-linecap=\"round\" style=\"stroke:white;stroke-width:4\"/><line x1=\"643.168\" y1=\"404.913\" x2=\"640.427\" y2=\"406.133\" stroke-linecap=\"round\" style=\"stroke:white;stroke-width:4\"/><line x1=\"640.427\" y1=\"406.133\" x2=\"637.665\" y2=\"407.305\" stroke-linecap=\"round\" style=\"stroke:white;stroke-width:4\"/><line x1=\"637.665\" y1=\"407.305\" x2=\"634.883\" y2=\"408.429\" stroke-linecap=\"round\" style=\"stroke:white;stroke-width:4\"/><line x1=\"634.883\" y1=\"408.429\" x2=\"632.082\" y2=\"409.504\" stroke-linecap=\"round\" style=\"stroke:white;stroke-width:4\"/><line x1=\"632.082\" y1=\"409.504\" x2=\"629.263\" y2=\"410.53\" stroke-linecap=\"round\" style=\"stroke:white;stroke-width:4\"/><line x1=\"629.263\" y1=\"410.53\" x2=\"626.426\" y2=\"411.507\" stroke-linecap=\"round\" style=\"stroke:white;stroke-width:4\"/><line x1=\"626.426\" y1=\"411.507\" x2=\"623.573\" y2=\"412.434\" stroke-linecap=\"round\" style=\"stroke:white;stroke-width:4\"/><line x1=\"623.573\" y1=\"412.434\" x2=\"620.704\" y2=\"413.311\" stroke-linecap=\"round\" style=\"stroke:white;stroke-width:4\"/><line x1=\"620.704\" y1=\"413.311\" x2=\"617.82\" y2=\"414.138\" stroke-linecap=\"round\" style=\"stroke:white;stroke-width:4\"/><line x1=\"617.82\" y1=\"414.138\" x2=\"614.922\" y2=\"414.914\" stroke-linecap=\"round\" style=\"stroke:white;stroke-width:4\"/><line x1=\"614.922\" y1=\"414.914\" x2=\"612.011\" y2=\"415.64\" stroke-linecap=\"round\" style=\"stroke:white;stroke-width:4\"/><line x1=\"612.011\" y1=\"415.64\" x2=\"609.088\" y2=\"416.315\" stroke-linecap=\"round\" style=\"stroke:white;stroke-width:4\"/><line x1=\"609.088\" y1=\"416.315\" x2=\"606.154\" y2=\"416.939\" stroke-linecap=\"round\" style=\"stroke:white;stroke-width:4\"/><line x1=\"606.154\" y1=\"416.939\" x2=\"603.209\" y2=\"417.511\" stroke-linecap=\"round\" style=\"stroke:white;stroke-width:4\"/><line x1=\"603.209\" y1=\"417.511\" x2=\"600.255\" y2=\"418.032\" stroke-linecap=\"round\" style=\"stroke:white;stroke-width:4\"/><line x1=\"600.255\" y1=\"418.032\" x2=\"597.292\" y2=\"418.501\" stroke-linecap=\"round\" style=\"stroke:white;stroke-width:4\"/><line x1=\"597.292\" y1=\"418.501\" x2=\"594.321\" y2=\"418.919\" stroke-linecap=\"round\" style=\"stroke:white;stroke-width:4\"/><line x1=\"594.321\" y1=\"418.919\" x2=\"591.343\" y2=\"419.285\" stroke-linecap=\"round\" style=\"stroke:white;stroke-width:4\"/><line x1=\"591.343\" y1=\"419.285\" x2=\"588.359\" y2=\"419.599\" stroke-linecap=\"round\" style=\"stroke:white;stroke-width:4\"/><line x1=\"588.359\" y1=\"419.599\" x2=\"585.37\" y2=\"419.86\" stroke-linecap=\"round\" style=\"stroke:white;stroke-width:4\"/><line x1=\"585.37\" y1=\"419.86\" x2=\"582.377\" y2=\"420.069\" stroke-linecap=\"round\" style=\"stroke:white;stroke-width:4\"/><line x1=\"582.377\" y1=\"420.069\" x2=\"579.381\" y2=\"420.226\" stroke-linecap=\"round\" style=\"stroke:white;stroke-width:4\"/><line x1=\"579.381\" y1=\"420.226\" x2=\"576.383\" y2=\"420.331\" stroke-linecap=\"round\" style=\"stroke:white;stroke-width:4\"/><line x1=\"576.383\" y1=\"420.331\" x2=\"573.383\" y2=\"420.383\" stroke-linecap=\"round\" style=\"stroke:white;stroke-width:4\"/><line x1=\"573.383\" y1=\"420.383\" x2=\"570.383\" y2=\"420.383\" stroke-linecap=\"round\" style=\"stroke:white;stroke-width:4\"/><line x1=\"570.383\" y1=\"420.383\" x2=\"567.383\" y2=\"420.331\" stroke-linecap=\"round\" style=\"stroke:white;stroke-width:4\"/><line x1=\"567.383\" y1=\"420.331\" x2=\"564.385\" y2=\"420.226\" stroke-linecap=\"round\" style=\"stroke:white;stroke-width:4\"/><line x1=\"564.385\" y1=\"420.226\" x2=\"561.389\" y2=\"420.069\" stroke-linecap=\"round\" style=\"stroke:white;stroke-width:4\"/><line x1=\"561.389\" y1=\"420.069\" x2=\"558.396\" y2=\"419.86\" stroke-linecap=\"round\" style=\"stroke:white;stroke-width:4\"/><line x1=\"558.396\" y1=\"419.86\" x2=\"555.407\" y2=\"419.599\" stroke-linecap=\"round\" style=\"stroke:white;stroke-width:4\"/><line x1=\"555.407\" y1=\"419.599\" x2=\"552.423\" y2=\"419.285\" stroke-linecap=\"round\" style=\"stroke:white;stroke-width:4\"/><line x1=\"552.423\" y1=\"419.285\" x2=\"549.445\" y2=\"418.919\" stroke-linecap=\"round\" style=\"stroke:white;stroke-width:4\"/><line x1=\"549.445\" y1=\"418.919\" x2=\"546.474\" y2=\"418.501\" stroke-linecap=\"round\" style=\"stroke:white;stroke-width:4\"/><line x1=\"546.474\" y1=\"418.501\" x2=\"543.511\" y2=\"418.032\" stroke-linecap=\"round\" style=\"stroke:white;stroke-width:4\"/><line x1=\"543.511\" y1=\"418.032\" x2=\"540.557\" y2=\"417.511\" stroke-linecap=\"round\" style=\"stroke:white;stroke-width:4\"/><line x1=\"540.557\" y1=\"417.511\" x2=\"537.612\" y2=\"416.939\" stroke-linecap=\"round\" style=\"stroke:white;stroke-width:4\"/><line x1=\"537.612\" y1=\"416.939\" x2=\"534.678\" y2=\"416.315\" stroke-linecap=\"round\" style=\"stroke:white;stroke-width:4\"/><line x1=\"534.678\" y1=\"416.315\" x2=\"531.755\" y2=\"415.64\" stroke-linecap=\"round\" style=\"stroke:white;stroke-width:4\"/><line x1=\"531.755\" y1=\"415.64\" x2=\"528.844\" y2=\"414.914\" stroke-linecap=\"round\" style=\"stroke:white;stroke-width:4\"/><line x1=\"528.844\" y1=\"414.914\" x2=\"525.946\" y2=\"414.138\" stroke-linecap=\"round\" style=\"stroke:white;stroke-width:4\"/><line x1=\"525.946\" y1=\"414.138\" x2=\"523.062\" y2=\"413.311\" stroke-linecap=\"round\" style=\"stroke:white;stroke-width:4\"/><line x1=\"523.062\" y1=\"413.311\" x2=\"520.193\" y2=\"412.434\" stroke-linecap=\"round\" style=\"stroke:white;stroke-width:4\"/><line x1=\"520.193\" y1=\"412.434\" x2=\"517.34\" y2=\"411.507\" stroke-linecap=\"round\" style=\"stroke:white;stroke-width:4\"/><line x1=\"517.34\" y1=\"411.507\" x2=\"514.503\" y2=\"410.53\" stroke-linecap=\"round\" style=\"stroke:white;stroke-width:4\"/><line x1=\"514.503\" y1=\"410.53\" x2=\"511.684\" y2=\"409.504\" stroke-linecap=\"round\" style=\"stroke:white;stroke-width:4\"/><line x1=\"511.684\" y1=\"409.504\" x2=\"508.883\" y2=\"408.429\" stroke-linecap=\"round\" style=\"stroke:white;stroke-width:4\"/><line x1=\"508.883\" y1=\"408.429\" x2=\"506.101\" y2=\"407.305\" stroke-linecap=\"round\" style=\"stroke:white;stroke-width:4\"/><line x1=\"506.101\" y1=\"407.305\" x2=\"503.339\" y2=\"406.133\" stroke-linecap=\"round\" style=\"stroke:white;stroke-width:4\"/><line x1=\"503.339\" y1=\"406.133\" x2=\"500.598\" y2=\"404.913\" stroke-linecap=\"round\" style=\"stroke:white;stroke-width:4\"/><line x1=\"500.598\" y1=\"404.913\" x2=\"497.879\" y2=\"403.645\" stroke-linecap=\"round\" style=\"stroke:white;stroke-width:4\"/><line x1=\"497.879\" y1=\"403.645\" x2=\"495.183\" y2=\"402.33\" stroke-linecap=\"round\" style=\"stroke:white;stroke-width:4\"/><line x1=\"495.183\" y1=\"402.33\" x2=\"492.51\" y2=\"400.968\" stroke-linecap=\"round\" style=\"stroke:white;stroke-width:4\"/><line x1=\"492.51\" y1=\"400.968\" x2=\"489.861\" y2=\"399.56\" stroke-linecap=\"round\" style=\"stroke:white;stroke-width:4\"/><line x1=\"489.861\" y1=\"399.56\" x2=\"487.237\" y2=\"398.106\" stroke-linecap=\"round\" style=\"stroke:white;stroke-width:4\"/><line x1=\"487.237\" y1=\"398.106\" x2=\"484.639\" y2=\"396.606\" stroke-linecap=\"round\" style=\"stroke:white;stroke-width:4\"/><line x1=\"484.639\" y1=\"396.606\" x2=\"482.067\" y2=\"395.061\" stroke-linecap=\"round\" style=\"stroke:white;stroke-width:4\"/><line x1=\"482.067\" y1=\"395.061\" x2=\"479.523\" y2=\"393.471\" stroke-linecap=\"round\" style=\"stroke:white;stroke-width:4\"/><line x1=\"479.523\" y1=\"393.471\" x2=\"477.007\" y2=\"391.837\" stroke-linecap=\"round\" style=\"stroke:white;stroke-width:4\"/><line x1=\"477.007\" y1=\"391.837\" x2=\"474.52\" y2=\"390.159\" stroke-linecap=\"round\" style=\"stroke:white;stroke-width:4\"/><line x1=\"474.52\" y1=\"390.159\" x2=\"472.063\" y2=\"388.438\" stroke-linecap=\"round\" style=\"stroke:white;stroke-width:4\"/><line x1=\"472.063\" y1=\"388.438\" x2=\"469.636\" y2=\"386.675\" stroke-linecap=\"round\" style=\"stroke:white;stroke-width:4\"/><line x1=\"469.636\" y1=\"386.675\" x2=\"467.24\" y2=\"384.87\" stroke-linecap=\"round\" style=\"stroke:white;stroke-width:4\"/><line x1=\"467.24\" y1=\"384.87\" x2=\"464.876\" y2=\"383.023\" stroke-linecap=\"round\" style=\"stroke:white;stroke-width:4\"/><line x1=\"464.876\" y1=\"383.023\" x2=\"462.545\" y2=\"381.135\" stroke-linecap=\"round\" style=\"stroke:white;stroke-width:4\"/><line x1=\"462.545\" y1=\"381.135\" x2=\"460.247\" y2=\"379.207\" stroke-linecap=\"round\" style=\"stroke:white;stroke-width:4\"/><line x1=\"460.247\" y1=\"379.207\" x2=\"457.983\" y2=\"377.239\" stroke-linecap=\"round\" style=\"stroke:white;stroke-width:4\"/><line x1=\"457.983\" y1=\"377.239\" x2=\"455.754\" y2=\"375.232\" stroke-linecap=\"round\" style=\"stroke:white;stroke-width:4\"/><line x1=\"455.754\" y1=\"375.232\" x2=\"453.56\" y2=\"373.186\" stroke-linecap=\"round\" style=\"stroke:white;stroke-width:4\"/><line x1=\"453.56\" y1=\"373.186\" x2=\"451.402\" y2=\"371.102\" stroke-linecap=\"round\" style=\"stroke:white;stroke-width:4\"/><line x1=\"451.402\" y1=\"371.102\" x2=\"449.281\" y2=\"368.981\" stroke-linecap=\"round\" style=\"stroke:white;stroke-width:4\"/><line x1=\"449.281\" y1=\"368.981\" x2=\"447.197\" y2=\"366.823\" stroke-linecap=\"round\" style=\"stroke:white;stroke-width:4\"/><line x1=\"447.197\" y1=\"366.823\" x2=\"445.151\" y2=\"364.629\" stroke-linecap=\"round\" style=\"stroke:white;stroke-width:4\"/><line x1=\"445.151\" y1=\"364.629\" x2=\"443.144\" y2=\"362.4\" stroke-linecap=\"round\" style=\"stroke:white;stroke-width:4\"/><line x1=\"443.144\" y1=\"362.4\" x2=\"441.176\" y2=\"360.136\" stroke-linecap=\"round\" style=\"stroke:white;stroke-width:4\"/><line x1=\"441.176\" y1=\"360.136\" x2=\"439.248\" y2=\"357.838\" stroke-linecap=\"round\" style=\"stroke:white;stroke-width:4\"/><line x1=\"439.248\" y1=\"357.838\" x2=\"437.36\" y2=\"355.507\" stroke-linecap=\"round\" style=\"stroke:white;stroke-width:4\"/><line x1=\"437.36\" y1=\"355.507\" x2=\"435.513\" y2=\"353.143\" stroke-linecap=\"round\" style=\"stroke:white;stroke-width:4\"/><line x1=\"435.513\" y1=\"353.143\" x2=\"433.708\" y2=\"350.747\" stroke-linecap=\"round\" style=\"stroke:white;stroke-width:4\"/><line x1=\"433.708\" y1=\"350.747\" x2=\"431.945\" y2=\"348.32\" stroke-linecap=\"round\" style=\"stroke:white;stroke-width:4\"/><line x1=\"431.945\" y1=\"348.32\" x2=\"430.224\" y2=\"345.863\" stroke-linecap=\"round\" style=\"stroke:white;stroke-width:4\"/><line x1=\"430.224\" y1=\"345.863\" x2=\"428.546\" y2=\"343.376\" stroke-linecap=\"round\" style=\"stroke:white;stroke-width:4\"/><line x1=\"428.546\" y1=\"343.376\" x2=\"426.912\" y2=\"340.86\" stroke-linecap=\"round\" style=\"stroke:white;stroke-width:4\"/><line x1=\"426.912\" y1=\"340.86\" x2=\"425.322\" y2=\"338.316\" stroke-linecap=\"round\" style=\"stroke:white;stroke-width:4\"/><line x1=\"425.322\" y1=\"338.316\" x2=\"423.777\" y2=\"335.744\" stroke-linecap=\"round\" style=\"stroke:white;stroke-width:4\"/><line x1=\"423.777\" y1=\"335.744\" x2=\"422.277\" y2=\"333.146\" stroke-linecap=\"round\" style=\"stroke:white;stroke-width:4\"/><line x1=\"422.277\" y1=\"333.146\" x2=\"420.823\" y2=\"330.522\" stroke-linecap=\"round\" style=\"stroke:white;stroke-width:4\"/><line x1=\"420.823\" y1=\"330.522\" x2=\"419.415\" y2=\"327.873\" stroke-linecap=\"round\" style=\"stroke:white;stroke-width:4\"/><line x1=\"419.415\" y1=\"327.873\" x2=\"418.053\" y2=\"325.2\" stroke-linecap=\"round\" style=\"stroke:white;stroke-width:4\"/><line x1=\"418.053\" y1=\"325.2\" x2=\"416.738\" y2=\"322.504\" stroke-linecap=\"round\" style=\"stroke:white;stroke-width:4\"/><line x1=\"416.738\" y1=\"322.504\" x2=\"415.47\" y2=\"319.785\" stroke-linecap=\"round\" style=\"stroke:white;stroke-width:4\"/><line x1=\"415.47\" y1=\"319.785\" x2=\"414.25\" y2=\"317.044\" stroke-linecap=\"round\" style=\"stroke:white;stroke-width:4\"/><line x1=\"414.25\" y1=\"317.044\" x2=\"413.078\" y2=\"314.282\" stroke-linecap=\"round\" style=\"stroke:white;stroke-width:4\"/><line x1=\"413.078\" y1=\"314.282\" x2=\"411.954\" y2=\"311.5\" stroke-linecap=\"round\" style=\"stroke:white;stroke-width:4\"/><line x1=\"411.954\" y1=\"311.5\" x2=\"410.879\" y2=\"308.699\" stroke-linecap=\"round\" style=\"stroke:white;stroke-width:4\"/><line x1=\"410.879\" y1=\"308.699\" x2=\"409.853\" y2=\"305.88\" stroke-linecap=\"round\" style=\"stroke:white;stroke-width:4\"/><line x1=\"409.853\" y1=\"305.88\" x2=\"408.876\" y2=\"303.043\" stroke-linecap=\"round\" style=\"stroke:white;stroke-width:4\"/><line x1=\"408.876\" y1=\"303.043\" x2=\"407.949\" y2=\"300.19\" stroke-linecap=\"round\" style=\"stroke:white;stroke-width:4\"/><line x1=\"407.949\" y1=\"300.19\" x2=\"407.072\" y2=\"297.321\" stroke-linecap=\"round\" style=\"stroke:white;stroke-width:4\"/><line x1=\"407.072\" y1=\"297.321\" x2=\"406.245\" y2=\"294.437\" stroke-linecap=\"round\" style=\"stroke:white;stroke-width:4\"/><line x1=\"406.245\" y1=\"294.437\" x2=\"405.469\" y2=\"291.539\" stroke-linecap=\"round\" style=\"stroke:white;stroke-width:4\"/><line x1=\"405.469\" y1=\"291.539\" x2=\"404.743\" y2=\"288.628\" stroke-linecap=\"round\" style=\"stroke:white;stroke-width:4\"/><line x1=\"404.743\" y1=\"288.628\" x2=\"404.068\" y2=\"285.705\" stroke-linecap=\"round\" style=\"stroke:white;stroke-width:4\"/><line x1=\"404.068\" y1=\"285.705\" x2=\"403.444\" y2=\"282.771\" stroke-linecap=\"round\" style=\"stroke:white;stroke-width:4\"/><line x1=\"403.444\" y1=\"282.771\" x2=\"402.872\" y2=\"279.826\" stroke-linecap=\"round\" style=\"stroke:white;stroke-width:4\"/><line x1=\"402.872\" y1=\"279.826\" x2=\"402.351\" y2=\"276.872\" stroke-linecap=\"round\" style=\"stroke:white;stroke-width:4\"/><line x1=\"402.351\" y1=\"276.872\" x2=\"401.882\" y2=\"273.909\" stroke-linecap=\"round\" style=\"stroke:white;stroke-width:4\"/><line x1=\"401.882\" y1=\"273.909\" x2=\"401.464\" y2=\"270.938\" stroke-linecap=\"round\" style=\"stroke:white;stroke-width:4\"/><line x1=\"401.464\" y1=\"270.938\" x2=\"401.098\" y2=\"267.96\" stroke-linecap=\"round\" style=\"stroke:white;stroke-width:4\"/><line x1=\"401.098\" y1=\"267.96\" x2=\"400.784\" y2=\"264.976\" stroke-linecap=\"round\" style=\"stroke:white;stroke-width:4\"/><line x1=\"400.784\" y1=\"264.976\" x2=\"400.523\" y2=\"261.987\" stroke-linecap=\"round\" style=\"stroke:white;stroke-width:4\"/><line x1=\"400.523\" y1=\"261.987\" x2=\"400.314\" y2=\"258.994\" stroke-linecap=\"round\" style=\"stroke:white;stroke-width:4\"/><line x1=\"400.314\" y1=\"258.994\" x2=\"400.157\" y2=\"255.998\" stroke-linecap=\"round\" style=\"stroke:white;stroke-width:4\"/><line x1=\"400.157\" y1=\"255.998\" x2=\"400.052\" y2=\"253.0\" stroke-linecap=\"round\" style=\"stroke:white;stroke-width:4\"/><line x1=\"400.052\" y1=\"253.0\" x2=\"400.0\" y2=\"250.0\" stroke-linecap=\"round\" style=\"stroke:white;stroke-width:4\"/>\n",
              "        <g visibility=visible transform=\"rotate(360.0,400.0,250.0) translate(382.0, 232.0)\">\n",
              "<path style=\" stroke:none;fill-rule:evenodd;fill:white;fill-opacity:1;\" d=\"M 18.214844 0.632812 C 16.109375 1.800781 15.011719 4.074219 15.074219 7.132812 L 15.085938 7.652344 L 14.785156 7.496094 C 13.476562 6.824219 11.957031 6.671875 10.40625 7.066406 C 8.46875 7.550781 6.515625 9.15625 4.394531 11.992188 C 3.0625 13.777344 2.679688 14.636719 3.042969 15.027344 L 3.15625 15.152344 L 3.519531 15.152344 C 4.238281 15.152344 4.828125 14.886719 8.1875 13.039062 C 9.386719 12.378906 10.371094 11.839844 10.378906 11.839844 C 10.386719 11.839844 10.355469 11.929688 10.304688 12.035156 C 9.832031 13.09375 9.257812 14.820312 8.96875 16.078125 C 7.914062 20.652344 8.617188 24.53125 11.070312 27.660156 C 11.351562 28.015625 11.363281 27.914062 10.972656 28.382812 C 8.925781 30.84375 7.945312 33.28125 8.238281 35.1875 C 8.289062 35.527344 8.28125 35.523438 8.917969 35.523438 C 10.941406 35.523438 13.074219 34.207031 15.136719 31.6875 C 15.359375 31.417969 15.328125 31.425781 15.5625 31.574219 C 16.292969 32.042969 18.023438 32.964844 18.175781 32.964844 C 18.335938 32.964844 19.941406 32.210938 20.828125 31.71875 C 20.996094 31.625 21.136719 31.554688 21.136719 31.558594 C 21.203125 31.664062 21.898438 32.414062 22.222656 32.730469 C 23.835938 34.300781 25.5625 35.132812 27.582031 35.300781 C 27.90625 35.328125 27.9375 35.308594 28.007812 34.984375 C 28.382812 33.242188 27.625 30.925781 25.863281 28.425781 L 25.542969 27.96875 L 25.699219 27.785156 C 28.945312 23.960938 29.132812 18.699219 26.257812 11.96875 L 26.207031 11.84375 L 27.945312 12.703125 C 31.53125 14.476562 32.316406 14.800781 33.03125 14.800781 C 33.976562 14.800781 33.78125 13.9375 32.472656 12.292969 C 28.519531 7.355469 25.394531 5.925781 21.921875 7.472656 L 21.558594 7.636719 L 21.578125 7.542969 C 21.699219 6.992188 21.761719 5.742188 21.699219 5.164062 C 21.496094 3.296875 20.664062 1.964844 19.003906 0.855469 C 18.480469 0.503906 18.457031 0.5 18.214844 0.632812\"/>\n",
              "</g>\n",
              "      </svg>\n",
              "    "
            ]
          },
          "metadata": {}
        }
      ]
    },
    {
      "cell_type": "code",
      "source": [
        "import math\n",
        "\n",
        "arc_angle = input('What angle should the arc be?\\n')\n",
        "\n",
        "def circ():\n",
        "  turtle.pencolor(\"white\")\n",
        "  turtle.clear()\n",
        "  turtle.penup()\n",
        "  turtle.goto(center_x,center_y)\n",
        "  turtle.pendown()\n",
        "  turtle.speed(10)\n",
        "  for _ in range (360):\n",
        "    turtle.forward(1)\n",
        "    turtle.right(1)\n",
        "\n",
        "circ()\n",
        "turtle.penup()\n",
        "turtle.goto(center_x,center_y)\n",
        "turtle.pendown()\n",
        "\n",
        "def arc(angle): #make a slice out of a circle of any angle <360 degrees\n",
        "  turtle.pencolor(\"red\")\n",
        "  turtle.right(90)\n",
        "  turtle.forward(57.3)\n",
        "  turtle.left(180-angle)\n",
        "  turtle.forward(57.3)\n",
        "  turtle.left(90)\n",
        "  for _ in range (int(angle * (math.pi/180) * 57.3)):\n",
        "    turtle.forward(1)\n",
        "    turtle.left(1)\n",
        "\n",
        "  turtle.pencolor(\"white\")\n",
        "\n",
        "\n",
        "arc(int(arc_angle))"
      ],
      "metadata": {
        "id": "4-erZsP8ZLba",
        "colab": {
          "base_uri": "https://localhost:8080/",
          "height": 557
        },
        "outputId": "6777665f-3cd3-49b1-cd06-4b38d150fe78"
      },
      "execution_count": null,
      "outputs": [
        {
          "name": "stdout",
          "output_type": "stream",
          "text": [
            "What angle should the arc be?\n",
            "75\n"
          ]
        },
        {
          "output_type": "display_data",
          "data": {
            "text/plain": [
              "<IPython.core.display.HTML object>"
            ],
            "text/html": [
              "\n",
              "      <svg width=\"800\" height=\"500\">\n",
              "        <rect width=\"100%\" height=\"100%\" fill=\"black\"/>\n",
              "        <line x1=\"400.0\" y1=\"250.0\" x2=\"400.0\" y2=\"249.0\" stroke-linecap=\"round\" style=\"stroke:white;stroke-width:4\"/><line x1=\"400.0\" y1=\"249.0\" x2=\"400.017\" y2=\"248.0\" stroke-linecap=\"round\" style=\"stroke:white;stroke-width:4\"/><line x1=\"400.017\" y1=\"248.0\" x2=\"400.052\" y2=\"247.001\" stroke-linecap=\"round\" style=\"stroke:white;stroke-width:4\"/><line x1=\"400.052\" y1=\"247.001\" x2=\"400.104\" y2=\"246.002\" stroke-linecap=\"round\" style=\"stroke:white;stroke-width:4\"/><line x1=\"400.104\" y1=\"246.002\" x2=\"400.174\" y2=\"245.004\" stroke-linecap=\"round\" style=\"stroke:white;stroke-width:4\"/><line x1=\"400.174\" y1=\"245.004\" x2=\"400.261\" y2=\"244.008\" stroke-linecap=\"round\" style=\"stroke:white;stroke-width:4\"/><line x1=\"400.261\" y1=\"244.008\" x2=\"400.366\" y2=\"243.013\" stroke-linecap=\"round\" style=\"stroke:white;stroke-width:4\"/><line x1=\"400.366\" y1=\"243.013\" x2=\"400.488\" y2=\"242.02\" stroke-linecap=\"round\" style=\"stroke:white;stroke-width:4\"/><line x1=\"400.488\" y1=\"242.02\" x2=\"400.627\" y2=\"241.03\" stroke-linecap=\"round\" style=\"stroke:white;stroke-width:4\"/><line x1=\"400.627\" y1=\"241.03\" x2=\"400.783\" y2=\"240.042\" stroke-linecap=\"round\" style=\"stroke:white;stroke-width:4\"/><line x1=\"400.783\" y1=\"240.042\" x2=\"400.957\" y2=\"239.057\" stroke-linecap=\"round\" style=\"stroke:white;stroke-width:4\"/><line x1=\"400.957\" y1=\"239.057\" x2=\"401.148\" y2=\"238.075\" stroke-linecap=\"round\" style=\"stroke:white;stroke-width:4\"/><line x1=\"401.148\" y1=\"238.075\" x2=\"401.356\" y2=\"237.097\" stroke-linecap=\"round\" style=\"stroke:white;stroke-width:4\"/><line x1=\"401.356\" y1=\"237.097\" x2=\"401.581\" y2=\"236.123\" stroke-linecap=\"round\" style=\"stroke:white;stroke-width:4\"/><line x1=\"401.581\" y1=\"236.123\" x2=\"401.823\" y2=\"235.153\" stroke-linecap=\"round\" style=\"stroke:white;stroke-width:4\"/><line x1=\"401.823\" y1=\"235.153\" x2=\"402.082\" y2=\"234.187\" stroke-linecap=\"round\" style=\"stroke:white;stroke-width:4\"/><line x1=\"402.082\" y1=\"234.187\" x2=\"402.358\" y2=\"233.226\" stroke-linecap=\"round\" style=\"stroke:white;stroke-width:4\"/><line x1=\"402.358\" y1=\"233.226\" x2=\"402.65\" y2=\"232.27\" stroke-linecap=\"round\" style=\"stroke:white;stroke-width:4\"/><line x1=\"402.65\" y1=\"232.27\" x2=\"402.959\" y2=\"231.319\" stroke-linecap=\"round\" style=\"stroke:white;stroke-width:4\"/><line x1=\"402.959\" y1=\"231.319\" x2=\"403.285\" y2=\"230.373\" stroke-linecap=\"round\" style=\"stroke:white;stroke-width:4\"/><line x1=\"403.285\" y1=\"230.373\" x2=\"403.627\" y2=\"229.433\" stroke-linecap=\"round\" style=\"stroke:white;stroke-width:4\"/><line x1=\"403.627\" y1=\"229.433\" x2=\"403.985\" y2=\"228.499\" stroke-linecap=\"round\" style=\"stroke:white;stroke-width:4\"/><line x1=\"403.985\" y1=\"228.499\" x2=\"404.36\" y2=\"227.572\" stroke-linecap=\"round\" style=\"stroke:white;stroke-width:4\"/><line x1=\"404.36\" y1=\"227.572\" x2=\"404.751\" y2=\"226.651\" stroke-linecap=\"round\" style=\"stroke:white;stroke-width:4\"/><line x1=\"404.751\" y1=\"226.651\" x2=\"405.158\" y2=\"225.737\" stroke-linecap=\"round\" style=\"stroke:white;stroke-width:4\"/><line x1=\"405.158\" y1=\"225.737\" x2=\"405.581\" y2=\"224.831\" stroke-linecap=\"round\" style=\"stroke:white;stroke-width:4\"/><line x1=\"405.581\" y1=\"224.831\" x2=\"406.019\" y2=\"223.932\" stroke-linecap=\"round\" style=\"stroke:white;stroke-width:4\"/><line x1=\"406.019\" y1=\"223.932\" x2=\"406.473\" y2=\"223.041\" stroke-linecap=\"round\" style=\"stroke:white;stroke-width:4\"/><line x1=\"406.473\" y1=\"223.041\" x2=\"406.942\" y2=\"222.158\" stroke-linecap=\"round\" style=\"stroke:white;stroke-width:4\"/><line x1=\"406.942\" y1=\"222.158\" x2=\"407.427\" y2=\"221.283\" stroke-linecap=\"round\" style=\"stroke:white;stroke-width:4\"/><line x1=\"407.427\" y1=\"221.283\" x2=\"407.927\" y2=\"220.417\" stroke-linecap=\"round\" style=\"stroke:white;stroke-width:4\"/><line x1=\"407.927\" y1=\"220.417\" x2=\"408.442\" y2=\"219.56\" stroke-linecap=\"round\" style=\"stroke:white;stroke-width:4\"/><line x1=\"408.442\" y1=\"219.56\" x2=\"408.972\" y2=\"218.712\" stroke-linecap=\"round\" style=\"stroke:white;stroke-width:4\"/><line x1=\"408.972\" y1=\"218.712\" x2=\"409.517\" y2=\"217.873\" stroke-linecap=\"round\" style=\"stroke:white;stroke-width:4\"/><line x1=\"409.517\" y1=\"217.873\" x2=\"410.076\" y2=\"217.044\" stroke-linecap=\"round\" style=\"stroke:white;stroke-width:4\"/><line x1=\"410.076\" y1=\"217.044\" x2=\"410.65\" y2=\"216.225\" stroke-linecap=\"round\" style=\"stroke:white;stroke-width:4\"/><line x1=\"410.65\" y1=\"216.225\" x2=\"411.238\" y2=\"215.416\" stroke-linecap=\"round\" style=\"stroke:white;stroke-width:4\"/><line x1=\"411.238\" y1=\"215.416\" x2=\"411.84\" y2=\"214.617\" stroke-linecap=\"round\" style=\"stroke:white;stroke-width:4\"/><line x1=\"411.84\" y1=\"214.617\" x2=\"412.456\" y2=\"213.829\" stroke-linecap=\"round\" style=\"stroke:white;stroke-width:4\"/><line x1=\"412.456\" y1=\"213.829\" x2=\"413.085\" y2=\"213.052\" stroke-linecap=\"round\" style=\"stroke:white;stroke-width:4\"/><line x1=\"413.085\" y1=\"213.052\" x2=\"413.728\" y2=\"212.286\" stroke-linecap=\"round\" style=\"stroke:white;stroke-width:4\"/><line x1=\"413.728\" y1=\"212.286\" x2=\"414.384\" y2=\"211.531\" stroke-linecap=\"round\" style=\"stroke:white;stroke-width:4\"/><line x1=\"414.384\" y1=\"211.531\" x2=\"415.053\" y2=\"210.788\" stroke-linecap=\"round\" style=\"stroke:white;stroke-width:4\"/><line x1=\"415.053\" y1=\"210.788\" x2=\"415.735\" y2=\"210.057\" stroke-linecap=\"round\" style=\"stroke:white;stroke-width:4\"/><line x1=\"415.735\" y1=\"210.057\" x2=\"416.43\" y2=\"209.338\" stroke-linecap=\"round\" style=\"stroke:white;stroke-width:4\"/><line x1=\"416.43\" y1=\"209.338\" x2=\"417.137\" y2=\"208.631\" stroke-linecap=\"round\" style=\"stroke:white;stroke-width:4\"/><line x1=\"417.137\" y1=\"208.631\" x2=\"417.856\" y2=\"207.936\" stroke-linecap=\"round\" style=\"stroke:white;stroke-width:4\"/><line x1=\"417.856\" y1=\"207.936\" x2=\"418.587\" y2=\"207.254\" stroke-linecap=\"round\" style=\"stroke:white;stroke-width:4\"/><line x1=\"418.587\" y1=\"207.254\" x2=\"419.33\" y2=\"206.585\" stroke-linecap=\"round\" style=\"stroke:white;stroke-width:4\"/><line x1=\"419.33\" y1=\"206.585\" x2=\"420.085\" y2=\"205.929\" stroke-linecap=\"round\" style=\"stroke:white;stroke-width:4\"/><line x1=\"420.085\" y1=\"205.929\" x2=\"420.851\" y2=\"205.286\" stroke-linecap=\"round\" style=\"stroke:white;stroke-width:4\"/><line x1=\"420.851\" y1=\"205.286\" x2=\"421.628\" y2=\"204.657\" stroke-linecap=\"round\" style=\"stroke:white;stroke-width:4\"/><line x1=\"421.628\" y1=\"204.657\" x2=\"422.416\" y2=\"204.041\" stroke-linecap=\"round\" style=\"stroke:white;stroke-width:4\"/><line x1=\"422.416\" y1=\"204.041\" x2=\"423.215\" y2=\"203.439\" stroke-linecap=\"round\" style=\"stroke:white;stroke-width:4\"/><line x1=\"423.215\" y1=\"203.439\" x2=\"424.024\" y2=\"202.851\" stroke-linecap=\"round\" style=\"stroke:white;stroke-width:4\"/><line x1=\"424.024\" y1=\"202.851\" x2=\"424.843\" y2=\"202.277\" stroke-linecap=\"round\" style=\"stroke:white;stroke-width:4\"/><line x1=\"424.843\" y1=\"202.277\" x2=\"425.672\" y2=\"201.718\" stroke-linecap=\"round\" style=\"stroke:white;stroke-width:4\"/><line x1=\"425.672\" y1=\"201.718\" x2=\"426.511\" y2=\"201.173\" stroke-linecap=\"round\" style=\"stroke:white;stroke-width:4\"/><line x1=\"426.511\" y1=\"201.173\" x2=\"427.359\" y2=\"200.643\" stroke-linecap=\"round\" style=\"stroke:white;stroke-width:4\"/><line x1=\"427.359\" y1=\"200.643\" x2=\"428.216\" y2=\"200.128\" stroke-linecap=\"round\" style=\"stroke:white;stroke-width:4\"/><line x1=\"428.216\" y1=\"200.128\" x2=\"429.082\" y2=\"199.628\" stroke-linecap=\"round\" style=\"stroke:white;stroke-width:4\"/><line x1=\"429.082\" y1=\"199.628\" x2=\"429.957\" y2=\"199.143\" stroke-linecap=\"round\" style=\"stroke:white;stroke-width:4\"/><line x1=\"429.957\" y1=\"199.143\" x2=\"430.84\" y2=\"198.674\" stroke-linecap=\"round\" style=\"stroke:white;stroke-width:4\"/><line x1=\"430.84\" y1=\"198.674\" x2=\"431.731\" y2=\"198.22\" stroke-linecap=\"round\" style=\"stroke:white;stroke-width:4\"/><line x1=\"431.731\" y1=\"198.22\" x2=\"432.63\" y2=\"197.782\" stroke-linecap=\"round\" style=\"stroke:white;stroke-width:4\"/><line x1=\"432.63\" y1=\"197.782\" x2=\"433.536\" y2=\"197.359\" stroke-linecap=\"round\" style=\"stroke:white;stroke-width:4\"/><line x1=\"433.536\" y1=\"197.359\" x2=\"434.45\" y2=\"196.952\" stroke-linecap=\"round\" style=\"stroke:white;stroke-width:4\"/><line x1=\"434.45\" y1=\"196.952\" x2=\"435.371\" y2=\"196.561\" stroke-linecap=\"round\" style=\"stroke:white;stroke-width:4\"/><line x1=\"435.371\" y1=\"196.561\" x2=\"436.298\" y2=\"196.186\" stroke-linecap=\"round\" style=\"stroke:white;stroke-width:4\"/><line x1=\"436.298\" y1=\"196.186\" x2=\"437.232\" y2=\"195.828\" stroke-linecap=\"round\" style=\"stroke:white;stroke-width:4\"/><line x1=\"437.232\" y1=\"195.828\" x2=\"438.172\" y2=\"195.486\" stroke-linecap=\"round\" style=\"stroke:white;stroke-width:4\"/><line x1=\"438.172\" y1=\"195.486\" x2=\"439.118\" y2=\"195.16\" stroke-linecap=\"round\" style=\"stroke:white;stroke-width:4\"/><line x1=\"439.118\" y1=\"195.16\" x2=\"440.069\" y2=\"194.851\" stroke-linecap=\"round\" style=\"stroke:white;stroke-width:4\"/><line x1=\"440.069\" y1=\"194.851\" x2=\"441.025\" y2=\"194.559\" stroke-linecap=\"round\" style=\"stroke:white;stroke-width:4\"/><line x1=\"441.025\" y1=\"194.559\" x2=\"441.986\" y2=\"194.283\" stroke-linecap=\"round\" style=\"stroke:white;stroke-width:4\"/><line x1=\"441.986\" y1=\"194.283\" x2=\"442.952\" y2=\"194.024\" stroke-linecap=\"round\" style=\"stroke:white;stroke-width:4\"/><line x1=\"442.952\" y1=\"194.024\" x2=\"443.922\" y2=\"193.782\" stroke-linecap=\"round\" style=\"stroke:white;stroke-width:4\"/><line x1=\"443.922\" y1=\"193.782\" x2=\"444.896\" y2=\"193.557\" stroke-linecap=\"round\" style=\"stroke:white;stroke-width:4\"/><line x1=\"444.896\" y1=\"193.557\" x2=\"445.874\" y2=\"193.349\" stroke-linecap=\"round\" style=\"stroke:white;stroke-width:4\"/><line x1=\"445.874\" y1=\"193.349\" x2=\"446.856\" y2=\"193.158\" stroke-linecap=\"round\" style=\"stroke:white;stroke-width:4\"/><line x1=\"446.856\" y1=\"193.158\" x2=\"447.841\" y2=\"192.984\" stroke-linecap=\"round\" style=\"stroke:white;stroke-width:4\"/><line x1=\"447.841\" y1=\"192.984\" x2=\"448.829\" y2=\"192.828\" stroke-linecap=\"round\" style=\"stroke:white;stroke-width:4\"/><line x1=\"448.829\" y1=\"192.828\" x2=\"449.819\" y2=\"192.689\" stroke-linecap=\"round\" style=\"stroke:white;stroke-width:4\"/><line x1=\"449.819\" y1=\"192.689\" x2=\"450.812\" y2=\"192.567\" stroke-linecap=\"round\" style=\"stroke:white;stroke-width:4\"/><line x1=\"450.812\" y1=\"192.567\" x2=\"451.807\" y2=\"192.462\" stroke-linecap=\"round\" style=\"stroke:white;stroke-width:4\"/><line x1=\"451.807\" y1=\"192.462\" x2=\"452.803\" y2=\"192.375\" stroke-linecap=\"round\" style=\"stroke:white;stroke-width:4\"/><line x1=\"452.803\" y1=\"192.375\" x2=\"453.801\" y2=\"192.305\" stroke-linecap=\"round\" style=\"stroke:white;stroke-width:4\"/><line x1=\"453.801\" y1=\"192.305\" x2=\"454.8\" y2=\"192.253\" stroke-linecap=\"round\" style=\"stroke:white;stroke-width:4\"/><line x1=\"454.8\" y1=\"192.253\" x2=\"455.799\" y2=\"192.218\" stroke-linecap=\"round\" style=\"stroke:white;stroke-width:4\"/><line x1=\"455.799\" y1=\"192.218\" x2=\"456.799\" y2=\"192.201\" stroke-linecap=\"round\" style=\"stroke:white;stroke-width:4\"/><line x1=\"456.799\" y1=\"192.201\" x2=\"457.799\" y2=\"192.201\" stroke-linecap=\"round\" style=\"stroke:white;stroke-width:4\"/><line x1=\"457.799\" y1=\"192.201\" x2=\"458.799\" y2=\"192.218\" stroke-linecap=\"round\" style=\"stroke:white;stroke-width:4\"/><line x1=\"458.799\" y1=\"192.218\" x2=\"459.798\" y2=\"192.253\" stroke-linecap=\"round\" style=\"stroke:white;stroke-width:4\"/><line x1=\"459.798\" y1=\"192.253\" x2=\"460.797\" y2=\"192.305\" stroke-linecap=\"round\" style=\"stroke:white;stroke-width:4\"/><line x1=\"460.797\" y1=\"192.305\" x2=\"461.795\" y2=\"192.375\" stroke-linecap=\"round\" style=\"stroke:white;stroke-width:4\"/><line x1=\"461.795\" y1=\"192.375\" x2=\"462.791\" y2=\"192.462\" stroke-linecap=\"round\" style=\"stroke:white;stroke-width:4\"/><line x1=\"462.791\" y1=\"192.462\" x2=\"463.786\" y2=\"192.567\" stroke-linecap=\"round\" style=\"stroke:white;stroke-width:4\"/><line x1=\"463.786\" y1=\"192.567\" x2=\"464.779\" y2=\"192.689\" stroke-linecap=\"round\" style=\"stroke:white;stroke-width:4\"/><line x1=\"464.779\" y1=\"192.689\" x2=\"465.769\" y2=\"192.828\" stroke-linecap=\"round\" style=\"stroke:white;stroke-width:4\"/><line x1=\"465.769\" y1=\"192.828\" x2=\"466.757\" y2=\"192.984\" stroke-linecap=\"round\" style=\"stroke:white;stroke-width:4\"/><line x1=\"466.757\" y1=\"192.984\" x2=\"467.742\" y2=\"193.158\" stroke-linecap=\"round\" style=\"stroke:white;stroke-width:4\"/><line x1=\"467.742\" y1=\"193.158\" x2=\"468.724\" y2=\"193.349\" stroke-linecap=\"round\" style=\"stroke:white;stroke-width:4\"/><line x1=\"468.724\" y1=\"193.349\" x2=\"469.702\" y2=\"193.557\" stroke-linecap=\"round\" style=\"stroke:white;stroke-width:4\"/><line x1=\"469.702\" y1=\"193.557\" x2=\"470.676\" y2=\"193.782\" stroke-linecap=\"round\" style=\"stroke:white;stroke-width:4\"/><line x1=\"470.676\" y1=\"193.782\" x2=\"471.646\" y2=\"194.024\" stroke-linecap=\"round\" style=\"stroke:white;stroke-width:4\"/><line x1=\"471.646\" y1=\"194.024\" x2=\"472.612\" y2=\"194.283\" stroke-linecap=\"round\" style=\"stroke:white;stroke-width:4\"/><line x1=\"472.612\" y1=\"194.283\" x2=\"473.573\" y2=\"194.559\" stroke-linecap=\"round\" style=\"stroke:white;stroke-width:4\"/><line x1=\"473.573\" y1=\"194.559\" x2=\"474.529\" y2=\"194.851\" stroke-linecap=\"round\" style=\"stroke:white;stroke-width:4\"/><line x1=\"474.529\" y1=\"194.851\" x2=\"475.48\" y2=\"195.16\" stroke-linecap=\"round\" style=\"stroke:white;stroke-width:4\"/><line x1=\"475.48\" y1=\"195.16\" x2=\"476.426\" y2=\"195.486\" stroke-linecap=\"round\" style=\"stroke:white;stroke-width:4\"/><line x1=\"476.426\" y1=\"195.486\" x2=\"477.366\" y2=\"195.828\" stroke-linecap=\"round\" style=\"stroke:white;stroke-width:4\"/><line x1=\"477.366\" y1=\"195.828\" x2=\"478.3\" y2=\"196.186\" stroke-linecap=\"round\" style=\"stroke:white;stroke-width:4\"/><line x1=\"478.3\" y1=\"196.186\" x2=\"479.227\" y2=\"196.561\" stroke-linecap=\"round\" style=\"stroke:white;stroke-width:4\"/><line x1=\"479.227\" y1=\"196.561\" x2=\"480.148\" y2=\"196.952\" stroke-linecap=\"round\" style=\"stroke:white;stroke-width:4\"/><line x1=\"480.148\" y1=\"196.952\" x2=\"481.062\" y2=\"197.359\" stroke-linecap=\"round\" style=\"stroke:white;stroke-width:4\"/><line x1=\"481.062\" y1=\"197.359\" x2=\"481.968\" y2=\"197.782\" stroke-linecap=\"round\" style=\"stroke:white;stroke-width:4\"/><line x1=\"481.968\" y1=\"197.782\" x2=\"482.867\" y2=\"198.22\" stroke-linecap=\"round\" style=\"stroke:white;stroke-width:4\"/><line x1=\"482.867\" y1=\"198.22\" x2=\"483.758\" y2=\"198.674\" stroke-linecap=\"round\" style=\"stroke:white;stroke-width:4\"/><line x1=\"483.758\" y1=\"198.674\" x2=\"484.641\" y2=\"199.143\" stroke-linecap=\"round\" style=\"stroke:white;stroke-width:4\"/><line x1=\"484.641\" y1=\"199.143\" x2=\"485.516\" y2=\"199.628\" stroke-linecap=\"round\" style=\"stroke:white;stroke-width:4\"/><line x1=\"485.516\" y1=\"199.628\" x2=\"486.382\" y2=\"200.128\" stroke-linecap=\"round\" style=\"stroke:white;stroke-width:4\"/><line x1=\"486.382\" y1=\"200.128\" x2=\"487.239\" y2=\"200.643\" stroke-linecap=\"round\" style=\"stroke:white;stroke-width:4\"/><line x1=\"487.239\" y1=\"200.643\" x2=\"488.087\" y2=\"201.173\" stroke-linecap=\"round\" style=\"stroke:white;stroke-width:4\"/><line x1=\"488.087\" y1=\"201.173\" x2=\"488.926\" y2=\"201.718\" stroke-linecap=\"round\" style=\"stroke:white;stroke-width:4\"/><line x1=\"488.926\" y1=\"201.718\" x2=\"489.755\" y2=\"202.277\" stroke-linecap=\"round\" style=\"stroke:white;stroke-width:4\"/><line x1=\"489.755\" y1=\"202.277\" x2=\"490.574\" y2=\"202.851\" stroke-linecap=\"round\" style=\"stroke:white;stroke-width:4\"/><line x1=\"490.574\" y1=\"202.851\" x2=\"491.383\" y2=\"203.439\" stroke-linecap=\"round\" style=\"stroke:white;stroke-width:4\"/><line x1=\"491.383\" y1=\"203.439\" x2=\"492.182\" y2=\"204.041\" stroke-linecap=\"round\" style=\"stroke:white;stroke-width:4\"/><line x1=\"492.182\" y1=\"204.041\" x2=\"492.97\" y2=\"204.657\" stroke-linecap=\"round\" style=\"stroke:white;stroke-width:4\"/><line x1=\"492.97\" y1=\"204.657\" x2=\"493.747\" y2=\"205.286\" stroke-linecap=\"round\" style=\"stroke:white;stroke-width:4\"/><line x1=\"493.747\" y1=\"205.286\" x2=\"494.513\" y2=\"205.929\" stroke-linecap=\"round\" style=\"stroke:white;stroke-width:4\"/><line x1=\"494.513\" y1=\"205.929\" x2=\"495.268\" y2=\"206.585\" stroke-linecap=\"round\" style=\"stroke:white;stroke-width:4\"/><line x1=\"495.268\" y1=\"206.585\" x2=\"496.011\" y2=\"207.254\" stroke-linecap=\"round\" style=\"stroke:white;stroke-width:4\"/><line x1=\"496.011\" y1=\"207.254\" x2=\"496.742\" y2=\"207.936\" stroke-linecap=\"round\" style=\"stroke:white;stroke-width:4\"/><line x1=\"496.742\" y1=\"207.936\" x2=\"497.461\" y2=\"208.631\" stroke-linecap=\"round\" style=\"stroke:white;stroke-width:4\"/><line x1=\"497.461\" y1=\"208.631\" x2=\"498.168\" y2=\"209.338\" stroke-linecap=\"round\" style=\"stroke:white;stroke-width:4\"/><line x1=\"498.168\" y1=\"209.338\" x2=\"498.863\" y2=\"210.057\" stroke-linecap=\"round\" style=\"stroke:white;stroke-width:4\"/><line x1=\"498.863\" y1=\"210.057\" x2=\"499.545\" y2=\"210.788\" stroke-linecap=\"round\" style=\"stroke:white;stroke-width:4\"/><line x1=\"499.545\" y1=\"210.788\" x2=\"500.214\" y2=\"211.531\" stroke-linecap=\"round\" style=\"stroke:white;stroke-width:4\"/><line x1=\"500.214\" y1=\"211.531\" x2=\"500.87\" y2=\"212.286\" stroke-linecap=\"round\" style=\"stroke:white;stroke-width:4\"/><line x1=\"500.87\" y1=\"212.286\" x2=\"501.513\" y2=\"213.052\" stroke-linecap=\"round\" style=\"stroke:white;stroke-width:4\"/><line x1=\"501.513\" y1=\"213.052\" x2=\"502.142\" y2=\"213.829\" stroke-linecap=\"round\" style=\"stroke:white;stroke-width:4\"/><line x1=\"502.142\" y1=\"213.829\" x2=\"502.758\" y2=\"214.617\" stroke-linecap=\"round\" style=\"stroke:white;stroke-width:4\"/><line x1=\"502.758\" y1=\"214.617\" x2=\"503.36\" y2=\"215.416\" stroke-linecap=\"round\" style=\"stroke:white;stroke-width:4\"/><line x1=\"503.36\" y1=\"215.416\" x2=\"503.948\" y2=\"216.225\" stroke-linecap=\"round\" style=\"stroke:white;stroke-width:4\"/><line x1=\"503.948\" y1=\"216.225\" x2=\"504.522\" y2=\"217.044\" stroke-linecap=\"round\" style=\"stroke:white;stroke-width:4\"/><line x1=\"504.522\" y1=\"217.044\" x2=\"505.081\" y2=\"217.873\" stroke-linecap=\"round\" style=\"stroke:white;stroke-width:4\"/><line x1=\"505.081\" y1=\"217.873\" x2=\"505.626\" y2=\"218.712\" stroke-linecap=\"round\" style=\"stroke:white;stroke-width:4\"/><line x1=\"505.626\" y1=\"218.712\" x2=\"506.156\" y2=\"219.56\" stroke-linecap=\"round\" style=\"stroke:white;stroke-width:4\"/><line x1=\"506.156\" y1=\"219.56\" x2=\"506.671\" y2=\"220.417\" stroke-linecap=\"round\" style=\"stroke:white;stroke-width:4\"/><line x1=\"506.671\" y1=\"220.417\" x2=\"507.171\" y2=\"221.283\" stroke-linecap=\"round\" style=\"stroke:white;stroke-width:4\"/><line x1=\"507.171\" y1=\"221.283\" x2=\"507.656\" y2=\"222.158\" stroke-linecap=\"round\" style=\"stroke:white;stroke-width:4\"/><line x1=\"507.656\" y1=\"222.158\" x2=\"508.125\" y2=\"223.041\" stroke-linecap=\"round\" style=\"stroke:white;stroke-width:4\"/><line x1=\"508.125\" y1=\"223.041\" x2=\"508.579\" y2=\"223.932\" stroke-linecap=\"round\" style=\"stroke:white;stroke-width:4\"/><line x1=\"508.579\" y1=\"223.932\" x2=\"509.017\" y2=\"224.831\" stroke-linecap=\"round\" style=\"stroke:white;stroke-width:4\"/><line x1=\"509.017\" y1=\"224.831\" x2=\"509.44\" y2=\"225.737\" stroke-linecap=\"round\" style=\"stroke:white;stroke-width:4\"/><line x1=\"509.44\" y1=\"225.737\" x2=\"509.847\" y2=\"226.651\" stroke-linecap=\"round\" style=\"stroke:white;stroke-width:4\"/><line x1=\"509.847\" y1=\"226.651\" x2=\"510.238\" y2=\"227.572\" stroke-linecap=\"round\" style=\"stroke:white;stroke-width:4\"/><line x1=\"510.238\" y1=\"227.572\" x2=\"510.613\" y2=\"228.499\" stroke-linecap=\"round\" style=\"stroke:white;stroke-width:4\"/><line x1=\"510.613\" y1=\"228.499\" x2=\"510.971\" y2=\"229.433\" stroke-linecap=\"round\" style=\"stroke:white;stroke-width:4\"/><line x1=\"510.971\" y1=\"229.433\" x2=\"511.313\" y2=\"230.373\" stroke-linecap=\"round\" style=\"stroke:white;stroke-width:4\"/><line x1=\"511.313\" y1=\"230.373\" x2=\"511.639\" y2=\"231.319\" stroke-linecap=\"round\" style=\"stroke:white;stroke-width:4\"/><line x1=\"511.639\" y1=\"231.319\" x2=\"511.948\" y2=\"232.27\" stroke-linecap=\"round\" style=\"stroke:white;stroke-width:4\"/><line x1=\"511.948\" y1=\"232.27\" x2=\"512.24\" y2=\"233.226\" stroke-linecap=\"round\" style=\"stroke:white;stroke-width:4\"/><line x1=\"512.24\" y1=\"233.226\" x2=\"512.516\" y2=\"234.187\" stroke-linecap=\"round\" style=\"stroke:white;stroke-width:4\"/><line x1=\"512.516\" y1=\"234.187\" x2=\"512.775\" y2=\"235.153\" stroke-linecap=\"round\" style=\"stroke:white;stroke-width:4\"/><line x1=\"512.775\" y1=\"235.153\" x2=\"513.017\" y2=\"236.123\" stroke-linecap=\"round\" style=\"stroke:white;stroke-width:4\"/><line x1=\"513.017\" y1=\"236.123\" x2=\"513.242\" y2=\"237.097\" stroke-linecap=\"round\" style=\"stroke:white;stroke-width:4\"/><line x1=\"513.242\" y1=\"237.097\" x2=\"513.45\" y2=\"238.075\" stroke-linecap=\"round\" style=\"stroke:white;stroke-width:4\"/><line x1=\"513.45\" y1=\"238.075\" x2=\"513.641\" y2=\"239.057\" stroke-linecap=\"round\" style=\"stroke:white;stroke-width:4\"/><line x1=\"513.641\" y1=\"239.057\" x2=\"513.815\" y2=\"240.042\" stroke-linecap=\"round\" style=\"stroke:white;stroke-width:4\"/><line x1=\"513.815\" y1=\"240.042\" x2=\"513.971\" y2=\"241.03\" stroke-linecap=\"round\" style=\"stroke:white;stroke-width:4\"/><line x1=\"513.971\" y1=\"241.03\" x2=\"514.11\" y2=\"242.02\" stroke-linecap=\"round\" style=\"stroke:white;stroke-width:4\"/><line x1=\"514.11\" y1=\"242.02\" x2=\"514.232\" y2=\"243.013\" stroke-linecap=\"round\" style=\"stroke:white;stroke-width:4\"/><line x1=\"514.232\" y1=\"243.013\" x2=\"514.337\" y2=\"244.008\" stroke-linecap=\"round\" style=\"stroke:white;stroke-width:4\"/><line x1=\"514.337\" y1=\"244.008\" x2=\"514.424\" y2=\"245.004\" stroke-linecap=\"round\" style=\"stroke:white;stroke-width:4\"/><line x1=\"514.424\" y1=\"245.004\" x2=\"514.494\" y2=\"246.002\" stroke-linecap=\"round\" style=\"stroke:white;stroke-width:4\"/><line x1=\"514.494\" y1=\"246.002\" x2=\"514.546\" y2=\"247.001\" stroke-linecap=\"round\" style=\"stroke:white;stroke-width:4\"/><line x1=\"514.546\" y1=\"247.001\" x2=\"514.581\" y2=\"248.0\" stroke-linecap=\"round\" style=\"stroke:white;stroke-width:4\"/><line x1=\"514.581\" y1=\"248.0\" x2=\"514.598\" y2=\"249.0\" stroke-linecap=\"round\" style=\"stroke:white;stroke-width:4\"/><line x1=\"514.598\" y1=\"249.0\" x2=\"514.598\" y2=\"250.0\" stroke-linecap=\"round\" style=\"stroke:white;stroke-width:4\"/><line x1=\"514.598\" y1=\"250.0\" x2=\"514.581\" y2=\"251.0\" stroke-linecap=\"round\" style=\"stroke:white;stroke-width:4\"/><line x1=\"514.581\" y1=\"251.0\" x2=\"514.546\" y2=\"251.999\" stroke-linecap=\"round\" style=\"stroke:white;stroke-width:4\"/><line x1=\"514.546\" y1=\"251.999\" x2=\"514.494\" y2=\"252.998\" stroke-linecap=\"round\" style=\"stroke:white;stroke-width:4\"/><line x1=\"514.494\" y1=\"252.998\" x2=\"514.424\" y2=\"253.996\" stroke-linecap=\"round\" style=\"stroke:white;stroke-width:4\"/><line x1=\"514.424\" y1=\"253.996\" x2=\"514.337\" y2=\"254.992\" stroke-linecap=\"round\" style=\"stroke:white;stroke-width:4\"/><line x1=\"514.337\" y1=\"254.992\" x2=\"514.232\" y2=\"255.987\" stroke-linecap=\"round\" style=\"stroke:white;stroke-width:4\"/><line x1=\"514.232\" y1=\"255.987\" x2=\"514.11\" y2=\"256.98\" stroke-linecap=\"round\" style=\"stroke:white;stroke-width:4\"/><line x1=\"514.11\" y1=\"256.98\" x2=\"513.971\" y2=\"257.97\" stroke-linecap=\"round\" style=\"stroke:white;stroke-width:4\"/><line x1=\"513.971\" y1=\"257.97\" x2=\"513.815\" y2=\"258.958\" stroke-linecap=\"round\" style=\"stroke:white;stroke-width:4\"/><line x1=\"513.815\" y1=\"258.958\" x2=\"513.641\" y2=\"259.943\" stroke-linecap=\"round\" style=\"stroke:white;stroke-width:4\"/><line x1=\"513.641\" y1=\"259.943\" x2=\"513.45\" y2=\"260.925\" stroke-linecap=\"round\" style=\"stroke:white;stroke-width:4\"/><line x1=\"513.45\" y1=\"260.925\" x2=\"513.242\" y2=\"261.903\" stroke-linecap=\"round\" style=\"stroke:white;stroke-width:4\"/><line x1=\"513.242\" y1=\"261.903\" x2=\"513.017\" y2=\"262.877\" stroke-linecap=\"round\" style=\"stroke:white;stroke-width:4\"/><line x1=\"513.017\" y1=\"262.877\" x2=\"512.775\" y2=\"263.847\" stroke-linecap=\"round\" style=\"stroke:white;stroke-width:4\"/><line x1=\"512.775\" y1=\"263.847\" x2=\"512.516\" y2=\"264.813\" stroke-linecap=\"round\" style=\"stroke:white;stroke-width:4\"/><line x1=\"512.516\" y1=\"264.813\" x2=\"512.24\" y2=\"265.774\" stroke-linecap=\"round\" style=\"stroke:white;stroke-width:4\"/><line x1=\"512.24\" y1=\"265.774\" x2=\"511.948\" y2=\"266.73\" stroke-linecap=\"round\" style=\"stroke:white;stroke-width:4\"/><line x1=\"511.948\" y1=\"266.73\" x2=\"511.639\" y2=\"267.681\" stroke-linecap=\"round\" style=\"stroke:white;stroke-width:4\"/><line x1=\"511.639\" y1=\"267.681\" x2=\"511.313\" y2=\"268.627\" stroke-linecap=\"round\" style=\"stroke:white;stroke-width:4\"/><line x1=\"511.313\" y1=\"268.627\" x2=\"510.971\" y2=\"269.567\" stroke-linecap=\"round\" style=\"stroke:white;stroke-width:4\"/><line x1=\"510.971\" y1=\"269.567\" x2=\"510.613\" y2=\"270.501\" stroke-linecap=\"round\" style=\"stroke:white;stroke-width:4\"/><line x1=\"510.613\" y1=\"270.501\" x2=\"510.238\" y2=\"271.428\" stroke-linecap=\"round\" style=\"stroke:white;stroke-width:4\"/><line x1=\"510.238\" y1=\"271.428\" x2=\"509.847\" y2=\"272.349\" stroke-linecap=\"round\" style=\"stroke:white;stroke-width:4\"/><line x1=\"509.847\" y1=\"272.349\" x2=\"509.44\" y2=\"273.263\" stroke-linecap=\"round\" style=\"stroke:white;stroke-width:4\"/><line x1=\"509.44\" y1=\"273.263\" x2=\"509.017\" y2=\"274.169\" stroke-linecap=\"round\" style=\"stroke:white;stroke-width:4\"/><line x1=\"509.017\" y1=\"274.169\" x2=\"508.579\" y2=\"275.068\" stroke-linecap=\"round\" style=\"stroke:white;stroke-width:4\"/><line x1=\"508.579\" y1=\"275.068\" x2=\"508.125\" y2=\"275.959\" stroke-linecap=\"round\" style=\"stroke:white;stroke-width:4\"/><line x1=\"508.125\" y1=\"275.959\" x2=\"507.656\" y2=\"276.842\" stroke-linecap=\"round\" style=\"stroke:white;stroke-width:4\"/><line x1=\"507.656\" y1=\"276.842\" x2=\"507.171\" y2=\"277.717\" stroke-linecap=\"round\" style=\"stroke:white;stroke-width:4\"/><line x1=\"507.171\" y1=\"277.717\" x2=\"506.671\" y2=\"278.583\" stroke-linecap=\"round\" style=\"stroke:white;stroke-width:4\"/><line x1=\"506.671\" y1=\"278.583\" x2=\"506.156\" y2=\"279.44\" stroke-linecap=\"round\" style=\"stroke:white;stroke-width:4\"/><line x1=\"506.156\" y1=\"279.44\" x2=\"505.626\" y2=\"280.288\" stroke-linecap=\"round\" style=\"stroke:white;stroke-width:4\"/><line x1=\"505.626\" y1=\"280.288\" x2=\"505.081\" y2=\"281.127\" stroke-linecap=\"round\" style=\"stroke:white;stroke-width:4\"/><line x1=\"505.081\" y1=\"281.127\" x2=\"504.522\" y2=\"281.956\" stroke-linecap=\"round\" style=\"stroke:white;stroke-width:4\"/><line x1=\"504.522\" y1=\"281.956\" x2=\"503.948\" y2=\"282.775\" stroke-linecap=\"round\" style=\"stroke:white;stroke-width:4\"/><line x1=\"503.948\" y1=\"282.775\" x2=\"503.36\" y2=\"283.584\" stroke-linecap=\"round\" style=\"stroke:white;stroke-width:4\"/><line x1=\"503.36\" y1=\"283.584\" x2=\"502.758\" y2=\"284.383\" stroke-linecap=\"round\" style=\"stroke:white;stroke-width:4\"/><line x1=\"502.758\" y1=\"284.383\" x2=\"502.142\" y2=\"285.171\" stroke-linecap=\"round\" style=\"stroke:white;stroke-width:4\"/><line x1=\"502.142\" y1=\"285.171\" x2=\"501.513\" y2=\"285.948\" stroke-linecap=\"round\" style=\"stroke:white;stroke-width:4\"/><line x1=\"501.513\" y1=\"285.948\" x2=\"500.87\" y2=\"286.714\" stroke-linecap=\"round\" style=\"stroke:white;stroke-width:4\"/><line x1=\"500.87\" y1=\"286.714\" x2=\"500.214\" y2=\"287.469\" stroke-linecap=\"round\" style=\"stroke:white;stroke-width:4\"/><line x1=\"500.214\" y1=\"287.469\" x2=\"499.545\" y2=\"288.212\" stroke-linecap=\"round\" style=\"stroke:white;stroke-width:4\"/><line x1=\"499.545\" y1=\"288.212\" x2=\"498.863\" y2=\"288.943\" stroke-linecap=\"round\" style=\"stroke:white;stroke-width:4\"/><line x1=\"498.863\" y1=\"288.943\" x2=\"498.168\" y2=\"289.662\" stroke-linecap=\"round\" style=\"stroke:white;stroke-width:4\"/><line x1=\"498.168\" y1=\"289.662\" x2=\"497.461\" y2=\"290.369\" stroke-linecap=\"round\" style=\"stroke:white;stroke-width:4\"/><line x1=\"497.461\" y1=\"290.369\" x2=\"496.742\" y2=\"291.064\" stroke-linecap=\"round\" style=\"stroke:white;stroke-width:4\"/><line x1=\"496.742\" y1=\"291.064\" x2=\"496.011\" y2=\"291.746\" stroke-linecap=\"round\" style=\"stroke:white;stroke-width:4\"/><line x1=\"496.011\" y1=\"291.746\" x2=\"495.268\" y2=\"292.415\" stroke-linecap=\"round\" style=\"stroke:white;stroke-width:4\"/><line x1=\"495.268\" y1=\"292.415\" x2=\"494.513\" y2=\"293.071\" stroke-linecap=\"round\" style=\"stroke:white;stroke-width:4\"/><line x1=\"494.513\" y1=\"293.071\" x2=\"493.747\" y2=\"293.714\" stroke-linecap=\"round\" style=\"stroke:white;stroke-width:4\"/><line x1=\"493.747\" y1=\"293.714\" x2=\"492.97\" y2=\"294.343\" stroke-linecap=\"round\" style=\"stroke:white;stroke-width:4\"/><line x1=\"492.97\" y1=\"294.343\" x2=\"492.182\" y2=\"294.959\" stroke-linecap=\"round\" style=\"stroke:white;stroke-width:4\"/><line x1=\"492.182\" y1=\"294.959\" x2=\"491.383\" y2=\"295.561\" stroke-linecap=\"round\" style=\"stroke:white;stroke-width:4\"/><line x1=\"491.383\" y1=\"295.561\" x2=\"490.574\" y2=\"296.149\" stroke-linecap=\"round\" style=\"stroke:white;stroke-width:4\"/><line x1=\"490.574\" y1=\"296.149\" x2=\"489.755\" y2=\"296.723\" stroke-linecap=\"round\" style=\"stroke:white;stroke-width:4\"/><line x1=\"489.755\" y1=\"296.723\" x2=\"488.926\" y2=\"297.282\" stroke-linecap=\"round\" style=\"stroke:white;stroke-width:4\"/><line x1=\"488.926\" y1=\"297.282\" x2=\"488.087\" y2=\"297.827\" stroke-linecap=\"round\" style=\"stroke:white;stroke-width:4\"/><line x1=\"488.087\" y1=\"297.827\" x2=\"487.239\" y2=\"298.357\" stroke-linecap=\"round\" style=\"stroke:white;stroke-width:4\"/><line x1=\"487.239\" y1=\"298.357\" x2=\"486.382\" y2=\"298.872\" stroke-linecap=\"round\" style=\"stroke:white;stroke-width:4\"/><line x1=\"486.382\" y1=\"298.872\" x2=\"485.516\" y2=\"299.372\" stroke-linecap=\"round\" style=\"stroke:white;stroke-width:4\"/><line x1=\"485.516\" y1=\"299.372\" x2=\"484.641\" y2=\"299.857\" stroke-linecap=\"round\" style=\"stroke:white;stroke-width:4\"/><line x1=\"484.641\" y1=\"299.857\" x2=\"483.758\" y2=\"300.326\" stroke-linecap=\"round\" style=\"stroke:white;stroke-width:4\"/><line x1=\"483.758\" y1=\"300.326\" x2=\"482.867\" y2=\"300.78\" stroke-linecap=\"round\" style=\"stroke:white;stroke-width:4\"/><line x1=\"482.867\" y1=\"300.78\" x2=\"481.968\" y2=\"301.218\" stroke-linecap=\"round\" style=\"stroke:white;stroke-width:4\"/><line x1=\"481.968\" y1=\"301.218\" x2=\"481.062\" y2=\"301.641\" stroke-linecap=\"round\" style=\"stroke:white;stroke-width:4\"/><line x1=\"481.062\" y1=\"301.641\" x2=\"480.148\" y2=\"302.048\" stroke-linecap=\"round\" style=\"stroke:white;stroke-width:4\"/><line x1=\"480.148\" y1=\"302.048\" x2=\"479.227\" y2=\"302.439\" stroke-linecap=\"round\" style=\"stroke:white;stroke-width:4\"/><line x1=\"479.227\" y1=\"302.439\" x2=\"478.3\" y2=\"302.814\" stroke-linecap=\"round\" style=\"stroke:white;stroke-width:4\"/><line x1=\"478.3\" y1=\"302.814\" x2=\"477.366\" y2=\"303.172\" stroke-linecap=\"round\" style=\"stroke:white;stroke-width:4\"/><line x1=\"477.366\" y1=\"303.172\" x2=\"476.426\" y2=\"303.514\" stroke-linecap=\"round\" style=\"stroke:white;stroke-width:4\"/><line x1=\"476.426\" y1=\"303.514\" x2=\"475.48\" y2=\"303.84\" stroke-linecap=\"round\" style=\"stroke:white;stroke-width:4\"/><line x1=\"475.48\" y1=\"303.84\" x2=\"474.529\" y2=\"304.149\" stroke-linecap=\"round\" style=\"stroke:white;stroke-width:4\"/><line x1=\"474.529\" y1=\"304.149\" x2=\"473.573\" y2=\"304.441\" stroke-linecap=\"round\" style=\"stroke:white;stroke-width:4\"/><line x1=\"473.573\" y1=\"304.441\" x2=\"472.612\" y2=\"304.717\" stroke-linecap=\"round\" style=\"stroke:white;stroke-width:4\"/><line x1=\"472.612\" y1=\"304.717\" x2=\"471.646\" y2=\"304.976\" stroke-linecap=\"round\" style=\"stroke:white;stroke-width:4\"/><line x1=\"471.646\" y1=\"304.976\" x2=\"470.676\" y2=\"305.218\" stroke-linecap=\"round\" style=\"stroke:white;stroke-width:4\"/><line x1=\"470.676\" y1=\"305.218\" x2=\"469.702\" y2=\"305.443\" stroke-linecap=\"round\" style=\"stroke:white;stroke-width:4\"/><line x1=\"469.702\" y1=\"305.443\" x2=\"468.724\" y2=\"305.651\" stroke-linecap=\"round\" style=\"stroke:white;stroke-width:4\"/><line x1=\"468.724\" y1=\"305.651\" x2=\"467.742\" y2=\"305.842\" stroke-linecap=\"round\" style=\"stroke:white;stroke-width:4\"/><line x1=\"467.742\" y1=\"305.842\" x2=\"466.757\" y2=\"306.016\" stroke-linecap=\"round\" style=\"stroke:white;stroke-width:4\"/><line x1=\"466.757\" y1=\"306.016\" x2=\"465.769\" y2=\"306.172\" stroke-linecap=\"round\" style=\"stroke:white;stroke-width:4\"/><line x1=\"465.769\" y1=\"306.172\" x2=\"464.779\" y2=\"306.311\" stroke-linecap=\"round\" style=\"stroke:white;stroke-width:4\"/><line x1=\"464.779\" y1=\"306.311\" x2=\"463.786\" y2=\"306.433\" stroke-linecap=\"round\" style=\"stroke:white;stroke-width:4\"/><line x1=\"463.786\" y1=\"306.433\" x2=\"462.791\" y2=\"306.538\" stroke-linecap=\"round\" style=\"stroke:white;stroke-width:4\"/><line x1=\"462.791\" y1=\"306.538\" x2=\"461.795\" y2=\"306.625\" stroke-linecap=\"round\" style=\"stroke:white;stroke-width:4\"/><line x1=\"461.795\" y1=\"306.625\" x2=\"460.797\" y2=\"306.695\" stroke-linecap=\"round\" style=\"stroke:white;stroke-width:4\"/><line x1=\"460.797\" y1=\"306.695\" x2=\"459.798\" y2=\"306.747\" stroke-linecap=\"round\" style=\"stroke:white;stroke-width:4\"/><line x1=\"459.798\" y1=\"306.747\" x2=\"458.799\" y2=\"306.782\" stroke-linecap=\"round\" style=\"stroke:white;stroke-width:4\"/><line x1=\"458.799\" y1=\"306.782\" x2=\"457.799\" y2=\"306.799\" stroke-linecap=\"round\" style=\"stroke:white;stroke-width:4\"/><line x1=\"457.799\" y1=\"306.799\" x2=\"456.799\" y2=\"306.799\" stroke-linecap=\"round\" style=\"stroke:white;stroke-width:4\"/><line x1=\"456.799\" y1=\"306.799\" x2=\"455.799\" y2=\"306.782\" stroke-linecap=\"round\" style=\"stroke:white;stroke-width:4\"/><line x1=\"455.799\" y1=\"306.782\" x2=\"454.8\" y2=\"306.747\" stroke-linecap=\"round\" style=\"stroke:white;stroke-width:4\"/><line x1=\"454.8\" y1=\"306.747\" x2=\"453.801\" y2=\"306.695\" stroke-linecap=\"round\" style=\"stroke:white;stroke-width:4\"/><line x1=\"453.801\" y1=\"306.695\" x2=\"452.803\" y2=\"306.625\" stroke-linecap=\"round\" style=\"stroke:white;stroke-width:4\"/><line x1=\"452.803\" y1=\"306.625\" x2=\"451.807\" y2=\"306.538\" stroke-linecap=\"round\" style=\"stroke:white;stroke-width:4\"/><line x1=\"451.807\" y1=\"306.538\" x2=\"450.812\" y2=\"306.433\" stroke-linecap=\"round\" style=\"stroke:white;stroke-width:4\"/><line x1=\"450.812\" y1=\"306.433\" x2=\"449.819\" y2=\"306.311\" stroke-linecap=\"round\" style=\"stroke:white;stroke-width:4\"/><line x1=\"449.819\" y1=\"306.311\" x2=\"448.829\" y2=\"306.172\" stroke-linecap=\"round\" style=\"stroke:white;stroke-width:4\"/><line x1=\"448.829\" y1=\"306.172\" x2=\"447.841\" y2=\"306.016\" stroke-linecap=\"round\" style=\"stroke:white;stroke-width:4\"/><line x1=\"447.841\" y1=\"306.016\" x2=\"446.856\" y2=\"305.842\" stroke-linecap=\"round\" style=\"stroke:white;stroke-width:4\"/><line x1=\"446.856\" y1=\"305.842\" x2=\"445.874\" y2=\"305.651\" stroke-linecap=\"round\" style=\"stroke:white;stroke-width:4\"/><line x1=\"445.874\" y1=\"305.651\" x2=\"444.896\" y2=\"305.443\" stroke-linecap=\"round\" style=\"stroke:white;stroke-width:4\"/><line x1=\"444.896\" y1=\"305.443\" x2=\"443.922\" y2=\"305.218\" stroke-linecap=\"round\" style=\"stroke:white;stroke-width:4\"/><line x1=\"443.922\" y1=\"305.218\" x2=\"442.952\" y2=\"304.976\" stroke-linecap=\"round\" style=\"stroke:white;stroke-width:4\"/><line x1=\"442.952\" y1=\"304.976\" x2=\"441.986\" y2=\"304.717\" stroke-linecap=\"round\" style=\"stroke:white;stroke-width:4\"/><line x1=\"441.986\" y1=\"304.717\" x2=\"441.025\" y2=\"304.441\" stroke-linecap=\"round\" style=\"stroke:white;stroke-width:4\"/><line x1=\"441.025\" y1=\"304.441\" x2=\"440.069\" y2=\"304.149\" stroke-linecap=\"round\" style=\"stroke:white;stroke-width:4\"/><line x1=\"440.069\" y1=\"304.149\" x2=\"439.118\" y2=\"303.84\" stroke-linecap=\"round\" style=\"stroke:white;stroke-width:4\"/><line x1=\"439.118\" y1=\"303.84\" x2=\"438.172\" y2=\"303.514\" stroke-linecap=\"round\" style=\"stroke:white;stroke-width:4\"/><line x1=\"438.172\" y1=\"303.514\" x2=\"437.232\" y2=\"303.172\" stroke-linecap=\"round\" style=\"stroke:white;stroke-width:4\"/><line x1=\"437.232\" y1=\"303.172\" x2=\"436.298\" y2=\"302.814\" stroke-linecap=\"round\" style=\"stroke:white;stroke-width:4\"/><line x1=\"436.298\" y1=\"302.814\" x2=\"435.371\" y2=\"302.439\" stroke-linecap=\"round\" style=\"stroke:white;stroke-width:4\"/><line x1=\"435.371\" y1=\"302.439\" x2=\"434.45\" y2=\"302.048\" stroke-linecap=\"round\" style=\"stroke:white;stroke-width:4\"/><line x1=\"434.45\" y1=\"302.048\" x2=\"433.536\" y2=\"301.641\" stroke-linecap=\"round\" style=\"stroke:white;stroke-width:4\"/><line x1=\"433.536\" y1=\"301.641\" x2=\"432.63\" y2=\"301.218\" stroke-linecap=\"round\" style=\"stroke:white;stroke-width:4\"/><line x1=\"432.63\" y1=\"301.218\" x2=\"431.731\" y2=\"300.78\" stroke-linecap=\"round\" style=\"stroke:white;stroke-width:4\"/><line x1=\"431.731\" y1=\"300.78\" x2=\"430.84\" y2=\"300.326\" stroke-linecap=\"round\" style=\"stroke:white;stroke-width:4\"/><line x1=\"430.84\" y1=\"300.326\" x2=\"429.957\" y2=\"299.857\" stroke-linecap=\"round\" style=\"stroke:white;stroke-width:4\"/><line x1=\"429.957\" y1=\"299.857\" x2=\"429.082\" y2=\"299.372\" stroke-linecap=\"round\" style=\"stroke:white;stroke-width:4\"/><line x1=\"429.082\" y1=\"299.372\" x2=\"428.216\" y2=\"298.872\" stroke-linecap=\"round\" style=\"stroke:white;stroke-width:4\"/><line x1=\"428.216\" y1=\"298.872\" x2=\"427.359\" y2=\"298.357\" stroke-linecap=\"round\" style=\"stroke:white;stroke-width:4\"/><line x1=\"427.359\" y1=\"298.357\" x2=\"426.511\" y2=\"297.827\" stroke-linecap=\"round\" style=\"stroke:white;stroke-width:4\"/><line x1=\"426.511\" y1=\"297.827\" x2=\"425.672\" y2=\"297.282\" stroke-linecap=\"round\" style=\"stroke:white;stroke-width:4\"/><line x1=\"425.672\" y1=\"297.282\" x2=\"424.843\" y2=\"296.723\" stroke-linecap=\"round\" style=\"stroke:white;stroke-width:4\"/><line x1=\"424.843\" y1=\"296.723\" x2=\"424.024\" y2=\"296.149\" stroke-linecap=\"round\" style=\"stroke:white;stroke-width:4\"/><line x1=\"424.024\" y1=\"296.149\" x2=\"423.215\" y2=\"295.561\" stroke-linecap=\"round\" style=\"stroke:white;stroke-width:4\"/><line x1=\"423.215\" y1=\"295.561\" x2=\"422.416\" y2=\"294.959\" stroke-linecap=\"round\" style=\"stroke:white;stroke-width:4\"/><line x1=\"422.416\" y1=\"294.959\" x2=\"421.628\" y2=\"294.343\" stroke-linecap=\"round\" style=\"stroke:white;stroke-width:4\"/><line x1=\"421.628\" y1=\"294.343\" x2=\"420.851\" y2=\"293.714\" stroke-linecap=\"round\" style=\"stroke:white;stroke-width:4\"/><line x1=\"420.851\" y1=\"293.714\" x2=\"420.085\" y2=\"293.071\" stroke-linecap=\"round\" style=\"stroke:white;stroke-width:4\"/><line x1=\"420.085\" y1=\"293.071\" x2=\"419.33\" y2=\"292.415\" stroke-linecap=\"round\" style=\"stroke:white;stroke-width:4\"/><line x1=\"419.33\" y1=\"292.415\" x2=\"418.587\" y2=\"291.746\" stroke-linecap=\"round\" style=\"stroke:white;stroke-width:4\"/><line x1=\"418.587\" y1=\"291.746\" x2=\"417.856\" y2=\"291.064\" stroke-linecap=\"round\" style=\"stroke:white;stroke-width:4\"/><line x1=\"417.856\" y1=\"291.064\" x2=\"417.137\" y2=\"290.369\" stroke-linecap=\"round\" style=\"stroke:white;stroke-width:4\"/><line x1=\"417.137\" y1=\"290.369\" x2=\"416.43\" y2=\"289.662\" stroke-linecap=\"round\" style=\"stroke:white;stroke-width:4\"/><line x1=\"416.43\" y1=\"289.662\" x2=\"415.735\" y2=\"288.943\" stroke-linecap=\"round\" style=\"stroke:white;stroke-width:4\"/><line x1=\"415.735\" y1=\"288.943\" x2=\"415.053\" y2=\"288.212\" stroke-linecap=\"round\" style=\"stroke:white;stroke-width:4\"/><line x1=\"415.053\" y1=\"288.212\" x2=\"414.384\" y2=\"287.469\" stroke-linecap=\"round\" style=\"stroke:white;stroke-width:4\"/><line x1=\"414.384\" y1=\"287.469\" x2=\"413.728\" y2=\"286.714\" stroke-linecap=\"round\" style=\"stroke:white;stroke-width:4\"/><line x1=\"413.728\" y1=\"286.714\" x2=\"413.085\" y2=\"285.948\" stroke-linecap=\"round\" style=\"stroke:white;stroke-width:4\"/><line x1=\"413.085\" y1=\"285.948\" x2=\"412.456\" y2=\"285.171\" stroke-linecap=\"round\" style=\"stroke:white;stroke-width:4\"/><line x1=\"412.456\" y1=\"285.171\" x2=\"411.84\" y2=\"284.383\" stroke-linecap=\"round\" style=\"stroke:white;stroke-width:4\"/><line x1=\"411.84\" y1=\"284.383\" x2=\"411.238\" y2=\"283.584\" stroke-linecap=\"round\" style=\"stroke:white;stroke-width:4\"/><line x1=\"411.238\" y1=\"283.584\" x2=\"410.65\" y2=\"282.775\" stroke-linecap=\"round\" style=\"stroke:white;stroke-width:4\"/><line x1=\"410.65\" y1=\"282.775\" x2=\"410.076\" y2=\"281.956\" stroke-linecap=\"round\" style=\"stroke:white;stroke-width:4\"/><line x1=\"410.076\" y1=\"281.956\" x2=\"409.517\" y2=\"281.127\" stroke-linecap=\"round\" style=\"stroke:white;stroke-width:4\"/><line x1=\"409.517\" y1=\"281.127\" x2=\"408.972\" y2=\"280.288\" stroke-linecap=\"round\" style=\"stroke:white;stroke-width:4\"/><line x1=\"408.972\" y1=\"280.288\" x2=\"408.442\" y2=\"279.44\" stroke-linecap=\"round\" style=\"stroke:white;stroke-width:4\"/><line x1=\"408.442\" y1=\"279.44\" x2=\"407.927\" y2=\"278.583\" stroke-linecap=\"round\" style=\"stroke:white;stroke-width:4\"/><line x1=\"407.927\" y1=\"278.583\" x2=\"407.427\" y2=\"277.717\" stroke-linecap=\"round\" style=\"stroke:white;stroke-width:4\"/><line x1=\"407.427\" y1=\"277.717\" x2=\"406.942\" y2=\"276.842\" stroke-linecap=\"round\" style=\"stroke:white;stroke-width:4\"/><line x1=\"406.942\" y1=\"276.842\" x2=\"406.473\" y2=\"275.959\" stroke-linecap=\"round\" style=\"stroke:white;stroke-width:4\"/><line x1=\"406.473\" y1=\"275.959\" x2=\"406.019\" y2=\"275.068\" stroke-linecap=\"round\" style=\"stroke:white;stroke-width:4\"/><line x1=\"406.019\" y1=\"275.068\" x2=\"405.581\" y2=\"274.169\" stroke-linecap=\"round\" style=\"stroke:white;stroke-width:4\"/><line x1=\"405.581\" y1=\"274.169\" x2=\"405.158\" y2=\"273.263\" stroke-linecap=\"round\" style=\"stroke:white;stroke-width:4\"/><line x1=\"405.158\" y1=\"273.263\" x2=\"404.751\" y2=\"272.349\" stroke-linecap=\"round\" style=\"stroke:white;stroke-width:4\"/><line x1=\"404.751\" y1=\"272.349\" x2=\"404.36\" y2=\"271.428\" stroke-linecap=\"round\" style=\"stroke:white;stroke-width:4\"/><line x1=\"404.36\" y1=\"271.428\" x2=\"403.985\" y2=\"270.501\" stroke-linecap=\"round\" style=\"stroke:white;stroke-width:4\"/><line x1=\"403.985\" y1=\"270.501\" x2=\"403.627\" y2=\"269.567\" stroke-linecap=\"round\" style=\"stroke:white;stroke-width:4\"/><line x1=\"403.627\" y1=\"269.567\" x2=\"403.285\" y2=\"268.627\" stroke-linecap=\"round\" style=\"stroke:white;stroke-width:4\"/><line x1=\"403.285\" y1=\"268.627\" x2=\"402.959\" y2=\"267.681\" stroke-linecap=\"round\" style=\"stroke:white;stroke-width:4\"/><line x1=\"402.959\" y1=\"267.681\" x2=\"402.65\" y2=\"266.73\" stroke-linecap=\"round\" style=\"stroke:white;stroke-width:4\"/><line x1=\"402.65\" y1=\"266.73\" x2=\"402.358\" y2=\"265.774\" stroke-linecap=\"round\" style=\"stroke:white;stroke-width:4\"/><line x1=\"402.358\" y1=\"265.774\" x2=\"402.082\" y2=\"264.813\" stroke-linecap=\"round\" style=\"stroke:white;stroke-width:4\"/><line x1=\"402.082\" y1=\"264.813\" x2=\"401.823\" y2=\"263.847\" stroke-linecap=\"round\" style=\"stroke:white;stroke-width:4\"/><line x1=\"401.823\" y1=\"263.847\" x2=\"401.581\" y2=\"262.877\" stroke-linecap=\"round\" style=\"stroke:white;stroke-width:4\"/><line x1=\"401.581\" y1=\"262.877\" x2=\"401.356\" y2=\"261.903\" stroke-linecap=\"round\" style=\"stroke:white;stroke-width:4\"/><line x1=\"401.356\" y1=\"261.903\" x2=\"401.148\" y2=\"260.925\" stroke-linecap=\"round\" style=\"stroke:white;stroke-width:4\"/><line x1=\"401.148\" y1=\"260.925\" x2=\"400.957\" y2=\"259.943\" stroke-linecap=\"round\" style=\"stroke:white;stroke-width:4\"/><line x1=\"400.957\" y1=\"259.943\" x2=\"400.783\" y2=\"258.958\" stroke-linecap=\"round\" style=\"stroke:white;stroke-width:4\"/><line x1=\"400.783\" y1=\"258.958\" x2=\"400.627\" y2=\"257.97\" stroke-linecap=\"round\" style=\"stroke:white;stroke-width:4\"/><line x1=\"400.627\" y1=\"257.97\" x2=\"400.488\" y2=\"256.98\" stroke-linecap=\"round\" style=\"stroke:white;stroke-width:4\"/><line x1=\"400.488\" y1=\"256.98\" x2=\"400.366\" y2=\"255.987\" stroke-linecap=\"round\" style=\"stroke:white;stroke-width:4\"/><line x1=\"400.366\" y1=\"255.987\" x2=\"400.261\" y2=\"254.992\" stroke-linecap=\"round\" style=\"stroke:white;stroke-width:4\"/><line x1=\"400.261\" y1=\"254.992\" x2=\"400.174\" y2=\"253.996\" stroke-linecap=\"round\" style=\"stroke:white;stroke-width:4\"/><line x1=\"400.174\" y1=\"253.996\" x2=\"400.104\" y2=\"252.998\" stroke-linecap=\"round\" style=\"stroke:white;stroke-width:4\"/><line x1=\"400.104\" y1=\"252.998\" x2=\"400.052\" y2=\"251.999\" stroke-linecap=\"round\" style=\"stroke:white;stroke-width:4\"/><line x1=\"400.052\" y1=\"251.999\" x2=\"400.017\" y2=\"251.0\" stroke-linecap=\"round\" style=\"stroke:white;stroke-width:4\"/><line x1=\"400.017\" y1=\"251.0\" x2=\"400.0\" y2=\"250.0\" stroke-linecap=\"round\" style=\"stroke:white;stroke-width:4\"/><line x1=\"400.0\" y1=\"250.0\" x2=\"457.3\" y2=\"250.0\" stroke-linecap=\"round\" style=\"stroke:red;stroke-width:4\"/><line x1=\"457.3\" y1=\"250.0\" x2=\"442.47\" y2=\"194.652\" stroke-linecap=\"round\" style=\"stroke:red;stroke-width:4\"/><line x1=\"442.47\" y1=\"194.652\" x2=\"441.504\" y2=\"194.911\" stroke-linecap=\"round\" style=\"stroke:red;stroke-width:4\"/><line x1=\"441.504\" y1=\"194.911\" x2=\"440.543\" y2=\"195.187\" stroke-linecap=\"round\" style=\"stroke:red;stroke-width:4\"/><line x1=\"440.543\" y1=\"195.187\" x2=\"439.587\" y2=\"195.479\" stroke-linecap=\"round\" style=\"stroke:red;stroke-width:4\"/><line x1=\"439.587\" y1=\"195.479\" x2=\"438.636\" y2=\"195.788\" stroke-linecap=\"round\" style=\"stroke:red;stroke-width:4\"/><line x1=\"438.636\" y1=\"195.788\" x2=\"437.69\" y2=\"196.114\" stroke-linecap=\"round\" style=\"stroke:red;stroke-width:4\"/><line x1=\"437.69\" y1=\"196.114\" x2=\"436.75\" y2=\"196.456\" stroke-linecap=\"round\" style=\"stroke:red;stroke-width:4\"/><line x1=\"436.75\" y1=\"196.456\" x2=\"435.816\" y2=\"196.814\" stroke-linecap=\"round\" style=\"stroke:red;stroke-width:4\"/><line x1=\"435.816\" y1=\"196.814\" x2=\"434.889\" y2=\"197.189\" stroke-linecap=\"round\" style=\"stroke:red;stroke-width:4\"/><line x1=\"434.889\" y1=\"197.189\" x2=\"433.968\" y2=\"197.58\" stroke-linecap=\"round\" style=\"stroke:red;stroke-width:4\"/><line x1=\"433.968\" y1=\"197.58\" x2=\"433.054\" y2=\"197.987\" stroke-linecap=\"round\" style=\"stroke:red;stroke-width:4\"/><line x1=\"433.054\" y1=\"197.987\" x2=\"432.148\" y2=\"198.41\" stroke-linecap=\"round\" style=\"stroke:red;stroke-width:4\"/><line x1=\"432.148\" y1=\"198.41\" x2=\"431.249\" y2=\"198.848\" stroke-linecap=\"round\" style=\"stroke:red;stroke-width:4\"/><line x1=\"431.249\" y1=\"198.848\" x2=\"430.358\" y2=\"199.302\" stroke-linecap=\"round\" style=\"stroke:red;stroke-width:4\"/><line x1=\"430.358\" y1=\"199.302\" x2=\"429.475\" y2=\"199.771\" stroke-linecap=\"round\" style=\"stroke:red;stroke-width:4\"/><line x1=\"429.475\" y1=\"199.771\" x2=\"428.6\" y2=\"200.256\" stroke-linecap=\"round\" style=\"stroke:red;stroke-width:4\"/><line x1=\"428.6\" y1=\"200.256\" x2=\"427.734\" y2=\"200.756\" stroke-linecap=\"round\" style=\"stroke:red;stroke-width:4\"/><line x1=\"427.734\" y1=\"200.756\" x2=\"426.877\" y2=\"201.271\" stroke-linecap=\"round\" style=\"stroke:red;stroke-width:4\"/><line x1=\"426.877\" y1=\"201.271\" x2=\"426.029\" y2=\"201.801\" stroke-linecap=\"round\" style=\"stroke:red;stroke-width:4\"/><line x1=\"426.029\" y1=\"201.801\" x2=\"425.19\" y2=\"202.346\" stroke-linecap=\"round\" style=\"stroke:red;stroke-width:4\"/><line x1=\"425.19\" y1=\"202.346\" x2=\"424.361\" y2=\"202.905\" stroke-linecap=\"round\" style=\"stroke:red;stroke-width:4\"/><line x1=\"424.361\" y1=\"202.905\" x2=\"423.542\" y2=\"203.479\" stroke-linecap=\"round\" style=\"stroke:red;stroke-width:4\"/><line x1=\"423.542\" y1=\"203.479\" x2=\"422.733\" y2=\"204.067\" stroke-linecap=\"round\" style=\"stroke:red;stroke-width:4\"/><line x1=\"422.733\" y1=\"204.067\" x2=\"421.934\" y2=\"204.669\" stroke-linecap=\"round\" style=\"stroke:red;stroke-width:4\"/><line x1=\"421.934\" y1=\"204.669\" x2=\"421.146\" y2=\"205.285\" stroke-linecap=\"round\" style=\"stroke:red;stroke-width:4\"/><line x1=\"421.146\" y1=\"205.285\" x2=\"420.369\" y2=\"205.914\" stroke-linecap=\"round\" style=\"stroke:red;stroke-width:4\"/><line x1=\"420.369\" y1=\"205.914\" x2=\"419.603\" y2=\"206.557\" stroke-linecap=\"round\" style=\"stroke:red;stroke-width:4\"/><line x1=\"419.603\" y1=\"206.557\" x2=\"418.848\" y2=\"207.213\" stroke-linecap=\"round\" style=\"stroke:red;stroke-width:4\"/><line x1=\"418.848\" y1=\"207.213\" x2=\"418.105\" y2=\"207.882\" stroke-linecap=\"round\" style=\"stroke:red;stroke-width:4\"/><line x1=\"418.105\" y1=\"207.882\" x2=\"417.374\" y2=\"208.564\" stroke-linecap=\"round\" style=\"stroke:red;stroke-width:4\"/><line x1=\"417.374\" y1=\"208.564\" x2=\"416.655\" y2=\"209.259\" stroke-linecap=\"round\" style=\"stroke:red;stroke-width:4\"/><line x1=\"416.655\" y1=\"209.259\" x2=\"415.948\" y2=\"209.966\" stroke-linecap=\"round\" style=\"stroke:red;stroke-width:4\"/><line x1=\"415.948\" y1=\"209.966\" x2=\"415.253\" y2=\"210.685\" stroke-linecap=\"round\" style=\"stroke:red;stroke-width:4\"/><line x1=\"415.253\" y1=\"210.685\" x2=\"414.571\" y2=\"211.416\" stroke-linecap=\"round\" style=\"stroke:red;stroke-width:4\"/><line x1=\"414.571\" y1=\"211.416\" x2=\"413.902\" y2=\"212.159\" stroke-linecap=\"round\" style=\"stroke:red;stroke-width:4\"/><line x1=\"413.902\" y1=\"212.159\" x2=\"413.246\" y2=\"212.914\" stroke-linecap=\"round\" style=\"stroke:red;stroke-width:4\"/><line x1=\"413.246\" y1=\"212.914\" x2=\"412.603\" y2=\"213.68\" stroke-linecap=\"round\" style=\"stroke:red;stroke-width:4\"/><line x1=\"412.603\" y1=\"213.68\" x2=\"411.974\" y2=\"214.457\" stroke-linecap=\"round\" style=\"stroke:red;stroke-width:4\"/><line x1=\"411.974\" y1=\"214.457\" x2=\"411.358\" y2=\"215.245\" stroke-linecap=\"round\" style=\"stroke:red;stroke-width:4\"/><line x1=\"411.358\" y1=\"215.245\" x2=\"410.756\" y2=\"216.044\" stroke-linecap=\"round\" style=\"stroke:red;stroke-width:4\"/><line x1=\"410.756\" y1=\"216.044\" x2=\"410.168\" y2=\"216.853\" stroke-linecap=\"round\" style=\"stroke:red;stroke-width:4\"/><line x1=\"410.168\" y1=\"216.853\" x2=\"409.594\" y2=\"217.672\" stroke-linecap=\"round\" style=\"stroke:red;stroke-width:4\"/><line x1=\"409.594\" y1=\"217.672\" x2=\"409.035\" y2=\"218.501\" stroke-linecap=\"round\" style=\"stroke:red;stroke-width:4\"/><line x1=\"409.035\" y1=\"218.501\" x2=\"408.49\" y2=\"219.34\" stroke-linecap=\"round\" style=\"stroke:red;stroke-width:4\"/><line x1=\"408.49\" y1=\"219.34\" x2=\"407.96\" y2=\"220.188\" stroke-linecap=\"round\" style=\"stroke:red;stroke-width:4\"/><line x1=\"407.96\" y1=\"220.188\" x2=\"407.445\" y2=\"221.045\" stroke-linecap=\"round\" style=\"stroke:red;stroke-width:4\"/><line x1=\"407.445\" y1=\"221.045\" x2=\"406.945\" y2=\"221.911\" stroke-linecap=\"round\" style=\"stroke:red;stroke-width:4\"/><line x1=\"406.945\" y1=\"221.911\" x2=\"406.46\" y2=\"222.786\" stroke-linecap=\"round\" style=\"stroke:red;stroke-width:4\"/><line x1=\"406.46\" y1=\"222.786\" x2=\"405.991\" y2=\"223.669\" stroke-linecap=\"round\" style=\"stroke:red;stroke-width:4\"/><line x1=\"405.991\" y1=\"223.669\" x2=\"405.537\" y2=\"224.56\" stroke-linecap=\"round\" style=\"stroke:red;stroke-width:4\"/><line x1=\"405.537\" y1=\"224.56\" x2=\"405.099\" y2=\"225.459\" stroke-linecap=\"round\" style=\"stroke:red;stroke-width:4\"/><line x1=\"405.099\" y1=\"225.459\" x2=\"404.676\" y2=\"226.365\" stroke-linecap=\"round\" style=\"stroke:red;stroke-width:4\"/><line x1=\"404.676\" y1=\"226.365\" x2=\"404.269\" y2=\"227.279\" stroke-linecap=\"round\" style=\"stroke:red;stroke-width:4\"/><line x1=\"404.269\" y1=\"227.279\" x2=\"403.878\" y2=\"228.2\" stroke-linecap=\"round\" style=\"stroke:red;stroke-width:4\"/><line x1=\"403.878\" y1=\"228.2\" x2=\"403.503\" y2=\"229.127\" stroke-linecap=\"round\" style=\"stroke:red;stroke-width:4\"/><line x1=\"403.503\" y1=\"229.127\" x2=\"403.145\" y2=\"230.061\" stroke-linecap=\"round\" style=\"stroke:red;stroke-width:4\"/><line x1=\"403.145\" y1=\"230.061\" x2=\"402.803\" y2=\"231.001\" stroke-linecap=\"round\" style=\"stroke:red;stroke-width:4\"/><line x1=\"402.803\" y1=\"231.001\" x2=\"402.477\" y2=\"231.947\" stroke-linecap=\"round\" style=\"stroke:red;stroke-width:4\"/><line x1=\"402.477\" y1=\"231.947\" x2=\"402.168\" y2=\"232.898\" stroke-linecap=\"round\" style=\"stroke:red;stroke-width:4\"/><line x1=\"402.168\" y1=\"232.898\" x2=\"401.876\" y2=\"233.854\" stroke-linecap=\"round\" style=\"stroke:red;stroke-width:4\"/><line x1=\"401.876\" y1=\"233.854\" x2=\"401.6\" y2=\"234.815\" stroke-linecap=\"round\" style=\"stroke:red;stroke-width:4\"/><line x1=\"401.6\" y1=\"234.815\" x2=\"401.341\" y2=\"235.781\" stroke-linecap=\"round\" style=\"stroke:red;stroke-width:4\"/><line x1=\"401.341\" y1=\"235.781\" x2=\"401.099\" y2=\"236.751\" stroke-linecap=\"round\" style=\"stroke:red;stroke-width:4\"/><line x1=\"401.099\" y1=\"236.751\" x2=\"400.874\" y2=\"237.725\" stroke-linecap=\"round\" style=\"stroke:red;stroke-width:4\"/><line x1=\"400.874\" y1=\"237.725\" x2=\"400.666\" y2=\"238.703\" stroke-linecap=\"round\" style=\"stroke:red;stroke-width:4\"/><line x1=\"400.666\" y1=\"238.703\" x2=\"400.475\" y2=\"239.685\" stroke-linecap=\"round\" style=\"stroke:red;stroke-width:4\"/><line x1=\"400.475\" y1=\"239.685\" x2=\"400.301\" y2=\"240.67\" stroke-linecap=\"round\" style=\"stroke:red;stroke-width:4\"/><line x1=\"400.301\" y1=\"240.67\" x2=\"400.145\" y2=\"241.658\" stroke-linecap=\"round\" style=\"stroke:red;stroke-width:4\"/><line x1=\"400.145\" y1=\"241.658\" x2=\"400.006\" y2=\"242.648\" stroke-linecap=\"round\" style=\"stroke:red;stroke-width:4\"/><line x1=\"400.006\" y1=\"242.648\" x2=\"399.884\" y2=\"243.641\" stroke-linecap=\"round\" style=\"stroke:red;stroke-width:4\"/><line x1=\"399.884\" y1=\"243.641\" x2=\"399.779\" y2=\"244.636\" stroke-linecap=\"round\" style=\"stroke:red;stroke-width:4\"/><line x1=\"399.779\" y1=\"244.636\" x2=\"399.692\" y2=\"245.632\" stroke-linecap=\"round\" style=\"stroke:red;stroke-width:4\"/><line x1=\"399.692\" y1=\"245.632\" x2=\"399.622\" y2=\"246.63\" stroke-linecap=\"round\" style=\"stroke:red;stroke-width:4\"/><line x1=\"399.622\" y1=\"246.63\" x2=\"399.57\" y2=\"247.629\" stroke-linecap=\"round\" style=\"stroke:red;stroke-width:4\"/><line x1=\"399.57\" y1=\"247.629\" x2=\"399.535\" y2=\"248.628\" stroke-linecap=\"round\" style=\"stroke:red;stroke-width:4\"/><line x1=\"399.535\" y1=\"248.628\" x2=\"399.518\" y2=\"249.628\" stroke-linecap=\"round\" style=\"stroke:red;stroke-width:4\"/>\n",
              "        <g visibility=visible transform=\"rotate(180,399.518,249.628) translate(381.518, 231.628)\">\n",
              "<path style=\" stroke:none;fill-rule:evenodd;fill:white;fill-opacity:1;\" d=\"M 18.214844 0.632812 C 16.109375 1.800781 15.011719 4.074219 15.074219 7.132812 L 15.085938 7.652344 L 14.785156 7.496094 C 13.476562 6.824219 11.957031 6.671875 10.40625 7.066406 C 8.46875 7.550781 6.515625 9.15625 4.394531 11.992188 C 3.0625 13.777344 2.679688 14.636719 3.042969 15.027344 L 3.15625 15.152344 L 3.519531 15.152344 C 4.238281 15.152344 4.828125 14.886719 8.1875 13.039062 C 9.386719 12.378906 10.371094 11.839844 10.378906 11.839844 C 10.386719 11.839844 10.355469 11.929688 10.304688 12.035156 C 9.832031 13.09375 9.257812 14.820312 8.96875 16.078125 C 7.914062 20.652344 8.617188 24.53125 11.070312 27.660156 C 11.351562 28.015625 11.363281 27.914062 10.972656 28.382812 C 8.925781 30.84375 7.945312 33.28125 8.238281 35.1875 C 8.289062 35.527344 8.28125 35.523438 8.917969 35.523438 C 10.941406 35.523438 13.074219 34.207031 15.136719 31.6875 C 15.359375 31.417969 15.328125 31.425781 15.5625 31.574219 C 16.292969 32.042969 18.023438 32.964844 18.175781 32.964844 C 18.335938 32.964844 19.941406 32.210938 20.828125 31.71875 C 20.996094 31.625 21.136719 31.554688 21.136719 31.558594 C 21.203125 31.664062 21.898438 32.414062 22.222656 32.730469 C 23.835938 34.300781 25.5625 35.132812 27.582031 35.300781 C 27.90625 35.328125 27.9375 35.308594 28.007812 34.984375 C 28.382812 33.242188 27.625 30.925781 25.863281 28.425781 L 25.542969 27.96875 L 25.699219 27.785156 C 28.945312 23.960938 29.132812 18.699219 26.257812 11.96875 L 26.207031 11.84375 L 27.945312 12.703125 C 31.53125 14.476562 32.316406 14.800781 33.03125 14.800781 C 33.976562 14.800781 33.78125 13.9375 32.472656 12.292969 C 28.519531 7.355469 25.394531 5.925781 21.921875 7.472656 L 21.558594 7.636719 L 21.578125 7.542969 C 21.699219 6.992188 21.761719 5.742188 21.699219 5.164062 C 21.496094 3.296875 20.664062 1.964844 19.003906 0.855469 C 18.480469 0.503906 18.457031 0.5 18.214844 0.632812\"/>\n",
              "</g>\n",
              "      </svg>\n",
              "    "
            ]
          },
          "metadata": {}
        }
      ]
    },
    {
      "cell_type": "code",
      "source": [
        "import math\n",
        "\n",
        "arc_angle = input('What angle should the arc be?\\n')\n",
        "\n",
        "turtle.penup()\n",
        "turtle.goto(center_x,center_y)\n",
        "turtle.clear()\n",
        "\n",
        "def arc(angle): #make just an arc of out of circle of any angle <360 degrees\n",
        "  for _ in range (int(angle * (math.pi/180) * 57.3)):\n",
        "\n",
        "    turtle.pencolor(\"red\")\n",
        "    turtle.speed(10)\n",
        "    turtle.pd()\n",
        "    turtle.forward(1)\n",
        "    turtle.left(1)\n",
        "\n",
        "  turtle.pencolor(\"white\")\n",
        "\n",
        "\n",
        "arc(int(arc_angle))"
      ],
      "metadata": {
        "colab": {
          "base_uri": "https://localhost:8080/",
          "height": 557
        },
        "id": "dVE0OIQpikUm",
        "outputId": "2585ab0e-e296-40a3-f59e-a798a9423b32"
      },
      "execution_count": null,
      "outputs": [
        {
          "name": "stdout",
          "output_type": "stream",
          "text": [
            "What angle should the arc be?\n",
            "90\n"
          ]
        },
        {
          "output_type": "display_data",
          "data": {
            "text/plain": [
              "<IPython.core.display.HTML object>"
            ],
            "text/html": [
              "\n",
              "      <svg width=\"800\" height=\"500\">\n",
              "        <rect width=\"100%\" height=\"100%\" fill=\"black\"/>\n",
              "        <line x1=\"400.0\" y1=\"250.0\" x2=\"399.212\" y2=\"250.616\" stroke-linecap=\"round\" style=\"stroke:red;stroke-width:4\"/><line x1=\"399.212\" y1=\"250.616\" x2=\"398.435\" y2=\"251.245\" stroke-linecap=\"round\" style=\"stroke:red;stroke-width:4\"/><line x1=\"398.435\" y1=\"251.245\" x2=\"397.669\" y2=\"251.888\" stroke-linecap=\"round\" style=\"stroke:red;stroke-width:4\"/><line x1=\"397.669\" y1=\"251.888\" x2=\"396.914\" y2=\"252.544\" stroke-linecap=\"round\" style=\"stroke:red;stroke-width:4\"/><line x1=\"396.914\" y1=\"252.544\" x2=\"396.171\" y2=\"253.213\" stroke-linecap=\"round\" style=\"stroke:red;stroke-width:4\"/><line x1=\"396.171\" y1=\"253.213\" x2=\"395.44\" y2=\"253.895\" stroke-linecap=\"round\" style=\"stroke:red;stroke-width:4\"/><line x1=\"395.44\" y1=\"253.895\" x2=\"394.721\" y2=\"254.59\" stroke-linecap=\"round\" style=\"stroke:red;stroke-width:4\"/><line x1=\"394.721\" y1=\"254.59\" x2=\"394.014\" y2=\"255.297\" stroke-linecap=\"round\" style=\"stroke:red;stroke-width:4\"/><line x1=\"394.014\" y1=\"255.297\" x2=\"393.319\" y2=\"256.016\" stroke-linecap=\"round\" style=\"stroke:red;stroke-width:4\"/><line x1=\"393.319\" y1=\"256.016\" x2=\"392.637\" y2=\"256.747\" stroke-linecap=\"round\" style=\"stroke:red;stroke-width:4\"/><line x1=\"392.637\" y1=\"256.747\" x2=\"391.968\" y2=\"257.49\" stroke-linecap=\"round\" style=\"stroke:red;stroke-width:4\"/><line x1=\"391.968\" y1=\"257.49\" x2=\"391.312\" y2=\"258.245\" stroke-linecap=\"round\" style=\"stroke:red;stroke-width:4\"/><line x1=\"391.312\" y1=\"258.245\" x2=\"390.669\" y2=\"259.011\" stroke-linecap=\"round\" style=\"stroke:red;stroke-width:4\"/><line x1=\"390.669\" y1=\"259.011\" x2=\"390.04\" y2=\"259.788\" stroke-linecap=\"round\" style=\"stroke:red;stroke-width:4\"/><line x1=\"390.04\" y1=\"259.788\" x2=\"389.424\" y2=\"260.576\" stroke-linecap=\"round\" style=\"stroke:red;stroke-width:4\"/><line x1=\"389.424\" y1=\"260.576\" x2=\"388.822\" y2=\"261.375\" stroke-linecap=\"round\" style=\"stroke:red;stroke-width:4\"/><line x1=\"388.822\" y1=\"261.375\" x2=\"388.234\" y2=\"262.184\" stroke-linecap=\"round\" style=\"stroke:red;stroke-width:4\"/><line x1=\"388.234\" y1=\"262.184\" x2=\"387.66\" y2=\"263.003\" stroke-linecap=\"round\" style=\"stroke:red;stroke-width:4\"/><line x1=\"387.66\" y1=\"263.003\" x2=\"387.101\" y2=\"263.832\" stroke-linecap=\"round\" style=\"stroke:red;stroke-width:4\"/><line x1=\"387.101\" y1=\"263.832\" x2=\"386.556\" y2=\"264.671\" stroke-linecap=\"round\" style=\"stroke:red;stroke-width:4\"/><line x1=\"386.556\" y1=\"264.671\" x2=\"386.026\" y2=\"265.519\" stroke-linecap=\"round\" style=\"stroke:red;stroke-width:4\"/><line x1=\"386.026\" y1=\"265.519\" x2=\"385.511\" y2=\"266.376\" stroke-linecap=\"round\" style=\"stroke:red;stroke-width:4\"/><line x1=\"385.511\" y1=\"266.376\" x2=\"385.011\" y2=\"267.242\" stroke-linecap=\"round\" style=\"stroke:red;stroke-width:4\"/><line x1=\"385.011\" y1=\"267.242\" x2=\"384.526\" y2=\"268.117\" stroke-linecap=\"round\" style=\"stroke:red;stroke-width:4\"/><line x1=\"384.526\" y1=\"268.117\" x2=\"384.057\" y2=\"269.0\" stroke-linecap=\"round\" style=\"stroke:red;stroke-width:4\"/><line x1=\"384.057\" y1=\"269.0\" x2=\"383.603\" y2=\"269.891\" stroke-linecap=\"round\" style=\"stroke:red;stroke-width:4\"/><line x1=\"383.603\" y1=\"269.891\" x2=\"383.165\" y2=\"270.79\" stroke-linecap=\"round\" style=\"stroke:red;stroke-width:4\"/><line x1=\"383.165\" y1=\"270.79\" x2=\"382.742\" y2=\"271.696\" stroke-linecap=\"round\" style=\"stroke:red;stroke-width:4\"/><line x1=\"382.742\" y1=\"271.696\" x2=\"382.335\" y2=\"272.61\" stroke-linecap=\"round\" style=\"stroke:red;stroke-width:4\"/><line x1=\"382.335\" y1=\"272.61\" x2=\"381.944\" y2=\"273.531\" stroke-linecap=\"round\" style=\"stroke:red;stroke-width:4\"/><line x1=\"381.944\" y1=\"273.531\" x2=\"381.569\" y2=\"274.458\" stroke-linecap=\"round\" style=\"stroke:red;stroke-width:4\"/><line x1=\"381.569\" y1=\"274.458\" x2=\"381.211\" y2=\"275.392\" stroke-linecap=\"round\" style=\"stroke:red;stroke-width:4\"/><line x1=\"381.211\" y1=\"275.392\" x2=\"380.869\" y2=\"276.332\" stroke-linecap=\"round\" style=\"stroke:red;stroke-width:4\"/><line x1=\"380.869\" y1=\"276.332\" x2=\"380.543\" y2=\"277.278\" stroke-linecap=\"round\" style=\"stroke:red;stroke-width:4\"/><line x1=\"380.543\" y1=\"277.278\" x2=\"380.234\" y2=\"278.229\" stroke-linecap=\"round\" style=\"stroke:red;stroke-width:4\"/><line x1=\"380.234\" y1=\"278.229\" x2=\"379.942\" y2=\"279.185\" stroke-linecap=\"round\" style=\"stroke:red;stroke-width:4\"/><line x1=\"379.942\" y1=\"279.185\" x2=\"379.666\" y2=\"280.146\" stroke-linecap=\"round\" style=\"stroke:red;stroke-width:4\"/><line x1=\"379.666\" y1=\"280.146\" x2=\"379.407\" y2=\"281.112\" stroke-linecap=\"round\" style=\"stroke:red;stroke-width:4\"/><line x1=\"379.407\" y1=\"281.112\" x2=\"379.165\" y2=\"282.082\" stroke-linecap=\"round\" style=\"stroke:red;stroke-width:4\"/><line x1=\"379.165\" y1=\"282.082\" x2=\"378.94\" y2=\"283.056\" stroke-linecap=\"round\" style=\"stroke:red;stroke-width:4\"/><line x1=\"378.94\" y1=\"283.056\" x2=\"378.732\" y2=\"284.034\" stroke-linecap=\"round\" style=\"stroke:red;stroke-width:4\"/><line x1=\"378.732\" y1=\"284.034\" x2=\"378.541\" y2=\"285.016\" stroke-linecap=\"round\" style=\"stroke:red;stroke-width:4\"/><line x1=\"378.541\" y1=\"285.016\" x2=\"378.367\" y2=\"286.001\" stroke-linecap=\"round\" style=\"stroke:red;stroke-width:4\"/><line x1=\"378.367\" y1=\"286.001\" x2=\"378.211\" y2=\"286.989\" stroke-linecap=\"round\" style=\"stroke:red;stroke-width:4\"/><line x1=\"378.211\" y1=\"286.989\" x2=\"378.072\" y2=\"287.979\" stroke-linecap=\"round\" style=\"stroke:red;stroke-width:4\"/><line x1=\"378.072\" y1=\"287.979\" x2=\"377.95\" y2=\"288.972\" stroke-linecap=\"round\" style=\"stroke:red;stroke-width:4\"/><line x1=\"377.95\" y1=\"288.972\" x2=\"377.845\" y2=\"289.967\" stroke-linecap=\"round\" style=\"stroke:red;stroke-width:4\"/><line x1=\"377.845\" y1=\"289.967\" x2=\"377.758\" y2=\"290.963\" stroke-linecap=\"round\" style=\"stroke:red;stroke-width:4\"/><line x1=\"377.758\" y1=\"290.963\" x2=\"377.688\" y2=\"291.961\" stroke-linecap=\"round\" style=\"stroke:red;stroke-width:4\"/><line x1=\"377.688\" y1=\"291.961\" x2=\"377.636\" y2=\"292.96\" stroke-linecap=\"round\" style=\"stroke:red;stroke-width:4\"/><line x1=\"377.636\" y1=\"292.96\" x2=\"377.601\" y2=\"293.959\" stroke-linecap=\"round\" style=\"stroke:red;stroke-width:4\"/><line x1=\"377.601\" y1=\"293.959\" x2=\"377.584\" y2=\"294.959\" stroke-linecap=\"round\" style=\"stroke:red;stroke-width:4\"/><line x1=\"377.584\" y1=\"294.959\" x2=\"377.584\" y2=\"295.959\" stroke-linecap=\"round\" style=\"stroke:red;stroke-width:4\"/><line x1=\"377.584\" y1=\"295.959\" x2=\"377.601\" y2=\"296.959\" stroke-linecap=\"round\" style=\"stroke:red;stroke-width:4\"/><line x1=\"377.601\" y1=\"296.959\" x2=\"377.636\" y2=\"297.958\" stroke-linecap=\"round\" style=\"stroke:red;stroke-width:4\"/><line x1=\"377.636\" y1=\"297.958\" x2=\"377.688\" y2=\"298.957\" stroke-linecap=\"round\" style=\"stroke:red;stroke-width:4\"/><line x1=\"377.688\" y1=\"298.957\" x2=\"377.758\" y2=\"299.955\" stroke-linecap=\"round\" style=\"stroke:red;stroke-width:4\"/><line x1=\"377.758\" y1=\"299.955\" x2=\"377.845\" y2=\"300.951\" stroke-linecap=\"round\" style=\"stroke:red;stroke-width:4\"/><line x1=\"377.845\" y1=\"300.951\" x2=\"377.95\" y2=\"301.946\" stroke-linecap=\"round\" style=\"stroke:red;stroke-width:4\"/><line x1=\"377.95\" y1=\"301.946\" x2=\"378.072\" y2=\"302.939\" stroke-linecap=\"round\" style=\"stroke:red;stroke-width:4\"/><line x1=\"378.072\" y1=\"302.939\" x2=\"378.211\" y2=\"303.929\" stroke-linecap=\"round\" style=\"stroke:red;stroke-width:4\"/><line x1=\"378.211\" y1=\"303.929\" x2=\"378.367\" y2=\"304.917\" stroke-linecap=\"round\" style=\"stroke:red;stroke-width:4\"/><line x1=\"378.367\" y1=\"304.917\" x2=\"378.541\" y2=\"305.902\" stroke-linecap=\"round\" style=\"stroke:red;stroke-width:4\"/><line x1=\"378.541\" y1=\"305.902\" x2=\"378.732\" y2=\"306.884\" stroke-linecap=\"round\" style=\"stroke:red;stroke-width:4\"/><line x1=\"378.732\" y1=\"306.884\" x2=\"378.94\" y2=\"307.862\" stroke-linecap=\"round\" style=\"stroke:red;stroke-width:4\"/><line x1=\"378.94\" y1=\"307.862\" x2=\"379.165\" y2=\"308.836\" stroke-linecap=\"round\" style=\"stroke:red;stroke-width:4\"/><line x1=\"379.165\" y1=\"308.836\" x2=\"379.407\" y2=\"309.806\" stroke-linecap=\"round\" style=\"stroke:red;stroke-width:4\"/><line x1=\"379.407\" y1=\"309.806\" x2=\"379.666\" y2=\"310.772\" stroke-linecap=\"round\" style=\"stroke:red;stroke-width:4\"/><line x1=\"379.666\" y1=\"310.772\" x2=\"379.942\" y2=\"311.733\" stroke-linecap=\"round\" style=\"stroke:red;stroke-width:4\"/><line x1=\"379.942\" y1=\"311.733\" x2=\"380.234\" y2=\"312.689\" stroke-linecap=\"round\" style=\"stroke:red;stroke-width:4\"/><line x1=\"380.234\" y1=\"312.689\" x2=\"380.543\" y2=\"313.64\" stroke-linecap=\"round\" style=\"stroke:red;stroke-width:4\"/><line x1=\"380.543\" y1=\"313.64\" x2=\"380.869\" y2=\"314.586\" stroke-linecap=\"round\" style=\"stroke:red;stroke-width:4\"/><line x1=\"380.869\" y1=\"314.586\" x2=\"381.211\" y2=\"315.526\" stroke-linecap=\"round\" style=\"stroke:red;stroke-width:4\"/><line x1=\"381.211\" y1=\"315.526\" x2=\"381.569\" y2=\"316.46\" stroke-linecap=\"round\" style=\"stroke:red;stroke-width:4\"/><line x1=\"381.569\" y1=\"316.46\" x2=\"381.944\" y2=\"317.387\" stroke-linecap=\"round\" style=\"stroke:red;stroke-width:4\"/><line x1=\"381.944\" y1=\"317.387\" x2=\"382.335\" y2=\"318.308\" stroke-linecap=\"round\" style=\"stroke:red;stroke-width:4\"/><line x1=\"382.335\" y1=\"318.308\" x2=\"382.742\" y2=\"319.222\" stroke-linecap=\"round\" style=\"stroke:red;stroke-width:4\"/><line x1=\"382.742\" y1=\"319.222\" x2=\"383.165\" y2=\"320.128\" stroke-linecap=\"round\" style=\"stroke:red;stroke-width:4\"/><line x1=\"383.165\" y1=\"320.128\" x2=\"383.603\" y2=\"321.027\" stroke-linecap=\"round\" style=\"stroke:red;stroke-width:4\"/><line x1=\"383.603\" y1=\"321.027\" x2=\"384.057\" y2=\"321.918\" stroke-linecap=\"round\" style=\"stroke:red;stroke-width:4\"/><line x1=\"384.057\" y1=\"321.918\" x2=\"384.526\" y2=\"322.801\" stroke-linecap=\"round\" style=\"stroke:red;stroke-width:4\"/><line x1=\"384.526\" y1=\"322.801\" x2=\"385.011\" y2=\"323.676\" stroke-linecap=\"round\" style=\"stroke:red;stroke-width:4\"/><line x1=\"385.011\" y1=\"323.676\" x2=\"385.511\" y2=\"324.542\" stroke-linecap=\"round\" style=\"stroke:red;stroke-width:4\"/><line x1=\"385.511\" y1=\"324.542\" x2=\"386.026\" y2=\"325.399\" stroke-linecap=\"round\" style=\"stroke:red;stroke-width:4\"/><line x1=\"386.026\" y1=\"325.399\" x2=\"386.556\" y2=\"326.247\" stroke-linecap=\"round\" style=\"stroke:red;stroke-width:4\"/><line x1=\"386.556\" y1=\"326.247\" x2=\"387.101\" y2=\"327.086\" stroke-linecap=\"round\" style=\"stroke:red;stroke-width:4\"/><line x1=\"387.101\" y1=\"327.086\" x2=\"387.66\" y2=\"327.915\" stroke-linecap=\"round\" style=\"stroke:red;stroke-width:4\"/><line x1=\"387.66\" y1=\"327.915\" x2=\"388.234\" y2=\"328.734\" stroke-linecap=\"round\" style=\"stroke:red;stroke-width:4\"/><line x1=\"388.234\" y1=\"328.734\" x2=\"388.822\" y2=\"329.543\" stroke-linecap=\"round\" style=\"stroke:red;stroke-width:4\"/><line x1=\"388.822\" y1=\"329.543\" x2=\"389.424\" y2=\"330.342\" stroke-linecap=\"round\" style=\"stroke:red;stroke-width:4\"/>\n",
              "        <g visibility=visible transform=\"rotate(141.99999999999994,389.424,330.342) translate(371.424, 312.342)\">\n",
              "<path style=\" stroke:none;fill-rule:evenodd;fill:white;fill-opacity:1;\" d=\"M 18.214844 0.632812 C 16.109375 1.800781 15.011719 4.074219 15.074219 7.132812 L 15.085938 7.652344 L 14.785156 7.496094 C 13.476562 6.824219 11.957031 6.671875 10.40625 7.066406 C 8.46875 7.550781 6.515625 9.15625 4.394531 11.992188 C 3.0625 13.777344 2.679688 14.636719 3.042969 15.027344 L 3.15625 15.152344 L 3.519531 15.152344 C 4.238281 15.152344 4.828125 14.886719 8.1875 13.039062 C 9.386719 12.378906 10.371094 11.839844 10.378906 11.839844 C 10.386719 11.839844 10.355469 11.929688 10.304688 12.035156 C 9.832031 13.09375 9.257812 14.820312 8.96875 16.078125 C 7.914062 20.652344 8.617188 24.53125 11.070312 27.660156 C 11.351562 28.015625 11.363281 27.914062 10.972656 28.382812 C 8.925781 30.84375 7.945312 33.28125 8.238281 35.1875 C 8.289062 35.527344 8.28125 35.523438 8.917969 35.523438 C 10.941406 35.523438 13.074219 34.207031 15.136719 31.6875 C 15.359375 31.417969 15.328125 31.425781 15.5625 31.574219 C 16.292969 32.042969 18.023438 32.964844 18.175781 32.964844 C 18.335938 32.964844 19.941406 32.210938 20.828125 31.71875 C 20.996094 31.625 21.136719 31.554688 21.136719 31.558594 C 21.203125 31.664062 21.898438 32.414062 22.222656 32.730469 C 23.835938 34.300781 25.5625 35.132812 27.582031 35.300781 C 27.90625 35.328125 27.9375 35.308594 28.007812 34.984375 C 28.382812 33.242188 27.625 30.925781 25.863281 28.425781 L 25.542969 27.96875 L 25.699219 27.785156 C 28.945312 23.960938 29.132812 18.699219 26.257812 11.96875 L 26.207031 11.84375 L 27.945312 12.703125 C 31.53125 14.476562 32.316406 14.800781 33.03125 14.800781 C 33.976562 14.800781 33.78125 13.9375 32.472656 12.292969 C 28.519531 7.355469 25.394531 5.925781 21.921875 7.472656 L 21.558594 7.636719 L 21.578125 7.542969 C 21.699219 6.992188 21.761719 5.742188 21.699219 5.164062 C 21.496094 3.296875 20.664062 1.964844 19.003906 0.855469 C 18.480469 0.503906 18.457031 0.5 18.214844 0.632812\"/>\n",
              "</g>\n",
              "      </svg>\n",
              "    "
            ]
          },
          "metadata": {}
        }
      ]
    },
    {
      "cell_type": "markdown",
      "metadata": {
        "id": "OX3Y7Ue24SbM"
      },
      "source": [
        "The following sections have solutions to the exercises, so don’t look until you have finished (or at least tried)."
      ]
    },
    {
      "cell_type": "markdown",
      "metadata": {
        "id": "jtgD_0w04XhP"
      },
      "source": [
        "# Solutions"
      ]
    },
    {
      "cell_type": "markdown",
      "metadata": {
        "id": "5Pn2JQrq4i1H"
      },
      "source": [
        "## Encapsulation\n",
        "\n",
        "<p>Put the square-drawing code into a <strong>function definition</strong> and call the function, passing no <strong>parameter</strong>.</p>"
      ]
    },
    {
      "cell_type": "code",
      "execution_count": null,
      "metadata": {
        "cellView": "form",
        "colab": {
          "base_uri": "https://localhost:8080/",
          "height": 521
        },
        "id": "3xpgMcuf5RuI",
        "outputId": "12caf90c-926c-4190-87d7-a2b2a686f48a"
      },
      "outputs": [
        {
          "data": {
            "text/html": [
              "\n",
              "      <svg width=\"800\" height=\"500\">\n",
              "        <rect width=\"100%\" height=\"100%\" fill=\"black\"/>\n",
              "        <line x1=\"400\" y1=\"250\" x2=\"400.0\" y2=\"150.0\" stroke-linecap=\"round\" style=\"stroke:white;stroke-width:4\"/><line x1=\"400.0\" y1=\"150.0\" x2=\"300.0\" y2=\"150.0\" stroke-linecap=\"round\" style=\"stroke:white;stroke-width:4\"/><line x1=\"300.0\" y1=\"150.0\" x2=\"300.0\" y2=\"250.0\" stroke-linecap=\"round\" style=\"stroke:white;stroke-width:4\"/><line x1=\"300.0\" y1=\"250.0\" x2=\"400.0\" y2=\"250.0\" stroke-linecap=\"round\" style=\"stroke:white;stroke-width:4\"/>\n",
              "        <g visibility=visible transform=\"rotate(360,400.0,250.0) translate(382.0, 232.0)\">\n",
              "<path style=\" stroke:none;fill-rule:evenodd;fill:white;fill-opacity:1;\" d=\"M 18.214844 0.632812 C 16.109375 1.800781 15.011719 4.074219 15.074219 7.132812 L 15.085938 7.652344 L 14.785156 7.496094 C 13.476562 6.824219 11.957031 6.671875 10.40625 7.066406 C 8.46875 7.550781 6.515625 9.15625 4.394531 11.992188 C 3.0625 13.777344 2.679688 14.636719 3.042969 15.027344 L 3.15625 15.152344 L 3.519531 15.152344 C 4.238281 15.152344 4.828125 14.886719 8.1875 13.039062 C 9.386719 12.378906 10.371094 11.839844 10.378906 11.839844 C 10.386719 11.839844 10.355469 11.929688 10.304688 12.035156 C 9.832031 13.09375 9.257812 14.820312 8.96875 16.078125 C 7.914062 20.652344 8.617188 24.53125 11.070312 27.660156 C 11.351562 28.015625 11.363281 27.914062 10.972656 28.382812 C 8.925781 30.84375 7.945312 33.28125 8.238281 35.1875 C 8.289062 35.527344 8.28125 35.523438 8.917969 35.523438 C 10.941406 35.523438 13.074219 34.207031 15.136719 31.6875 C 15.359375 31.417969 15.328125 31.425781 15.5625 31.574219 C 16.292969 32.042969 18.023438 32.964844 18.175781 32.964844 C 18.335938 32.964844 19.941406 32.210938 20.828125 31.71875 C 20.996094 31.625 21.136719 31.554688 21.136719 31.558594 C 21.203125 31.664062 21.898438 32.414062 22.222656 32.730469 C 23.835938 34.300781 25.5625 35.132812 27.582031 35.300781 C 27.90625 35.328125 27.9375 35.308594 28.007812 34.984375 C 28.382812 33.242188 27.625 30.925781 25.863281 28.425781 L 25.542969 27.96875 L 25.699219 27.785156 C 28.945312 23.960938 29.132812 18.699219 26.257812 11.96875 L 26.207031 11.84375 L 27.945312 12.703125 C 31.53125 14.476562 32.316406 14.800781 33.03125 14.800781 C 33.976562 14.800781 33.78125 13.9375 32.472656 12.292969 C 28.519531 7.355469 25.394531 5.925781 21.921875 7.472656 L 21.558594 7.636719 L 21.578125 7.542969 C 21.699219 6.992188 21.761719 5.742188 21.699219 5.164062 C 21.496094 3.296875 20.664062 1.964844 19.003906 0.855469 C 18.480469 0.503906 18.457031 0.5 18.214844 0.632812\"/>\n",
              "</g>\n",
              "      </svg>\n",
              "    "
            ],
            "text/plain": [
              "<IPython.core.display.HTML object>"
            ]
          },
          "metadata": {},
          "output_type": "display_data"
        }
      ],
      "source": [
        "# @title Solution 1\n",
        "turtle.initializeTurtle()\n",
        "\n",
        "def square():\n",
        "  for _ in range(4):\n",
        "      turtle.fd(100)\n",
        "      turtle.lt(90)\n",
        "\n",
        "square()"
      ]
    },
    {
      "cell_type": "markdown",
      "metadata": {
        "id": "bx5diZiq6M2k"
      },
      "source": [
        "<p>Innermost statements are <strong>indented twice</strong>:\n",
        "<ul>\n",
        "<li>they are inside the <strong>for loop</strong>,</li>\n",
        "<ul>\n",
        "<li>which is inside the <strong>function definition</strong>.</li>\n",
        "</ul>\n",
        "</ul>\n",
        "</p>\n",
        "<p>All the rest, is <strong>flush with the left margin</strong>, to indicate the end of both\n",
        "<ul>\n",
        "<ul>\n",
        "<li>the for loop</li>\n",
        "</ul>\n",
        "<li>and the function definition.</li>\n",
        "</ul></p>"
      ]
    },
    {
      "cell_type": "markdown",
      "metadata": {
        "id": "adgCEXLZ83Qt"
      },
      "source": [
        "<p>Wrapping a piece of code up in a function is called <strong>encapsulation</strong>.</p>\n",
        "<p>It attaches a name to the code, which serves as a kind of <em>documentation</em>.</p>"
      ]
    },
    {
      "cell_type": "markdown",
      "metadata": {
        "id": "QT8beTM79CP5"
      },
      "source": [
        "<p>If you reuse the code, it is more concise to call a function twice than to copy and paste the body!</p>"
      ]
    },
    {
      "cell_type": "markdown",
      "metadata": {
        "id": "OkEaRNkZ9JEj"
      },
      "source": [
        "## Generalization"
      ]
    },
    {
      "cell_type": "markdown",
      "metadata": {
        "id": "ApSUYEAk9PO2"
      },
      "source": [
        "<p>Next step, add a <code>length</code> parameter to <code>square</code>.</p>"
      ]
    },
    {
      "cell_type": "code",
      "execution_count": null,
      "metadata": {
        "cellView": "form",
        "colab": {
          "base_uri": "https://localhost:8080/",
          "height": 521
        },
        "id": "ZpLggAir82z2",
        "outputId": "87e66acb-1d7c-4514-9197-5f1ff8d7e6a4"
      },
      "outputs": [
        {
          "data": {
            "text/html": [
              "\n",
              "      <svg width=\"800\" height=\"500\">\n",
              "        <rect width=\"100%\" height=\"100%\" fill=\"black\"/>\n",
              "        <line x1=\"400\" y1=\"250\" x2=\"400.0\" y2=\"50.0\" stroke-linecap=\"round\" style=\"stroke:white;stroke-width:4\"/><line x1=\"400.0\" y1=\"50.0\" x2=\"200.0\" y2=\"50.0\" stroke-linecap=\"round\" style=\"stroke:white;stroke-width:4\"/><line x1=\"200.0\" y1=\"50.0\" x2=\"200.0\" y2=\"250.0\" stroke-linecap=\"round\" style=\"stroke:white;stroke-width:4\"/><line x1=\"200.0\" y1=\"250.0\" x2=\"400.0\" y2=\"250.0\" stroke-linecap=\"round\" style=\"stroke:white;stroke-width:4\"/>\n",
              "        <g visibility=visible transform=\"rotate(360,400.0,250.0) translate(382.0, 232.0)\">\n",
              "<path style=\" stroke:none;fill-rule:evenodd;fill:white;fill-opacity:1;\" d=\"M 18.214844 0.632812 C 16.109375 1.800781 15.011719 4.074219 15.074219 7.132812 L 15.085938 7.652344 L 14.785156 7.496094 C 13.476562 6.824219 11.957031 6.671875 10.40625 7.066406 C 8.46875 7.550781 6.515625 9.15625 4.394531 11.992188 C 3.0625 13.777344 2.679688 14.636719 3.042969 15.027344 L 3.15625 15.152344 L 3.519531 15.152344 C 4.238281 15.152344 4.828125 14.886719 8.1875 13.039062 C 9.386719 12.378906 10.371094 11.839844 10.378906 11.839844 C 10.386719 11.839844 10.355469 11.929688 10.304688 12.035156 C 9.832031 13.09375 9.257812 14.820312 8.96875 16.078125 C 7.914062 20.652344 8.617188 24.53125 11.070312 27.660156 C 11.351562 28.015625 11.363281 27.914062 10.972656 28.382812 C 8.925781 30.84375 7.945312 33.28125 8.238281 35.1875 C 8.289062 35.527344 8.28125 35.523438 8.917969 35.523438 C 10.941406 35.523438 13.074219 34.207031 15.136719 31.6875 C 15.359375 31.417969 15.328125 31.425781 15.5625 31.574219 C 16.292969 32.042969 18.023438 32.964844 18.175781 32.964844 C 18.335938 32.964844 19.941406 32.210938 20.828125 31.71875 C 20.996094 31.625 21.136719 31.554688 21.136719 31.558594 C 21.203125 31.664062 21.898438 32.414062 22.222656 32.730469 C 23.835938 34.300781 25.5625 35.132812 27.582031 35.300781 C 27.90625 35.328125 27.9375 35.308594 28.007812 34.984375 C 28.382812 33.242188 27.625 30.925781 25.863281 28.425781 L 25.542969 27.96875 L 25.699219 27.785156 C 28.945312 23.960938 29.132812 18.699219 26.257812 11.96875 L 26.207031 11.84375 L 27.945312 12.703125 C 31.53125 14.476562 32.316406 14.800781 33.03125 14.800781 C 33.976562 14.800781 33.78125 13.9375 32.472656 12.292969 C 28.519531 7.355469 25.394531 5.925781 21.921875 7.472656 L 21.558594 7.636719 L 21.578125 7.542969 C 21.699219 6.992188 21.761719 5.742188 21.699219 5.164062 C 21.496094 3.296875 20.664062 1.964844 19.003906 0.855469 C 18.480469 0.503906 18.457031 0.5 18.214844 0.632812\"/>\n",
              "</g>\n",
              "      </svg>\n",
              "    "
            ],
            "text/plain": [
              "<IPython.core.display.HTML object>"
            ]
          },
          "metadata": {},
          "output_type": "display_data"
        }
      ],
      "source": [
        "# @title Solution 2\n",
        "turtle.initializeTurtle()\n",
        "\n",
        "def square(length):\n",
        "  for _ in range(4):\n",
        "      turtle.fd(length)\n",
        "      turtle.lt(90)\n",
        "\n",
        "side = 200\n",
        "square(side)"
      ]
    },
    {
      "cell_type": "markdown",
      "metadata": {
        "id": "x7-LPpqA-fjK"
      },
      "source": [
        "<p>Inside the function, the <strong>parameter</strong> <code>length</code> refers to the same length <code>side</code>, passed as <strong>argument</strong>.</p>\n",
        "<p>Why not call the parameter <code>side</code>?</p>\n",
        "<p>The idea is that <code>length</code> can be <strong>any</strong> length, not just that particular square side length, so we could <em>generalize it further</em> to draw any polygon!</p>\n"
      ]
    },
    {
      "cell_type": "markdown",
      "metadata": {
        "id": "iUmHeeZq_bV_"
      },
      "source": [
        "<p>Adding a parameter to a function is called <strong>generalization</strong>.</p>\n",
        "<p>It makes the function more general:\n",
        "<ul>\n",
        "<li>before the square was always the same size,</li>\n",
        "<li> now it can be any size.</li>\n",
        "</ul>\n",
        "</p>"
      ]
    },
    {
      "cell_type": "markdown",
      "metadata": {
        "id": "D0LeanCf_0GT"
      },
      "source": [
        "<p>Next step is also a generalization, since <code>polygon</code> draws regular polygons with any number of sides, not just four!</p>"
      ]
    },
    {
      "cell_type": "code",
      "execution_count": null,
      "metadata": {
        "colab": {
          "base_uri": "https://localhost:8080/",
          "height": 521
        },
        "id": "Ah2PxJEc824J",
        "outputId": "8701627d-d64e-423d-f162-bd9fa30d7d55"
      },
      "outputs": [
        {
          "output_type": "display_data",
          "data": {
            "text/plain": [
              "<IPython.core.display.HTML object>"
            ],
            "text/html": [
              "\n",
              "      <svg width=\"800\" height=\"500\">\n",
              "        <rect width=\"100%\" height=\"100%\" fill=\"black\"/>\n",
              "        <line x1=\"400\" y1=\"250\" x2=\"400.0\" y2=\"180.0\" stroke-linecap=\"round\" style=\"stroke:white;stroke-width:4\"/><line x1=\"400.0\" y1=\"180.0\" x2=\"345.272\" y2=\"136.356\" stroke-linecap=\"round\" style=\"stroke:white;stroke-width:4\"/><line x1=\"345.272\" y1=\"136.356\" x2=\"277.027\" y2=\"151.932\" stroke-linecap=\"round\" style=\"stroke:white;stroke-width:4\"/><line x1=\"277.027\" y1=\"151.932\" x2=\"246.655\" y2=\"215.0\" stroke-linecap=\"round\" style=\"stroke:white;stroke-width:4\"/><line x1=\"246.655\" y1=\"215.0\" x2=\"277.027\" y2=\"278.068\" stroke-linecap=\"round\" style=\"stroke:white;stroke-width:4\"/><line x1=\"277.027\" y1=\"278.068\" x2=\"345.272\" y2=\"293.644\" stroke-linecap=\"round\" style=\"stroke:white;stroke-width:4\"/><line x1=\"345.272\" y1=\"293.644\" x2=\"400.0\" y2=\"250.0\" stroke-linecap=\"round\" style=\"stroke:white;stroke-width:4\"/>\n",
              "        <g visibility=visible transform=\"rotate(359.99999999999994,400.0,250.0) translate(382.0, 232.0)\">\n",
              "<path style=\" stroke:none;fill-rule:evenodd;fill:white;fill-opacity:1;\" d=\"M 18.214844 0.632812 C 16.109375 1.800781 15.011719 4.074219 15.074219 7.132812 L 15.085938 7.652344 L 14.785156 7.496094 C 13.476562 6.824219 11.957031 6.671875 10.40625 7.066406 C 8.46875 7.550781 6.515625 9.15625 4.394531 11.992188 C 3.0625 13.777344 2.679688 14.636719 3.042969 15.027344 L 3.15625 15.152344 L 3.519531 15.152344 C 4.238281 15.152344 4.828125 14.886719 8.1875 13.039062 C 9.386719 12.378906 10.371094 11.839844 10.378906 11.839844 C 10.386719 11.839844 10.355469 11.929688 10.304688 12.035156 C 9.832031 13.09375 9.257812 14.820312 8.96875 16.078125 C 7.914062 20.652344 8.617188 24.53125 11.070312 27.660156 C 11.351562 28.015625 11.363281 27.914062 10.972656 28.382812 C 8.925781 30.84375 7.945312 33.28125 8.238281 35.1875 C 8.289062 35.527344 8.28125 35.523438 8.917969 35.523438 C 10.941406 35.523438 13.074219 34.207031 15.136719 31.6875 C 15.359375 31.417969 15.328125 31.425781 15.5625 31.574219 C 16.292969 32.042969 18.023438 32.964844 18.175781 32.964844 C 18.335938 32.964844 19.941406 32.210938 20.828125 31.71875 C 20.996094 31.625 21.136719 31.554688 21.136719 31.558594 C 21.203125 31.664062 21.898438 32.414062 22.222656 32.730469 C 23.835938 34.300781 25.5625 35.132812 27.582031 35.300781 C 27.90625 35.328125 27.9375 35.308594 28.007812 34.984375 C 28.382812 33.242188 27.625 30.925781 25.863281 28.425781 L 25.542969 27.96875 L 25.699219 27.785156 C 28.945312 23.960938 29.132812 18.699219 26.257812 11.96875 L 26.207031 11.84375 L 27.945312 12.703125 C 31.53125 14.476562 32.316406 14.800781 33.03125 14.800781 C 33.976562 14.800781 33.78125 13.9375 32.472656 12.292969 C 28.519531 7.355469 25.394531 5.925781 21.921875 7.472656 L 21.558594 7.636719 L 21.578125 7.542969 C 21.699219 6.992188 21.761719 5.742188 21.699219 5.164062 C 21.496094 3.296875 20.664062 1.964844 19.003906 0.855469 C 18.480469 0.503906 18.457031 0.5 18.214844 0.632812\"/>\n",
              "</g>\n",
              "      </svg>\n",
              "    "
            ]
          },
          "metadata": {}
        }
      ],
      "source": [
        "# @title Solution 3\n",
        "turtle.initializeTurtle()\n",
        "\n",
        "def polygon(n, length):\n",
        "\n",
        "  angle = 360 / n\n",
        "\n",
        "  for _ in range(n):\n",
        "      turtle.fd(length)\n",
        "      turtle.lt(angle)\n",
        "\n",
        "side_number = 7\n",
        "side_length = 70\n",
        "\n",
        "polygon(side_number, side_length)"
      ]
    },
    {
      "cell_type": "markdown",
      "metadata": {
        "id": "fXd9tbd-B83r"
      },
      "source": [
        "<p>This example draws a 7-sided polygon with side length 70.</p>\n",
        "<p>If using <code>Python2</code>, the value of angle might be <strong>off</strong> because of <strong>integer division</strong>.</p>"
      ]
    },
    {
      "cell_type": "markdown",
      "metadata": {
        "id": "tWYx4W7nCV6w"
      },
      "source": [
        "<p>A simple solution would have been to compute it as follows</p>"
      ]
    },
    {
      "cell_type": "code",
      "execution_count": null,
      "metadata": {
        "colab": {
          "base_uri": "https://localhost:8080/"
        },
        "id": "RofxvGoOCaRh",
        "outputId": "f6e89e60-4a7c-40fa-f9b0-5140aed11dd7"
      },
      "outputs": [
        {
          "name": "stdout",
          "output_type": "stream",
          "text": [
            "51.42857142857143\n"
          ]
        }
      ],
      "source": [
        "n = 7\n",
        "angle = 360.0 / n\n",
        "print(angle)"
      ]
    },
    {
      "cell_type": "markdown",
      "metadata": {
        "id": "-DKoKK-NCok8"
      },
      "source": [
        "<p>where the numerator is a <strong>floating-point</strong> number, as well as the result.</p>"
      ]
    },
    {
      "cell_type": "markdown",
      "metadata": {
        "id": "625MzFkzC5qX"
      },
      "source": [
        "<p>With many arguments, it's easy to forget <strong>what</strong> they are or what <strong>order</strong> they should be in!</p>\n",
        "<p>A good idea is to include the parameters' names in the argument list:</p>"
      ]
    },
    {
      "cell_type": "code",
      "execution_count": null,
      "metadata": {
        "colab": {
          "base_uri": "https://localhost:8080/",
          "height": 179
        },
        "id": "n3Fh4WbcC6wV",
        "outputId": "20bb072d-cd2f-4804-fd9d-0400f590c950"
      },
      "outputs": [
        {
          "output_type": "error",
          "ename": "NameError",
          "evalue": "ignored",
          "traceback": [
            "\u001b[0;31m---------------------------------------------------------------------------\u001b[0m",
            "\u001b[0;31mNameError\u001b[0m                                 Traceback (most recent call last)",
            "\u001b[0;32m<ipython-input-10-5fc548667877>\u001b[0m in \u001b[0;36m<cell line: 1>\u001b[0;34m()\u001b[0m\n\u001b[0;32m----> 1\u001b[0;31m \u001b[0mpolygon\u001b[0m\u001b[0;34m(\u001b[0m\u001b[0mn\u001b[0m\u001b[0;34m=\u001b[0m\u001b[0mside_number\u001b[0m\u001b[0;34m,\u001b[0m \u001b[0mlength\u001b[0m\u001b[0;34m=\u001b[0m\u001b[0mside_length\u001b[0m\u001b[0;34m)\u001b[0m\u001b[0;34m\u001b[0m\u001b[0;34m\u001b[0m\u001b[0m\n\u001b[0m",
            "\u001b[0;31mNameError\u001b[0m: name 'side_number' is not defined"
          ]
        }
      ],
      "source": [
        "polygon(n=side_number, length=side_length)"
      ]
    },
    {
      "cell_type": "markdown",
      "metadata": {
        "id": "lrzfl155DkY8"
      },
      "source": [
        "<p>These are called <strong>keyword arguments</strong>: including the <strong>parameter</strong> names as <em>keywords, making the program more readable.</em></p>\n",
        "<p>(do not confuse with Python keywords like <code>while</code> and <code>def</code>)</p>"
      ]
    },
    {
      "cell_type": "markdown",
      "metadata": {
        "id": "2YSoTA7gD_8t"
      },
      "source": [
        "## Interface Design"
      ]
    },
    {
      "cell_type": "markdown",
      "metadata": {
        "id": "0WctgT2yEHR-"
      },
      "source": [
        "<p>Next step, write <code>circle</code> taking a radius <code>r</code> as a parameter.</p>\n"
      ]
    },
    {
      "cell_type": "code",
      "execution_count": null,
      "metadata": {
        "cellView": "form",
        "colab": {
          "base_uri": "https://localhost:8080/",
          "height": 521
        },
        "id": "u4o4E2AFEKnw",
        "outputId": "87049c72-5c96-444c-bedb-d30ccc95a577"
      },
      "outputs": [
        {
          "data": {
            "text/html": [
              "\n",
              "      <svg width=\"800\" height=\"500\">\n",
              "        <rect width=\"100%\" height=\"100%\" fill=\"black\"/>\n",
              "        <line x1=\"400\" y1=\"250\" x2=\"400.0\" y2=\"240.575\" stroke-linecap=\"round\" style=\"stroke:white;stroke-width:4\"/><line x1=\"400.0\" y1=\"240.575\" x2=\"398.819\" y2=\"231.225\" stroke-linecap=\"round\" style=\"stroke:white;stroke-width:4\"/><line x1=\"398.819\" y1=\"231.225\" x2=\"396.475\" y2=\"222.096\" stroke-linecap=\"round\" style=\"stroke:white;stroke-width:4\"/><line x1=\"396.475\" y1=\"222.096\" x2=\"393.006\" y2=\"213.333\" stroke-linecap=\"round\" style=\"stroke:white;stroke-width:4\"/><line x1=\"393.006\" y1=\"213.333\" x2=\"388.466\" y2=\"205.074\" stroke-linecap=\"round\" style=\"stroke:white;stroke-width:4\"/><line x1=\"388.466\" y1=\"205.074\" x2=\"382.926\" y2=\"197.449\" stroke-linecap=\"round\" style=\"stroke:white;stroke-width:4\"/><line x1=\"382.926\" y1=\"197.449\" x2=\"376.474\" y2=\"190.579\" stroke-linecap=\"round\" style=\"stroke:white;stroke-width:4\"/><line x1=\"376.474\" y1=\"190.579\" x2=\"369.212\" y2=\"184.571\" stroke-linecap=\"round\" style=\"stroke:white;stroke-width:4\"/><line x1=\"369.212\" y1=\"184.571\" x2=\"361.254\" y2=\"179.521\" stroke-linecap=\"round\" style=\"stroke:white;stroke-width:4\"/><line x1=\"361.254\" y1=\"179.521\" x2=\"352.726\" y2=\"175.508\" stroke-linecap=\"round\" style=\"stroke:white;stroke-width:4\"/><line x1=\"352.726\" y1=\"175.508\" x2=\"343.763\" y2=\"172.596\" stroke-linecap=\"round\" style=\"stroke:white;stroke-width:4\"/><line x1=\"343.763\" y1=\"172.596\" x2=\"334.505\" y2=\"170.83\" stroke-linecap=\"round\" style=\"stroke:white;stroke-width:4\"/><line x1=\"334.505\" y1=\"170.83\" x2=\"325.099\" y2=\"170.238\" stroke-linecap=\"round\" style=\"stroke:white;stroke-width:4\"/><line x1=\"325.099\" y1=\"170.238\" x2=\"315.693\" y2=\"170.83\" stroke-linecap=\"round\" style=\"stroke:white;stroke-width:4\"/><line x1=\"315.693\" y1=\"170.83\" x2=\"306.435\" y2=\"172.596\" stroke-linecap=\"round\" style=\"stroke:white;stroke-width:4\"/><line x1=\"306.435\" y1=\"172.596\" x2=\"297.472\" y2=\"175.508\" stroke-linecap=\"round\" style=\"stroke:white;stroke-width:4\"/><line x1=\"297.472\" y1=\"175.508\" x2=\"288.944\" y2=\"179.521\" stroke-linecap=\"round\" style=\"stroke:white;stroke-width:4\"/><line x1=\"288.944\" y1=\"179.521\" x2=\"280.986\" y2=\"184.571\" stroke-linecap=\"round\" style=\"stroke:white;stroke-width:4\"/><line x1=\"280.986\" y1=\"184.571\" x2=\"273.724\" y2=\"190.579\" stroke-linecap=\"round\" style=\"stroke:white;stroke-width:4\"/><line x1=\"273.724\" y1=\"190.579\" x2=\"267.272\" y2=\"197.449\" stroke-linecap=\"round\" style=\"stroke:white;stroke-width:4\"/><line x1=\"267.272\" y1=\"197.449\" x2=\"261.732\" y2=\"205.074\" stroke-linecap=\"round\" style=\"stroke:white;stroke-width:4\"/><line x1=\"261.732\" y1=\"205.074\" x2=\"257.192\" y2=\"213.333\" stroke-linecap=\"round\" style=\"stroke:white;stroke-width:4\"/><line x1=\"257.192\" y1=\"213.333\" x2=\"253.723\" y2=\"222.096\" stroke-linecap=\"round\" style=\"stroke:white;stroke-width:4\"/><line x1=\"253.723\" y1=\"222.096\" x2=\"251.379\" y2=\"231.225\" stroke-linecap=\"round\" style=\"stroke:white;stroke-width:4\"/><line x1=\"251.379\" y1=\"231.225\" x2=\"250.198\" y2=\"240.575\" stroke-linecap=\"round\" style=\"stroke:white;stroke-width:4\"/><line x1=\"250.198\" y1=\"240.575\" x2=\"250.198\" y2=\"250.0\" stroke-linecap=\"round\" style=\"stroke:white;stroke-width:4\"/><line x1=\"250.198\" y1=\"250.0\" x2=\"251.379\" y2=\"259.35\" stroke-linecap=\"round\" style=\"stroke:white;stroke-width:4\"/><line x1=\"251.379\" y1=\"259.35\" x2=\"253.723\" y2=\"268.479\" stroke-linecap=\"round\" style=\"stroke:white;stroke-width:4\"/><line x1=\"253.723\" y1=\"268.479\" x2=\"257.192\" y2=\"277.242\" stroke-linecap=\"round\" style=\"stroke:white;stroke-width:4\"/><line x1=\"257.192\" y1=\"277.242\" x2=\"261.732\" y2=\"285.501\" stroke-linecap=\"round\" style=\"stroke:white;stroke-width:4\"/><line x1=\"261.732\" y1=\"285.501\" x2=\"267.272\" y2=\"293.126\" stroke-linecap=\"round\" style=\"stroke:white;stroke-width:4\"/><line x1=\"267.272\" y1=\"293.126\" x2=\"273.724\" y2=\"299.996\" stroke-linecap=\"round\" style=\"stroke:white;stroke-width:4\"/><line x1=\"273.724\" y1=\"299.996\" x2=\"280.986\" y2=\"306.004\" stroke-linecap=\"round\" style=\"stroke:white;stroke-width:4\"/><line x1=\"280.986\" y1=\"306.004\" x2=\"288.944\" y2=\"311.054\" stroke-linecap=\"round\" style=\"stroke:white;stroke-width:4\"/><line x1=\"288.944\" y1=\"311.054\" x2=\"297.472\" y2=\"315.067\" stroke-linecap=\"round\" style=\"stroke:white;stroke-width:4\"/><line x1=\"297.472\" y1=\"315.067\" x2=\"306.435\" y2=\"317.979\" stroke-linecap=\"round\" style=\"stroke:white;stroke-width:4\"/><line x1=\"306.435\" y1=\"317.979\" x2=\"315.693\" y2=\"319.745\" stroke-linecap=\"round\" style=\"stroke:white;stroke-width:4\"/><line x1=\"315.693\" y1=\"319.745\" x2=\"325.099\" y2=\"320.337\" stroke-linecap=\"round\" style=\"stroke:white;stroke-width:4\"/><line x1=\"325.099\" y1=\"320.337\" x2=\"334.505\" y2=\"319.745\" stroke-linecap=\"round\" style=\"stroke:white;stroke-width:4\"/><line x1=\"334.505\" y1=\"319.745\" x2=\"343.763\" y2=\"317.979\" stroke-linecap=\"round\" style=\"stroke:white;stroke-width:4\"/><line x1=\"343.763\" y1=\"317.979\" x2=\"352.726\" y2=\"315.067\" stroke-linecap=\"round\" style=\"stroke:white;stroke-width:4\"/><line x1=\"352.726\" y1=\"315.067\" x2=\"361.254\" y2=\"311.054\" stroke-linecap=\"round\" style=\"stroke:white;stroke-width:4\"/><line x1=\"361.254\" y1=\"311.054\" x2=\"369.212\" y2=\"306.004\" stroke-linecap=\"round\" style=\"stroke:white;stroke-width:4\"/><line x1=\"369.212\" y1=\"306.004\" x2=\"376.474\" y2=\"299.996\" stroke-linecap=\"round\" style=\"stroke:white;stroke-width:4\"/><line x1=\"376.474\" y1=\"299.996\" x2=\"382.926\" y2=\"293.126\" stroke-linecap=\"round\" style=\"stroke:white;stroke-width:4\"/><line x1=\"382.926\" y1=\"293.126\" x2=\"388.466\" y2=\"285.501\" stroke-linecap=\"round\" style=\"stroke:white;stroke-width:4\"/><line x1=\"388.466\" y1=\"285.501\" x2=\"393.006\" y2=\"277.242\" stroke-linecap=\"round\" style=\"stroke:white;stroke-width:4\"/><line x1=\"393.006\" y1=\"277.242\" x2=\"396.475\" y2=\"268.479\" stroke-linecap=\"round\" style=\"stroke:white;stroke-width:4\"/><line x1=\"396.475\" y1=\"268.479\" x2=\"398.819\" y2=\"259.35\" stroke-linecap=\"round\" style=\"stroke:white;stroke-width:4\"/><line x1=\"398.819\" y1=\"259.35\" x2=\"400.0\" y2=\"250.0\" stroke-linecap=\"round\" style=\"stroke:white;stroke-width:4\"/>\n",
              "        <g visibility=visible transform=\"rotate(360.00000000000034,400.0,250.0) translate(382.0, 232.0)\">\n",
              "<path style=\" stroke:none;fill-rule:evenodd;fill:white;fill-opacity:1;\" d=\"M 18.214844 0.632812 C 16.109375 1.800781 15.011719 4.074219 15.074219 7.132812 L 15.085938 7.652344 L 14.785156 7.496094 C 13.476562 6.824219 11.957031 6.671875 10.40625 7.066406 C 8.46875 7.550781 6.515625 9.15625 4.394531 11.992188 C 3.0625 13.777344 2.679688 14.636719 3.042969 15.027344 L 3.15625 15.152344 L 3.519531 15.152344 C 4.238281 15.152344 4.828125 14.886719 8.1875 13.039062 C 9.386719 12.378906 10.371094 11.839844 10.378906 11.839844 C 10.386719 11.839844 10.355469 11.929688 10.304688 12.035156 C 9.832031 13.09375 9.257812 14.820312 8.96875 16.078125 C 7.914062 20.652344 8.617188 24.53125 11.070312 27.660156 C 11.351562 28.015625 11.363281 27.914062 10.972656 28.382812 C 8.925781 30.84375 7.945312 33.28125 8.238281 35.1875 C 8.289062 35.527344 8.28125 35.523438 8.917969 35.523438 C 10.941406 35.523438 13.074219 34.207031 15.136719 31.6875 C 15.359375 31.417969 15.328125 31.425781 15.5625 31.574219 C 16.292969 32.042969 18.023438 32.964844 18.175781 32.964844 C 18.335938 32.964844 19.941406 32.210938 20.828125 31.71875 C 20.996094 31.625 21.136719 31.554688 21.136719 31.558594 C 21.203125 31.664062 21.898438 32.414062 22.222656 32.730469 C 23.835938 34.300781 25.5625 35.132812 27.582031 35.300781 C 27.90625 35.328125 27.9375 35.308594 28.007812 34.984375 C 28.382812 33.242188 27.625 30.925781 25.863281 28.425781 L 25.542969 27.96875 L 25.699219 27.785156 C 28.945312 23.960938 29.132812 18.699219 26.257812 11.96875 L 26.207031 11.84375 L 27.945312 12.703125 C 31.53125 14.476562 32.316406 14.800781 33.03125 14.800781 C 33.976562 14.800781 33.78125 13.9375 32.472656 12.292969 C 28.519531 7.355469 25.394531 5.925781 21.921875 7.472656 L 21.558594 7.636719 L 21.578125 7.542969 C 21.699219 6.992188 21.761719 5.742188 21.699219 5.164062 C 21.496094 3.296875 20.664062 1.964844 19.003906 0.855469 C 18.480469 0.503906 18.457031 0.5 18.214844 0.632812\"/>\n",
              "</g>\n",
              "      </svg>\n",
              "    "
            ],
            "text/plain": [
              "<IPython.core.display.HTML object>"
            ]
          },
          "metadata": {},
          "output_type": "display_data"
        }
      ],
      "source": [
        "# @title Solution 4\n",
        "import math\n",
        "\n",
        "turtle.initializeTurtle()\n",
        "\n",
        "def circle(r):\n",
        "\n",
        "    n = 50\n",
        "    circumference = 2 * math.pi * r\n",
        "    length = circumference / n\n",
        "    polygon(n, length)\n",
        "\n",
        "radius = 75\n",
        "circle(radius)"
      ]
    },
    {
      "cell_type": "markdown",
      "metadata": {
        "id": "Dk0tx7EKGKug"
      },
      "source": [
        "<p>This solution uses <code>polygon</code> to draw a 50-sided polygon that approximates a circle, with an <strong>appropriate</strong> length and number of <strong>sides</strong>!</p>"
      ]
    },
    {
      "cell_type": "markdown",
      "metadata": {
        "id": "n3n6CZM_Ga2l"
      },
      "source": [
        "<ul>\n",
        "  <li><p>First line computes the <strong>circumference</strong> of a circle with radius r.</p></li>\n",
        "  <ul>\n",
        "  <li><p>Since we use <code>math.pi</code>, we have to import <code>math</code> module.</p></li>\n",
        "  <li><p>By convention, <code>import</code> statements are usually at the beginning of the script.</p></li>\n",
        "</ul>\n",
        "  <li><p><code>n</code> is the number of line segments in our approximation, thus <code>length</code> is the length of each segment.</p></li>\n",
        "</ul>"
      ]
    },
    {
      "cell_type": "markdown",
      "metadata": {
        "id": "Jay4xb41HLjW"
      },
      "source": [
        "<p>A current limitation is that <code>n</code> is a <strong>constant</strong>,thus:</p>\n",
        "<ul>\n",
        "<li>for very <em>big circles</em>, the line segments are too long</li>\n",
        "<li>for <em>small circles</em>, we waste time drawing very small segments</li>\n",
        "</ul>"
      ]
    },
    {
      "cell_type": "markdown",
      "metadata": {
        "id": "XzvayVufHQB4"
      },
      "source": [
        "<p>A solution would be to <strong>generalize</strong> this function: taking <code>n</code> as a <strong>parameter</strong>.</p>\n",
        "<p>This gives the user (better, the <strong>caller</strong>) more <em>control</em>, but the <strong>interface</strong> would be <em>less clean</em>.</p>"
      ]
    },
    {
      "cell_type": "markdown",
      "metadata": {
        "id": "UPujGqccIB7B"
      },
      "source": [
        "<p>The <strong>interface</strong> of a function is a <em>summary</em> of how it is used:</p>\n",
        "<ul>\n",
        "<li>What are the parameters?</li>\n",
        "<li>What does the function do?</li>\n",
        "<li>What is the return value?</li>\n",
        "</ul>"
      ]
    },
    {
      "cell_type": "markdown",
      "metadata": {
        "id": "HPeyp155IIqs"
      },
      "source": [
        "<p>A <strong>clean</strong> interface allows the callers to do what they want without dealing with <strong>unnecessary details</strong>.</p>\n"
      ]
    },
    {
      "cell_type": "markdown",
      "metadata": {
        "id": "nwB08SfkIVPz"
      },
      "source": [
        "<ul>\n",
        "<li><code>r</code> belongs in the interface since it specifies the circle to be drawn.</li>\n",
        "<li><code>n</code> is not appropriate, just details on <em>how the circle should be rendered</em>.</li>\n",
        "</ul>"
      ]
    },
    {
      "cell_type": "markdown",
      "metadata": {
        "id": "Yq9Z3xyTIt-H"
      },
      "source": [
        "<p>To avoid clutter up, better to choose an appropriate value of <code>n</code> depending on <code>circumference</code> length:</p>"
      ]
    },
    {
      "cell_type": "code",
      "execution_count": null,
      "metadata": {
        "cellView": "form",
        "colab": {
          "base_uri": "https://localhost:8080/",
          "height": 521
        },
        "id": "Hkw_f_oCICgd",
        "outputId": "ea168549-b684-4112-c42c-c26ee866ce7d"
      },
      "outputs": [
        {
          "data": {
            "text/html": [
              "\n",
              "      <svg width=\"800\" height=\"500\">\n",
              "        <rect width=\"100%\" height=\"100%\" fill=\"black\"/>\n",
              "        <line x1=\"400\" y1=\"250\" x2=\"400.0\" y2=\"247.017\" stroke-linecap=\"round\" style=\"stroke:white;stroke-width:4\"/><line x1=\"400.0\" y1=\"247.017\" x2=\"399.881\" y2=\"244.037\" stroke-linecap=\"round\" style=\"stroke:white;stroke-width:4\"/><line x1=\"399.881\" y1=\"244.037\" x2=\"399.644\" y2=\"241.064\" stroke-linecap=\"round\" style=\"stroke:white;stroke-width:4\"/><line x1=\"399.644\" y1=\"241.064\" x2=\"399.289\" y2=\"238.103\" stroke-linecap=\"round\" style=\"stroke:white;stroke-width:4\"/><line x1=\"399.289\" y1=\"238.103\" x2=\"398.817\" y2=\"235.158\" stroke-linecap=\"round\" style=\"stroke:white;stroke-width:4\"/><line x1=\"398.817\" y1=\"235.158\" x2=\"398.228\" y2=\"232.234\" stroke-linecap=\"round\" style=\"stroke:white;stroke-width:4\"/><line x1=\"398.228\" y1=\"232.234\" x2=\"397.523\" y2=\"229.336\" stroke-linecap=\"round\" style=\"stroke:white;stroke-width:4\"/><line x1=\"397.523\" y1=\"229.336\" x2=\"396.703\" y2=\"226.468\" stroke-linecap=\"round\" style=\"stroke:white;stroke-width:4\"/><line x1=\"396.703\" y1=\"226.468\" x2=\"395.77\" y2=\"223.635\" stroke-linecap=\"round\" style=\"stroke:white;stroke-width:4\"/><line x1=\"395.77\" y1=\"223.635\" x2=\"394.725\" y2=\"220.841\" stroke-linecap=\"round\" style=\"stroke:white;stroke-width:4\"/><line x1=\"394.725\" y1=\"220.841\" x2=\"393.57\" y2=\"218.091\" stroke-linecap=\"round\" style=\"stroke:white;stroke-width:4\"/><line x1=\"393.57\" y1=\"218.091\" x2=\"392.307\" y2=\"215.389\" stroke-linecap=\"round\" style=\"stroke:white;stroke-width:4\"/><line x1=\"392.307\" y1=\"215.389\" x2=\"390.937\" y2=\"212.74\" stroke-linecap=\"round\" style=\"stroke:white;stroke-width:4\"/><line x1=\"390.937\" y1=\"212.74\" x2=\"389.463\" y2=\"210.147\" stroke-linecap=\"round\" style=\"stroke:white;stroke-width:4\"/><line x1=\"389.463\" y1=\"210.147\" x2=\"387.887\" y2=\"207.615\" stroke-linecap=\"round\" style=\"stroke:white;stroke-width:4\"/><line x1=\"387.887\" y1=\"207.615\" x2=\"386.212\" y2=\"205.148\" stroke-linecap=\"round\" style=\"stroke:white;stroke-width:4\"/><line x1=\"386.212\" y1=\"205.148\" x2=\"384.44\" y2=\"202.749\" stroke-linecap=\"round\" style=\"stroke:white;stroke-width:4\"/><line x1=\"384.44\" y1=\"202.749\" x2=\"382.574\" y2=\"200.422\" stroke-linecap=\"round\" style=\"stroke:white;stroke-width:4\"/><line x1=\"382.574\" y1=\"200.422\" x2=\"380.617\" y2=\"198.171\" stroke-linecap=\"round\" style=\"stroke:white;stroke-width:4\"/><line x1=\"380.617\" y1=\"198.171\" x2=\"378.572\" y2=\"196.0\" stroke-linecap=\"round\" style=\"stroke:white;stroke-width:4\"/><line x1=\"378.572\" y1=\"196.0\" x2=\"376.442\" y2=\"193.912\" stroke-linecap=\"round\" style=\"stroke:white;stroke-width:4\"/><line x1=\"376.442\" y1=\"193.912\" x2=\"374.231\" y2=\"191.91\" stroke-linecap=\"round\" style=\"stroke:white;stroke-width:4\"/><line x1=\"374.231\" y1=\"191.91\" x2=\"371.942\" y2=\"189.998\" stroke-linecap=\"round\" style=\"stroke:white;stroke-width:4\"/><line x1=\"371.942\" y1=\"189.998\" x2=\"369.579\" y2=\"188.178\" stroke-linecap=\"round\" style=\"stroke:white;stroke-width:4\"/><line x1=\"369.579\" y1=\"188.178\" x2=\"367.145\" y2=\"186.454\" stroke-linecap=\"round\" style=\"stroke:white;stroke-width:4\"/><line x1=\"367.145\" y1=\"186.454\" x2=\"364.645\" y2=\"184.828\" stroke-linecap=\"round\" style=\"stroke:white;stroke-width:4\"/><line x1=\"364.645\" y1=\"184.828\" x2=\"362.082\" y2=\"183.303\" stroke-linecap=\"round\" style=\"stroke:white;stroke-width:4\"/><line x1=\"362.082\" y1=\"183.303\" x2=\"359.46\" y2=\"181.881\" stroke-linecap=\"round\" style=\"stroke:white;stroke-width:4\"/><line x1=\"359.46\" y1=\"181.881\" x2=\"356.784\" y2=\"180.564\" stroke-linecap=\"round\" style=\"stroke:white;stroke-width:4\"/><line x1=\"356.784\" y1=\"180.564\" x2=\"354.058\" y2=\"179.355\" stroke-linecap=\"round\" style=\"stroke:white;stroke-width:4\"/><line x1=\"354.058\" y1=\"179.355\" x2=\"351.286\" y2=\"178.255\" stroke-linecap=\"round\" style=\"stroke:white;stroke-width:4\"/><line x1=\"351.286\" y1=\"178.255\" x2=\"348.472\" y2=\"177.266\" stroke-linecap=\"round\" style=\"stroke:white;stroke-width:4\"/><line x1=\"348.472\" y1=\"177.266\" x2=\"345.621\" y2=\"176.39\" stroke-linecap=\"round\" style=\"stroke:white;stroke-width:4\"/><line x1=\"345.621\" y1=\"176.39\" x2=\"342.738\" y2=\"175.628\" stroke-linecap=\"round\" style=\"stroke:white;stroke-width:4\"/><line x1=\"342.738\" y1=\"175.628\" x2=\"339.827\" y2=\"174.981\" stroke-linecap=\"round\" style=\"stroke:white;stroke-width:4\"/><line x1=\"339.827\" y1=\"174.981\" x2=\"336.892\" y2=\"174.45\" stroke-linecap=\"round\" style=\"stroke:white;stroke-width:4\"/><line x1=\"336.892\" y1=\"174.45\" x2=\"333.938\" y2=\"174.036\" stroke-linecap=\"round\" style=\"stroke:white;stroke-width:4\"/><line x1=\"333.938\" y1=\"174.036\" x2=\"330.97\" y2=\"173.74\" stroke-linecap=\"round\" style=\"stroke:white;stroke-width:4\"/><line x1=\"330.97\" y1=\"173.74\" x2=\"327.993\" y2=\"173.562\" stroke-linecap=\"round\" style=\"stroke:white;stroke-width:4\"/><line x1=\"327.993\" y1=\"173.562\" x2=\"325.011\" y2=\"173.503\" stroke-linecap=\"round\" style=\"stroke:white;stroke-width:4\"/><line x1=\"325.011\" y1=\"173.503\" x2=\"322.029\" y2=\"173.562\" stroke-linecap=\"round\" style=\"stroke:white;stroke-width:4\"/><line x1=\"322.029\" y1=\"173.562\" x2=\"319.052\" y2=\"173.74\" stroke-linecap=\"round\" style=\"stroke:white;stroke-width:4\"/><line x1=\"319.052\" y1=\"173.74\" x2=\"316.084\" y2=\"174.036\" stroke-linecap=\"round\" style=\"stroke:white;stroke-width:4\"/><line x1=\"316.084\" y1=\"174.036\" x2=\"313.13\" y2=\"174.45\" stroke-linecap=\"round\" style=\"stroke:white;stroke-width:4\"/><line x1=\"313.13\" y1=\"174.45\" x2=\"310.195\" y2=\"174.981\" stroke-linecap=\"round\" style=\"stroke:white;stroke-width:4\"/><line x1=\"310.195\" y1=\"174.981\" x2=\"307.284\" y2=\"175.628\" stroke-linecap=\"round\" style=\"stroke:white;stroke-width:4\"/><line x1=\"307.284\" y1=\"175.628\" x2=\"304.401\" y2=\"176.39\" stroke-linecap=\"round\" style=\"stroke:white;stroke-width:4\"/><line x1=\"304.401\" y1=\"176.39\" x2=\"301.55\" y2=\"177.266\" stroke-linecap=\"round\" style=\"stroke:white;stroke-width:4\"/><line x1=\"301.55\" y1=\"177.266\" x2=\"298.736\" y2=\"178.255\" stroke-linecap=\"round\" style=\"stroke:white;stroke-width:4\"/><line x1=\"298.736\" y1=\"178.255\" x2=\"295.964\" y2=\"179.355\" stroke-linecap=\"round\" style=\"stroke:white;stroke-width:4\"/><line x1=\"295.964\" y1=\"179.355\" x2=\"293.238\" y2=\"180.564\" stroke-linecap=\"round\" style=\"stroke:white;stroke-width:4\"/><line x1=\"293.238\" y1=\"180.564\" x2=\"290.562\" y2=\"181.881\" stroke-linecap=\"round\" style=\"stroke:white;stroke-width:4\"/><line x1=\"290.562\" y1=\"181.881\" x2=\"287.94\" y2=\"183.303\" stroke-linecap=\"round\" style=\"stroke:white;stroke-width:4\"/><line x1=\"287.94\" y1=\"183.303\" x2=\"285.377\" y2=\"184.828\" stroke-linecap=\"round\" style=\"stroke:white;stroke-width:4\"/><line x1=\"285.377\" y1=\"184.828\" x2=\"282.877\" y2=\"186.454\" stroke-linecap=\"round\" style=\"stroke:white;stroke-width:4\"/><line x1=\"282.877\" y1=\"186.454\" x2=\"280.443\" y2=\"188.178\" stroke-linecap=\"round\" style=\"stroke:white;stroke-width:4\"/><line x1=\"280.443\" y1=\"188.178\" x2=\"278.08\" y2=\"189.998\" stroke-linecap=\"round\" style=\"stroke:white;stroke-width:4\"/><line x1=\"278.08\" y1=\"189.998\" x2=\"275.791\" y2=\"191.91\" stroke-linecap=\"round\" style=\"stroke:white;stroke-width:4\"/><line x1=\"275.791\" y1=\"191.91\" x2=\"273.58\" y2=\"193.912\" stroke-linecap=\"round\" style=\"stroke:white;stroke-width:4\"/><line x1=\"273.58\" y1=\"193.912\" x2=\"271.45\" y2=\"196.0\" stroke-linecap=\"round\" style=\"stroke:white;stroke-width:4\"/><line x1=\"271.45\" y1=\"196.0\" x2=\"269.405\" y2=\"198.171\" stroke-linecap=\"round\" style=\"stroke:white;stroke-width:4\"/><line x1=\"269.405\" y1=\"198.171\" x2=\"267.448\" y2=\"200.422\" stroke-linecap=\"round\" style=\"stroke:white;stroke-width:4\"/><line x1=\"267.448\" y1=\"200.422\" x2=\"265.582\" y2=\"202.749\" stroke-linecap=\"round\" style=\"stroke:white;stroke-width:4\"/><line x1=\"265.582\" y1=\"202.749\" x2=\"263.81\" y2=\"205.148\" stroke-linecap=\"round\" style=\"stroke:white;stroke-width:4\"/><line x1=\"263.81\" y1=\"205.148\" x2=\"262.135\" y2=\"207.615\" stroke-linecap=\"round\" style=\"stroke:white;stroke-width:4\"/><line x1=\"262.135\" y1=\"207.615\" x2=\"260.559\" y2=\"210.147\" stroke-linecap=\"round\" style=\"stroke:white;stroke-width:4\"/><line x1=\"260.559\" y1=\"210.147\" x2=\"259.085\" y2=\"212.74\" stroke-linecap=\"round\" style=\"stroke:white;stroke-width:4\"/><line x1=\"259.085\" y1=\"212.74\" x2=\"257.715\" y2=\"215.389\" stroke-linecap=\"round\" style=\"stroke:white;stroke-width:4\"/><line x1=\"257.715\" y1=\"215.389\" x2=\"256.452\" y2=\"218.091\" stroke-linecap=\"round\" style=\"stroke:white;stroke-width:4\"/><line x1=\"256.452\" y1=\"218.091\" x2=\"255.297\" y2=\"220.841\" stroke-linecap=\"round\" style=\"stroke:white;stroke-width:4\"/><line x1=\"255.297\" y1=\"220.841\" x2=\"254.252\" y2=\"223.635\" stroke-linecap=\"round\" style=\"stroke:white;stroke-width:4\"/><line x1=\"254.252\" y1=\"223.635\" x2=\"253.319\" y2=\"226.468\" stroke-linecap=\"round\" style=\"stroke:white;stroke-width:4\"/><line x1=\"253.319\" y1=\"226.468\" x2=\"252.499\" y2=\"229.336\" stroke-linecap=\"round\" style=\"stroke:white;stroke-width:4\"/><line x1=\"252.499\" y1=\"229.336\" x2=\"251.794\" y2=\"232.234\" stroke-linecap=\"round\" style=\"stroke:white;stroke-width:4\"/><line x1=\"251.794\" y1=\"232.234\" x2=\"251.205\" y2=\"235.158\" stroke-linecap=\"round\" style=\"stroke:white;stroke-width:4\"/><line x1=\"251.205\" y1=\"235.158\" x2=\"250.733\" y2=\"238.103\" stroke-linecap=\"round\" style=\"stroke:white;stroke-width:4\"/><line x1=\"250.733\" y1=\"238.103\" x2=\"250.378\" y2=\"241.064\" stroke-linecap=\"round\" style=\"stroke:white;stroke-width:4\"/><line x1=\"250.378\" y1=\"241.064\" x2=\"250.141\" y2=\"244.037\" stroke-linecap=\"round\" style=\"stroke:white;stroke-width:4\"/><line x1=\"250.141\" y1=\"244.037\" x2=\"250.022\" y2=\"247.017\" stroke-linecap=\"round\" style=\"stroke:white;stroke-width:4\"/><line x1=\"250.022\" y1=\"247.017\" x2=\"250.022\" y2=\"250.0\" stroke-linecap=\"round\" style=\"stroke:white;stroke-width:4\"/><line x1=\"250.022\" y1=\"250.0\" x2=\"250.141\" y2=\"252.98\" stroke-linecap=\"round\" style=\"stroke:white;stroke-width:4\"/><line x1=\"250.141\" y1=\"252.98\" x2=\"250.378\" y2=\"255.953\" stroke-linecap=\"round\" style=\"stroke:white;stroke-width:4\"/><line x1=\"250.378\" y1=\"255.953\" x2=\"250.733\" y2=\"258.914\" stroke-linecap=\"round\" style=\"stroke:white;stroke-width:4\"/><line x1=\"250.733\" y1=\"258.914\" x2=\"251.205\" y2=\"261.859\" stroke-linecap=\"round\" style=\"stroke:white;stroke-width:4\"/><line x1=\"251.205\" y1=\"261.859\" x2=\"251.794\" y2=\"264.783\" stroke-linecap=\"round\" style=\"stroke:white;stroke-width:4\"/><line x1=\"251.794\" y1=\"264.783\" x2=\"252.499\" y2=\"267.681\" stroke-linecap=\"round\" style=\"stroke:white;stroke-width:4\"/><line x1=\"252.499\" y1=\"267.681\" x2=\"253.319\" y2=\"270.549\" stroke-linecap=\"round\" style=\"stroke:white;stroke-width:4\"/><line x1=\"253.319\" y1=\"270.549\" x2=\"254.252\" y2=\"273.382\" stroke-linecap=\"round\" style=\"stroke:white;stroke-width:4\"/><line x1=\"254.252\" y1=\"273.382\" x2=\"255.297\" y2=\"276.176\" stroke-linecap=\"round\" style=\"stroke:white;stroke-width:4\"/><line x1=\"255.297\" y1=\"276.176\" x2=\"256.452\" y2=\"278.926\" stroke-linecap=\"round\" style=\"stroke:white;stroke-width:4\"/><line x1=\"256.452\" y1=\"278.926\" x2=\"257.715\" y2=\"281.628\" stroke-linecap=\"round\" style=\"stroke:white;stroke-width:4\"/><line x1=\"257.715\" y1=\"281.628\" x2=\"259.085\" y2=\"284.277\" stroke-linecap=\"round\" style=\"stroke:white;stroke-width:4\"/><line x1=\"259.085\" y1=\"284.277\" x2=\"260.559\" y2=\"286.87\" stroke-linecap=\"round\" style=\"stroke:white;stroke-width:4\"/><line x1=\"260.559\" y1=\"286.87\" x2=\"262.135\" y2=\"289.402\" stroke-linecap=\"round\" style=\"stroke:white;stroke-width:4\"/><line x1=\"262.135\" y1=\"289.402\" x2=\"263.81\" y2=\"291.869\" stroke-linecap=\"round\" style=\"stroke:white;stroke-width:4\"/><line x1=\"263.81\" y1=\"291.869\" x2=\"265.582\" y2=\"294.268\" stroke-linecap=\"round\" style=\"stroke:white;stroke-width:4\"/><line x1=\"265.582\" y1=\"294.268\" x2=\"267.448\" y2=\"296.595\" stroke-linecap=\"round\" style=\"stroke:white;stroke-width:4\"/><line x1=\"267.448\" y1=\"296.595\" x2=\"269.405\" y2=\"298.846\" stroke-linecap=\"round\" style=\"stroke:white;stroke-width:4\"/><line x1=\"269.405\" y1=\"298.846\" x2=\"271.45\" y2=\"301.017\" stroke-linecap=\"round\" style=\"stroke:white;stroke-width:4\"/><line x1=\"271.45\" y1=\"301.017\" x2=\"273.58\" y2=\"303.105\" stroke-linecap=\"round\" style=\"stroke:white;stroke-width:4\"/><line x1=\"273.58\" y1=\"303.105\" x2=\"275.791\" y2=\"305.107\" stroke-linecap=\"round\" style=\"stroke:white;stroke-width:4\"/><line x1=\"275.791\" y1=\"305.107\" x2=\"278.08\" y2=\"307.019\" stroke-linecap=\"round\" style=\"stroke:white;stroke-width:4\"/><line x1=\"278.08\" y1=\"307.019\" x2=\"280.443\" y2=\"308.839\" stroke-linecap=\"round\" style=\"stroke:white;stroke-width:4\"/><line x1=\"280.443\" y1=\"308.839\" x2=\"282.877\" y2=\"310.563\" stroke-linecap=\"round\" style=\"stroke:white;stroke-width:4\"/><line x1=\"282.877\" y1=\"310.563\" x2=\"285.377\" y2=\"312.189\" stroke-linecap=\"round\" style=\"stroke:white;stroke-width:4\"/><line x1=\"285.377\" y1=\"312.189\" x2=\"287.94\" y2=\"313.714\" stroke-linecap=\"round\" style=\"stroke:white;stroke-width:4\"/><line x1=\"287.94\" y1=\"313.714\" x2=\"290.562\" y2=\"315.136\" stroke-linecap=\"round\" style=\"stroke:white;stroke-width:4\"/><line x1=\"290.562\" y1=\"315.136\" x2=\"293.238\" y2=\"316.453\" stroke-linecap=\"round\" style=\"stroke:white;stroke-width:4\"/><line x1=\"293.238\" y1=\"316.453\" x2=\"295.964\" y2=\"317.662\" stroke-linecap=\"round\" style=\"stroke:white;stroke-width:4\"/><line x1=\"295.964\" y1=\"317.662\" x2=\"298.736\" y2=\"318.762\" stroke-linecap=\"round\" style=\"stroke:white;stroke-width:4\"/><line x1=\"298.736\" y1=\"318.762\" x2=\"301.55\" y2=\"319.751\" stroke-linecap=\"round\" style=\"stroke:white;stroke-width:4\"/><line x1=\"301.55\" y1=\"319.751\" x2=\"304.401\" y2=\"320.627\" stroke-linecap=\"round\" style=\"stroke:white;stroke-width:4\"/><line x1=\"304.401\" y1=\"320.627\" x2=\"307.284\" y2=\"321.389\" stroke-linecap=\"round\" style=\"stroke:white;stroke-width:4\"/><line x1=\"307.284\" y1=\"321.389\" x2=\"310.195\" y2=\"322.036\" stroke-linecap=\"round\" style=\"stroke:white;stroke-width:4\"/><line x1=\"310.195\" y1=\"322.036\" x2=\"313.13\" y2=\"322.567\" stroke-linecap=\"round\" style=\"stroke:white;stroke-width:4\"/><line x1=\"313.13\" y1=\"322.567\" x2=\"316.084\" y2=\"322.981\" stroke-linecap=\"round\" style=\"stroke:white;stroke-width:4\"/><line x1=\"316.084\" y1=\"322.981\" x2=\"319.052\" y2=\"323.277\" stroke-linecap=\"round\" style=\"stroke:white;stroke-width:4\"/><line x1=\"319.052\" y1=\"323.277\" x2=\"322.029\" y2=\"323.455\" stroke-linecap=\"round\" style=\"stroke:white;stroke-width:4\"/><line x1=\"322.029\" y1=\"323.455\" x2=\"325.011\" y2=\"323.514\" stroke-linecap=\"round\" style=\"stroke:white;stroke-width:4\"/><line x1=\"325.011\" y1=\"323.514\" x2=\"327.993\" y2=\"323.455\" stroke-linecap=\"round\" style=\"stroke:white;stroke-width:4\"/><line x1=\"327.993\" y1=\"323.455\" x2=\"330.97\" y2=\"323.277\" stroke-linecap=\"round\" style=\"stroke:white;stroke-width:4\"/><line x1=\"330.97\" y1=\"323.277\" x2=\"333.938\" y2=\"322.981\" stroke-linecap=\"round\" style=\"stroke:white;stroke-width:4\"/><line x1=\"333.938\" y1=\"322.981\" x2=\"336.892\" y2=\"322.567\" stroke-linecap=\"round\" style=\"stroke:white;stroke-width:4\"/><line x1=\"336.892\" y1=\"322.567\" x2=\"339.827\" y2=\"322.036\" stroke-linecap=\"round\" style=\"stroke:white;stroke-width:4\"/><line x1=\"339.827\" y1=\"322.036\" x2=\"342.738\" y2=\"321.389\" stroke-linecap=\"round\" style=\"stroke:white;stroke-width:4\"/><line x1=\"342.738\" y1=\"321.389\" x2=\"345.621\" y2=\"320.627\" stroke-linecap=\"round\" style=\"stroke:white;stroke-width:4\"/><line x1=\"345.621\" y1=\"320.627\" x2=\"348.472\" y2=\"319.751\" stroke-linecap=\"round\" style=\"stroke:white;stroke-width:4\"/><line x1=\"348.472\" y1=\"319.751\" x2=\"351.286\" y2=\"318.762\" stroke-linecap=\"round\" style=\"stroke:white;stroke-width:4\"/><line x1=\"351.286\" y1=\"318.762\" x2=\"354.058\" y2=\"317.662\" stroke-linecap=\"round\" style=\"stroke:white;stroke-width:4\"/><line x1=\"354.058\" y1=\"317.662\" x2=\"356.784\" y2=\"316.453\" stroke-linecap=\"round\" style=\"stroke:white;stroke-width:4\"/><line x1=\"356.784\" y1=\"316.453\" x2=\"359.46\" y2=\"315.136\" stroke-linecap=\"round\" style=\"stroke:white;stroke-width:4\"/><line x1=\"359.46\" y1=\"315.136\" x2=\"362.082\" y2=\"313.714\" stroke-linecap=\"round\" style=\"stroke:white;stroke-width:4\"/><line x1=\"362.082\" y1=\"313.714\" x2=\"364.645\" y2=\"312.189\" stroke-linecap=\"round\" style=\"stroke:white;stroke-width:4\"/><line x1=\"364.645\" y1=\"312.189\" x2=\"367.145\" y2=\"310.563\" stroke-linecap=\"round\" style=\"stroke:white;stroke-width:4\"/><line x1=\"367.145\" y1=\"310.563\" x2=\"369.579\" y2=\"308.839\" stroke-linecap=\"round\" style=\"stroke:white;stroke-width:4\"/><line x1=\"369.579\" y1=\"308.839\" x2=\"371.942\" y2=\"307.019\" stroke-linecap=\"round\" style=\"stroke:white;stroke-width:4\"/><line x1=\"371.942\" y1=\"307.019\" x2=\"374.231\" y2=\"305.107\" stroke-linecap=\"round\" style=\"stroke:white;stroke-width:4\"/><line x1=\"374.231\" y1=\"305.107\" x2=\"376.442\" y2=\"303.105\" stroke-linecap=\"round\" style=\"stroke:white;stroke-width:4\"/><line x1=\"376.442\" y1=\"303.105\" x2=\"378.572\" y2=\"301.017\" stroke-linecap=\"round\" style=\"stroke:white;stroke-width:4\"/><line x1=\"378.572\" y1=\"301.017\" x2=\"380.617\" y2=\"298.846\" stroke-linecap=\"round\" style=\"stroke:white;stroke-width:4\"/><line x1=\"380.617\" y1=\"298.846\" x2=\"382.574\" y2=\"296.595\" stroke-linecap=\"round\" style=\"stroke:white;stroke-width:4\"/><line x1=\"382.574\" y1=\"296.595\" x2=\"384.44\" y2=\"294.268\" stroke-linecap=\"round\" style=\"stroke:white;stroke-width:4\"/><line x1=\"384.44\" y1=\"294.268\" x2=\"386.212\" y2=\"291.869\" stroke-linecap=\"round\" style=\"stroke:white;stroke-width:4\"/><line x1=\"386.212\" y1=\"291.869\" x2=\"387.887\" y2=\"289.402\" stroke-linecap=\"round\" style=\"stroke:white;stroke-width:4\"/><line x1=\"387.887\" y1=\"289.402\" x2=\"389.463\" y2=\"286.87\" stroke-linecap=\"round\" style=\"stroke:white;stroke-width:4\"/><line x1=\"389.463\" y1=\"286.87\" x2=\"390.937\" y2=\"284.277\" stroke-linecap=\"round\" style=\"stroke:white;stroke-width:4\"/><line x1=\"390.937\" y1=\"284.277\" x2=\"392.307\" y2=\"281.628\" stroke-linecap=\"round\" style=\"stroke:white;stroke-width:4\"/><line x1=\"392.307\" y1=\"281.628\" x2=\"393.57\" y2=\"278.926\" stroke-linecap=\"round\" style=\"stroke:white;stroke-width:4\"/><line x1=\"393.57\" y1=\"278.926\" x2=\"394.725\" y2=\"276.176\" stroke-linecap=\"round\" style=\"stroke:white;stroke-width:4\"/><line x1=\"394.725\" y1=\"276.176\" x2=\"395.77\" y2=\"273.382\" stroke-linecap=\"round\" style=\"stroke:white;stroke-width:4\"/><line x1=\"395.77\" y1=\"273.382\" x2=\"396.703\" y2=\"270.549\" stroke-linecap=\"round\" style=\"stroke:white;stroke-width:4\"/><line x1=\"396.703\" y1=\"270.549\" x2=\"397.523\" y2=\"267.681\" stroke-linecap=\"round\" style=\"stroke:white;stroke-width:4\"/><line x1=\"397.523\" y1=\"267.681\" x2=\"398.228\" y2=\"264.783\" stroke-linecap=\"round\" style=\"stroke:white;stroke-width:4\"/><line x1=\"398.228\" y1=\"264.783\" x2=\"398.817\" y2=\"261.859\" stroke-linecap=\"round\" style=\"stroke:white;stroke-width:4\"/><line x1=\"398.817\" y1=\"261.859\" x2=\"399.289\" y2=\"258.914\" stroke-linecap=\"round\" style=\"stroke:white;stroke-width:4\"/><line x1=\"399.289\" y1=\"258.914\" x2=\"399.644\" y2=\"255.953\" stroke-linecap=\"round\" style=\"stroke:white;stroke-width:4\"/><line x1=\"399.644\" y1=\"255.953\" x2=\"399.881\" y2=\"252.98\" stroke-linecap=\"round\" style=\"stroke:white;stroke-width:4\"/><line x1=\"399.881\" y1=\"252.98\" x2=\"400.0\" y2=\"250.0\" stroke-linecap=\"round\" style=\"stroke:white;stroke-width:4\"/>\n",
              "        <g visibility=visible transform=\"rotate(359.9999999999994,400.0,250.0) translate(382.0, 232.0)\">\n",
              "<path style=\" stroke:none;fill-rule:evenodd;fill:white;fill-opacity:1;\" d=\"M 18.214844 0.632812 C 16.109375 1.800781 15.011719 4.074219 15.074219 7.132812 L 15.085938 7.652344 L 14.785156 7.496094 C 13.476562 6.824219 11.957031 6.671875 10.40625 7.066406 C 8.46875 7.550781 6.515625 9.15625 4.394531 11.992188 C 3.0625 13.777344 2.679688 14.636719 3.042969 15.027344 L 3.15625 15.152344 L 3.519531 15.152344 C 4.238281 15.152344 4.828125 14.886719 8.1875 13.039062 C 9.386719 12.378906 10.371094 11.839844 10.378906 11.839844 C 10.386719 11.839844 10.355469 11.929688 10.304688 12.035156 C 9.832031 13.09375 9.257812 14.820312 8.96875 16.078125 C 7.914062 20.652344 8.617188 24.53125 11.070312 27.660156 C 11.351562 28.015625 11.363281 27.914062 10.972656 28.382812 C 8.925781 30.84375 7.945312 33.28125 8.238281 35.1875 C 8.289062 35.527344 8.28125 35.523438 8.917969 35.523438 C 10.941406 35.523438 13.074219 34.207031 15.136719 31.6875 C 15.359375 31.417969 15.328125 31.425781 15.5625 31.574219 C 16.292969 32.042969 18.023438 32.964844 18.175781 32.964844 C 18.335938 32.964844 19.941406 32.210938 20.828125 31.71875 C 20.996094 31.625 21.136719 31.554688 21.136719 31.558594 C 21.203125 31.664062 21.898438 32.414062 22.222656 32.730469 C 23.835938 34.300781 25.5625 35.132812 27.582031 35.300781 C 27.90625 35.328125 27.9375 35.308594 28.007812 34.984375 C 28.382812 33.242188 27.625 30.925781 25.863281 28.425781 L 25.542969 27.96875 L 25.699219 27.785156 C 28.945312 23.960938 29.132812 18.699219 26.257812 11.96875 L 26.207031 11.84375 L 27.945312 12.703125 C 31.53125 14.476562 32.316406 14.800781 33.03125 14.800781 C 33.976562 14.800781 33.78125 13.9375 32.472656 12.292969 C 28.519531 7.355469 25.394531 5.925781 21.921875 7.472656 L 21.558594 7.636719 L 21.578125 7.542969 C 21.699219 6.992188 21.761719 5.742188 21.699219 5.164062 C 21.496094 3.296875 20.664062 1.964844 19.003906 0.855469 C 18.480469 0.503906 18.457031 0.5 18.214844 0.632812\"/>\n",
              "</g>\n",
              "      </svg>\n",
              "    "
            ],
            "text/plain": [
              "<IPython.core.display.HTML object>"
            ]
          },
          "metadata": {},
          "output_type": "display_data"
        }
      ],
      "source": [
        "# @title Solution 4 bis\n",
        "import math\n",
        "\n",
        "turtle.initializeTurtle()\n",
        "\n",
        "def circle(r):\n",
        "\n",
        "    circumference = 2 * math.pi * r\n",
        "    n = int(circumference / 3) + 1\n",
        "    length = circumference / n\n",
        "    polygon(n, length)\n",
        "\n",
        "radius = 75\n",
        "circle(radius)"
      ]
    },
    {
      "cell_type": "markdown",
      "metadata": {
        "id": "RYDQZ406Jb8K"
      },
      "source": [
        "<p>The number of segments is an integer near <code>circumference/3</code>.\n",
        "Thus, the <code>length</code> of each segment is approximately 3 pixels.</p>\n",
        "<p>... small enough that the circles look good, but big enough to be efficient!</p>\n"
      ]
    },
    {
      "cell_type": "markdown",
      "metadata": {
        "id": "0nmJaFvpJp-c"
      },
      "source": [
        "## Refactoring"
      ]
    },
    {
      "cell_type": "markdown",
      "metadata": {
        "id": "SS0qc0t9J8A2"
      },
      "source": [
        "<p>Writing <code>circle</code> we were able to reuse <code>polygon</code>, being suitable to approximate of a circle ... but <code>arc</code> is not as cooperative!</p>"
      ]
    },
    {
      "cell_type": "markdown",
      "metadata": {
        "id": "cdEWw-HKKLb9"
      },
      "source": [
        "<p>Let's start with a <strong>copy</strong> of <code>polygon</code> to transform it into <code>arc</code>.</p>\n"
      ]
    },
    {
      "cell_type": "code",
      "execution_count": null,
      "metadata": {
        "cellView": "form",
        "colab": {
          "base_uri": "https://localhost:8080/",
          "height": 521
        },
        "id": "DSWvjIQZJsQG",
        "outputId": "ed50a163-685a-437f-ace3-f484669199cc"
      },
      "outputs": [
        {
          "data": {
            "text/html": [
              "\n",
              "      <svg width=\"800\" height=\"500\">\n",
              "        <rect width=\"100%\" height=\"100%\" fill=\"black\"/>\n",
              "        <line x1=\"400\" y1=\"250\" x2=\"400.0\" y2=\"247.008\" stroke-linecap=\"round\" style=\"stroke:white;stroke-width:4\"/><line x1=\"400.0\" y1=\"247.008\" x2=\"399.94\" y2=\"244.017\" stroke-linecap=\"round\" style=\"stroke:white;stroke-width:4\"/><line x1=\"399.94\" y1=\"244.017\" x2=\"399.821\" y2=\"241.027\" stroke-linecap=\"round\" style=\"stroke:white;stroke-width:4\"/><line x1=\"399.821\" y1=\"241.027\" x2=\"399.642\" y2=\"238.04\" stroke-linecap=\"round\" style=\"stroke:white;stroke-width:4\"/><line x1=\"399.642\" y1=\"238.04\" x2=\"399.404\" y2=\"235.058\" stroke-linecap=\"round\" style=\"stroke:white;stroke-width:4\"/><line x1=\"399.404\" y1=\"235.058\" x2=\"399.106\" y2=\"232.081\" stroke-linecap=\"round\" style=\"stroke:white;stroke-width:4\"/><line x1=\"399.106\" y1=\"232.081\" x2=\"398.749\" y2=\"229.11\" stroke-linecap=\"round\" style=\"stroke:white;stroke-width:4\"/><line x1=\"398.749\" y1=\"229.11\" x2=\"398.333\" y2=\"226.147\" stroke-linecap=\"round\" style=\"stroke:white;stroke-width:4\"/><line x1=\"398.333\" y1=\"226.147\" x2=\"397.858\" y2=\"223.193\" stroke-linecap=\"round\" style=\"stroke:white;stroke-width:4\"/><line x1=\"397.858\" y1=\"223.193\" x2=\"397.324\" y2=\"220.249\" stroke-linecap=\"round\" style=\"stroke:white;stroke-width:4\"/><line x1=\"397.324\" y1=\"220.249\" x2=\"396.731\" y2=\"217.316\" stroke-linecap=\"round\" style=\"stroke:white;stroke-width:4\"/><line x1=\"396.731\" y1=\"217.316\" x2=\"396.08\" y2=\"214.396\" stroke-linecap=\"round\" style=\"stroke:white;stroke-width:4\"/><line x1=\"396.08\" y1=\"214.396\" x2=\"395.371\" y2=\"211.489\" stroke-linecap=\"round\" style=\"stroke:white;stroke-width:4\"/><line x1=\"395.371\" y1=\"211.489\" x2=\"394.604\" y2=\"208.597\" stroke-linecap=\"round\" style=\"stroke:white;stroke-width:4\"/><line x1=\"394.604\" y1=\"208.597\" x2=\"393.779\" y2=\"205.721\" stroke-linecap=\"round\" style=\"stroke:white;stroke-width:4\"/><line x1=\"393.779\" y1=\"205.721\" x2=\"392.897\" y2=\"202.862\" stroke-linecap=\"round\" style=\"stroke:white;stroke-width:4\"/><line x1=\"392.897\" y1=\"202.862\" x2=\"391.958\" y2=\"200.021\" stroke-linecap=\"round\" style=\"stroke:white;stroke-width:4\"/><line x1=\"391.958\" y1=\"200.021\" x2=\"390.963\" y2=\"197.199\" stroke-linecap=\"round\" style=\"stroke:white;stroke-width:4\"/><line x1=\"390.963\" y1=\"197.199\" x2=\"389.912\" y2=\"194.398\" stroke-linecap=\"round\" style=\"stroke:white;stroke-width:4\"/><line x1=\"389.912\" y1=\"194.398\" x2=\"388.805\" y2=\"191.618\" stroke-linecap=\"round\" style=\"stroke:white;stroke-width:4\"/><line x1=\"388.805\" y1=\"191.618\" x2=\"387.643\" y2=\"188.861\" stroke-linecap=\"round\" style=\"stroke:white;stroke-width:4\"/><line x1=\"387.643\" y1=\"188.861\" x2=\"386.426\" y2=\"186.128\" stroke-linecap=\"round\" style=\"stroke:white;stroke-width:4\"/><line x1=\"386.426\" y1=\"186.128\" x2=\"385.155\" y2=\"183.419\" stroke-linecap=\"round\" style=\"stroke:white;stroke-width:4\"/><line x1=\"385.155\" y1=\"183.419\" x2=\"383.83\" y2=\"180.736\" stroke-linecap=\"round\" style=\"stroke:white;stroke-width:4\"/><line x1=\"383.83\" y1=\"180.736\" x2=\"382.452\" y2=\"178.08\" stroke-linecap=\"round\" style=\"stroke:white;stroke-width:4\"/><line x1=\"382.452\" y1=\"178.08\" x2=\"381.021\" y2=\"175.452\" stroke-linecap=\"round\" style=\"stroke:white;stroke-width:4\"/><line x1=\"381.021\" y1=\"175.452\" x2=\"379.538\" y2=\"172.853\" stroke-linecap=\"round\" style=\"stroke:white;stroke-width:4\"/><line x1=\"379.538\" y1=\"172.853\" x2=\"378.003\" y2=\"170.285\" stroke-linecap=\"round\" style=\"stroke:white;stroke-width:4\"/><line x1=\"378.003\" y1=\"170.285\" x2=\"376.417\" y2=\"167.748\" stroke-linecap=\"round\" style=\"stroke:white;stroke-width:4\"/><line x1=\"376.417\" y1=\"167.748\" x2=\"374.781\" y2=\"165.243\" stroke-linecap=\"round\" style=\"stroke:white;stroke-width:4\"/><line x1=\"374.781\" y1=\"165.243\" x2=\"373.096\" y2=\"162.771\" stroke-linecap=\"round\" style=\"stroke:white;stroke-width:4\"/><line x1=\"373.096\" y1=\"162.771\" x2=\"371.362\" y2=\"160.333\" stroke-linecap=\"round\" style=\"stroke:white;stroke-width:4\"/><line x1=\"371.362\" y1=\"160.333\" x2=\"369.579\" y2=\"157.93\" stroke-linecap=\"round\" style=\"stroke:white;stroke-width:4\"/><line x1=\"369.579\" y1=\"157.93\" x2=\"367.749\" y2=\"155.563\" stroke-linecap=\"round\" style=\"stroke:white;stroke-width:4\"/><line x1=\"367.749\" y1=\"155.563\" x2=\"365.872\" y2=\"153.233\" stroke-linecap=\"round\" style=\"stroke:white;stroke-width:4\"/><line x1=\"365.872\" y1=\"153.233\" x2=\"363.949\" y2=\"150.941\" stroke-linecap=\"round\" style=\"stroke:white;stroke-width:4\"/><line x1=\"363.949\" y1=\"150.941\" x2=\"361.98\" y2=\"148.688\" stroke-linecap=\"round\" style=\"stroke:white;stroke-width:4\"/><line x1=\"361.98\" y1=\"148.688\" x2=\"359.967\" y2=\"146.475\" stroke-linecap=\"round\" style=\"stroke:white;stroke-width:4\"/><line x1=\"359.967\" y1=\"146.475\" x2=\"357.91\" y2=\"144.302\" stroke-linecap=\"round\" style=\"stroke:white;stroke-width:4\"/><line x1=\"357.91\" y1=\"144.302\" x2=\"355.81\" y2=\"142.171\" stroke-linecap=\"round\" style=\"stroke:white;stroke-width:4\"/><line x1=\"355.81\" y1=\"142.171\" x2=\"353.668\" y2=\"140.082\" stroke-linecap=\"round\" style=\"stroke:white;stroke-width:4\"/><line x1=\"353.668\" y1=\"140.082\" x2=\"351.485\" y2=\"138.036\" stroke-linecap=\"round\" style=\"stroke:white;stroke-width:4\"/><line x1=\"351.485\" y1=\"138.036\" x2=\"349.262\" y2=\"136.034\" stroke-linecap=\"round\" style=\"stroke:white;stroke-width:4\"/><line x1=\"349.262\" y1=\"136.034\" x2=\"346.999\" y2=\"134.077\" stroke-linecap=\"round\" style=\"stroke:white;stroke-width:4\"/><line x1=\"346.999\" y1=\"134.077\" x2=\"344.697\" y2=\"132.165\" stroke-linecap=\"round\" style=\"stroke:white;stroke-width:4\"/><line x1=\"344.697\" y1=\"132.165\" x2=\"342.358\" y2=\"130.3\" stroke-linecap=\"round\" style=\"stroke:white;stroke-width:4\"/><line x1=\"342.358\" y1=\"130.3\" x2=\"339.982\" y2=\"128.482\" stroke-linecap=\"round\" style=\"stroke:white;stroke-width:4\"/><line x1=\"339.982\" y1=\"128.482\" x2=\"337.57\" y2=\"126.711\" stroke-linecap=\"round\" style=\"stroke:white;stroke-width:4\"/><line x1=\"337.57\" y1=\"126.711\" x2=\"335.123\" y2=\"124.989\" stroke-linecap=\"round\" style=\"stroke:white;stroke-width:4\"/><line x1=\"335.123\" y1=\"124.989\" x2=\"332.643\" y2=\"123.316\" stroke-linecap=\"round\" style=\"stroke:white;stroke-width:4\"/><line x1=\"332.643\" y1=\"123.316\" x2=\"330.13\" y2=\"121.693\" stroke-linecap=\"round\" style=\"stroke:white;stroke-width:4\"/><line x1=\"330.13\" y1=\"121.693\" x2=\"327.585\" y2=\"120.12\" stroke-linecap=\"round\" style=\"stroke:white;stroke-width:4\"/><line x1=\"327.585\" y1=\"120.12\" x2=\"325.009\" y2=\"118.598\" stroke-linecap=\"round\" style=\"stroke:white;stroke-width:4\"/><line x1=\"325.009\" y1=\"118.598\" x2=\"322.403\" y2=\"117.128\" stroke-linecap=\"round\" style=\"stroke:white;stroke-width:4\"/><line x1=\"322.403\" y1=\"117.128\" x2=\"319.768\" y2=\"115.71\" stroke-linecap=\"round\" style=\"stroke:white;stroke-width:4\"/><line x1=\"319.768\" y1=\"115.71\" x2=\"317.106\" y2=\"114.345\" stroke-linecap=\"round\" style=\"stroke:white;stroke-width:4\"/><line x1=\"317.106\" y1=\"114.345\" x2=\"314.417\" y2=\"113.033\" stroke-linecap=\"round\" style=\"stroke:white;stroke-width:4\"/><line x1=\"314.417\" y1=\"113.033\" x2=\"311.702\" y2=\"111.775\" stroke-linecap=\"round\" style=\"stroke:white;stroke-width:4\"/><line x1=\"311.702\" y1=\"111.775\" x2=\"308.963\" y2=\"110.572\" stroke-linecap=\"round\" style=\"stroke:white;stroke-width:4\"/><line x1=\"308.963\" y1=\"110.572\" x2=\"306.2\" y2=\"109.424\" stroke-linecap=\"round\" style=\"stroke:white;stroke-width:4\"/><line x1=\"306.2\" y1=\"109.424\" x2=\"303.415\" y2=\"108.331\" stroke-linecap=\"round\" style=\"stroke:white;stroke-width:4\"/><line x1=\"303.415\" y1=\"108.331\" x2=\"300.609\" y2=\"107.294\" stroke-linecap=\"round\" style=\"stroke:white;stroke-width:4\"/><line x1=\"300.609\" y1=\"107.294\" x2=\"297.782\" y2=\"106.313\" stroke-linecap=\"round\" style=\"stroke:white;stroke-width:4\"/><line x1=\"297.782\" y1=\"106.313\" x2=\"294.936\" y2=\"105.388\" stroke-linecap=\"round\" style=\"stroke:white;stroke-width:4\"/><line x1=\"294.936\" y1=\"105.388\" x2=\"292.073\" y2=\"104.52\" stroke-linecap=\"round\" style=\"stroke:white;stroke-width:4\"/><line x1=\"292.073\" y1=\"104.52\" x2=\"289.193\" y2=\"103.71\" stroke-linecap=\"round\" style=\"stroke:white;stroke-width:4\"/><line x1=\"289.193\" y1=\"103.71\" x2=\"286.297\" y2=\"102.957\" stroke-linecap=\"round\" style=\"stroke:white;stroke-width:4\"/><line x1=\"286.297\" y1=\"102.957\" x2=\"283.387\" y2=\"102.262\" stroke-linecap=\"round\" style=\"stroke:white;stroke-width:4\"/><line x1=\"283.387\" y1=\"102.262\" x2=\"280.464\" y2=\"101.625\" stroke-linecap=\"round\" style=\"stroke:white;stroke-width:4\"/><line x1=\"280.464\" y1=\"101.625\" x2=\"277.528\" y2=\"101.047\" stroke-linecap=\"round\" style=\"stroke:white;stroke-width:4\"/><line x1=\"277.528\" y1=\"101.047\" x2=\"274.581\" y2=\"100.527\" stroke-linecap=\"round\" style=\"stroke:white;stroke-width:4\"/><line x1=\"274.581\" y1=\"100.527\" x2=\"271.625\" y2=\"100.066\" stroke-linecap=\"round\" style=\"stroke:white;stroke-width:4\"/><line x1=\"271.625\" y1=\"100.066\" x2=\"268.66\" y2=\"99.664\" stroke-linecap=\"round\" style=\"stroke:white;stroke-width:4\"/><line x1=\"268.66\" y1=\"99.664\" x2=\"265.688\" y2=\"99.322\" stroke-linecap=\"round\" style=\"stroke:white;stroke-width:4\"/><line x1=\"265.688\" y1=\"99.322\" x2=\"262.709\" y2=\"99.039\" stroke-linecap=\"round\" style=\"stroke:white;stroke-width:4\"/><line x1=\"262.709\" y1=\"99.039\" x2=\"259.725\" y2=\"98.815\" stroke-linecap=\"round\" style=\"stroke:white;stroke-width:4\"/><line x1=\"259.725\" y1=\"98.815\" x2=\"256.738\" y2=\"98.651\" stroke-linecap=\"round\" style=\"stroke:white;stroke-width:4\"/><line x1=\"256.738\" y1=\"98.651\" x2=\"253.748\" y2=\"98.547\" stroke-linecap=\"round\" style=\"stroke:white;stroke-width:4\"/><line x1=\"253.748\" y1=\"98.547\" x2=\"250.756\" y2=\"98.502\" stroke-linecap=\"round\" style=\"stroke:white;stroke-width:4\"/><line x1=\"250.756\" y1=\"98.502\" x2=\"247.764\" y2=\"98.517\" stroke-linecap=\"round\" style=\"stroke:white;stroke-width:4\"/><line x1=\"247.764\" y1=\"98.517\" x2=\"244.773\" y2=\"98.592\" stroke-linecap=\"round\" style=\"stroke:white;stroke-width:4\"/><line x1=\"244.773\" y1=\"98.592\" x2=\"241.784\" y2=\"98.726\" stroke-linecap=\"round\" style=\"stroke:white;stroke-width:4\"/><line x1=\"241.784\" y1=\"98.726\" x2=\"238.798\" y2=\"98.92\" stroke-linecap=\"round\" style=\"stroke:white;stroke-width:4\"/><line x1=\"238.798\" y1=\"98.92\" x2=\"235.817\" y2=\"99.173\" stroke-linecap=\"round\" style=\"stroke:white;stroke-width:4\"/><line x1=\"235.817\" y1=\"99.173\" x2=\"232.841\" y2=\"99.486\" stroke-linecap=\"round\" style=\"stroke:white;stroke-width:4\"/><line x1=\"232.841\" y1=\"99.486\" x2=\"229.872\" y2=\"99.858\" stroke-linecap=\"round\" style=\"stroke:white;stroke-width:4\"/><line x1=\"229.872\" y1=\"99.858\" x2=\"226.911\" y2=\"100.289\" stroke-linecap=\"round\" style=\"stroke:white;stroke-width:4\"/><line x1=\"226.911\" y1=\"100.289\" x2=\"223.959\" y2=\"100.779\" stroke-linecap=\"round\" style=\"stroke:white;stroke-width:4\"/><line x1=\"223.959\" y1=\"100.779\" x2=\"221.018\" y2=\"101.328\" stroke-linecap=\"round\" style=\"stroke:white;stroke-width:4\"/><line x1=\"221.018\" y1=\"101.328\" x2=\"218.088\" y2=\"101.935\" stroke-linecap=\"round\" style=\"stroke:white;stroke-width:4\"/><line x1=\"218.088\" y1=\"101.935\" x2=\"215.171\" y2=\"102.601\" stroke-linecap=\"round\" style=\"stroke:white;stroke-width:4\"/><line x1=\"215.171\" y1=\"102.601\" x2=\"212.268\" y2=\"103.325\" stroke-linecap=\"round\" style=\"stroke:white;stroke-width:4\"/><line x1=\"212.268\" y1=\"103.325\" x2=\"209.38\" y2=\"104.107\" stroke-linecap=\"round\" style=\"stroke:white;stroke-width:4\"/><line x1=\"209.38\" y1=\"104.107\" x2=\"206.508\" y2=\"104.946\" stroke-linecap=\"round\" style=\"stroke:white;stroke-width:4\"/><line x1=\"206.508\" y1=\"104.946\" x2=\"203.653\" y2=\"105.842\" stroke-linecap=\"round\" style=\"stroke:white;stroke-width:4\"/><line x1=\"203.653\" y1=\"105.842\" x2=\"200.817\" y2=\"106.795\" stroke-linecap=\"round\" style=\"stroke:white;stroke-width:4\"/><line x1=\"200.817\" y1=\"106.795\" x2=\"198.0\" y2=\"107.804\" stroke-linecap=\"round\" style=\"stroke:white;stroke-width:4\"/><line x1=\"198.0\" y1=\"107.804\" x2=\"195.204\" y2=\"108.869\" stroke-linecap=\"round\" style=\"stroke:white;stroke-width:4\"/><line x1=\"195.204\" y1=\"108.869\" x2=\"192.43\" y2=\"109.99\" stroke-linecap=\"round\" style=\"stroke:white;stroke-width:4\"/><line x1=\"192.43\" y1=\"109.99\" x2=\"189.679\" y2=\"111.166\" stroke-linecap=\"round\" style=\"stroke:white;stroke-width:4\"/><line x1=\"189.679\" y1=\"111.166\" x2=\"186.952\" y2=\"112.397\" stroke-linecap=\"round\" style=\"stroke:white;stroke-width:4\"/><line x1=\"186.952\" y1=\"112.397\" x2=\"184.25\" y2=\"113.682\" stroke-linecap=\"round\" style=\"stroke:white;stroke-width:4\"/><line x1=\"184.25\" y1=\"113.682\" x2=\"181.574\" y2=\"115.02\" stroke-linecap=\"round\" style=\"stroke:white;stroke-width:4\"/><line x1=\"181.574\" y1=\"115.02\" x2=\"178.925\" y2=\"116.411\" stroke-linecap=\"round\" style=\"stroke:white;stroke-width:4\"/><line x1=\"178.925\" y1=\"116.411\" x2=\"176.305\" y2=\"117.855\" stroke-linecap=\"round\" style=\"stroke:white;stroke-width:4\"/>\n",
              "        <g visibility=visible transform=\"rotate(240.00000000000009,176.305,117.855) translate(158.305, 99.855)\">\n",
              "<path style=\" stroke:none;fill-rule:evenodd;fill:white;fill-opacity:1;\" d=\"M 18.214844 0.632812 C 16.109375 1.800781 15.011719 4.074219 15.074219 7.132812 L 15.085938 7.652344 L 14.785156 7.496094 C 13.476562 6.824219 11.957031 6.671875 10.40625 7.066406 C 8.46875 7.550781 6.515625 9.15625 4.394531 11.992188 C 3.0625 13.777344 2.679688 14.636719 3.042969 15.027344 L 3.15625 15.152344 L 3.519531 15.152344 C 4.238281 15.152344 4.828125 14.886719 8.1875 13.039062 C 9.386719 12.378906 10.371094 11.839844 10.378906 11.839844 C 10.386719 11.839844 10.355469 11.929688 10.304688 12.035156 C 9.832031 13.09375 9.257812 14.820312 8.96875 16.078125 C 7.914062 20.652344 8.617188 24.53125 11.070312 27.660156 C 11.351562 28.015625 11.363281 27.914062 10.972656 28.382812 C 8.925781 30.84375 7.945312 33.28125 8.238281 35.1875 C 8.289062 35.527344 8.28125 35.523438 8.917969 35.523438 C 10.941406 35.523438 13.074219 34.207031 15.136719 31.6875 C 15.359375 31.417969 15.328125 31.425781 15.5625 31.574219 C 16.292969 32.042969 18.023438 32.964844 18.175781 32.964844 C 18.335938 32.964844 19.941406 32.210938 20.828125 31.71875 C 20.996094 31.625 21.136719 31.554688 21.136719 31.558594 C 21.203125 31.664062 21.898438 32.414062 22.222656 32.730469 C 23.835938 34.300781 25.5625 35.132812 27.582031 35.300781 C 27.90625 35.328125 27.9375 35.308594 28.007812 34.984375 C 28.382812 33.242188 27.625 30.925781 25.863281 28.425781 L 25.542969 27.96875 L 25.699219 27.785156 C 28.945312 23.960938 29.132812 18.699219 26.257812 11.96875 L 26.207031 11.84375 L 27.945312 12.703125 C 31.53125 14.476562 32.316406 14.800781 33.03125 14.800781 C 33.976562 14.800781 33.78125 13.9375 32.472656 12.292969 C 28.519531 7.355469 25.394531 5.925781 21.921875 7.472656 L 21.558594 7.636719 L 21.578125 7.542969 C 21.699219 6.992188 21.761719 5.742188 21.699219 5.164062 C 21.496094 3.296875 20.664062 1.964844 19.003906 0.855469 C 18.480469 0.503906 18.457031 0.5 18.214844 0.632812\"/>\n",
              "</g>\n",
              "      </svg>\n",
              "    "
            ],
            "text/plain": [
              "<IPython.core.display.HTML object>"
            ]
          },
          "metadata": {},
          "output_type": "display_data"
        }
      ],
      "source": [
        "# @title Solution 5 beta\n",
        "def arc(r, angle):\n",
        "    arc_length = 2 * math.pi * r * angle / 360\n",
        "    n = int(arc_length / 3) + 1\n",
        "    step_length = arc_length / n\n",
        "    step_angle = angle / n\n",
        "\n",
        "    for _ in range(n):\n",
        "        turtle.fd(step_length)\n",
        "        turtle.lt(step_angle)\n",
        "\n",
        "turtle.initializeTurtle()\n",
        "\n",
        "radius = 150\n",
        "sector = 120\n",
        "arc(radius, sector)"
      ]
    },
    {
      "cell_type": "markdown",
      "metadata": {
        "id": "Ab1_9NN3K3hL"
      },
      "source": [
        "<p>The second half looks like <code>polygon</code></p>\n",
        "<p> ... but we can’t <strong>reuse</strong> polygon without <strong>changing</strong> (aka <strong>refactoring</strong>) the interface!</p>\n"
      ]
    },
    {
      "cell_type": "markdown",
      "metadata": {
        "id": "ePRqeQayMScj"
      },
      "source": [
        "<p>We can <strong>generalize</strong> polygon to take an <code>angle</code> as a third <strong>argument</strong>, but then <code>polygon</code> would no longer be an appropriate name!</p>\n",
        "<p>Instead, let’s call the more general function <code>polyline</code>:</p>\n"
      ]
    },
    {
      "cell_type": "code",
      "execution_count": null,
      "metadata": {
        "cellView": "form",
        "id": "YIaQsoaKK7AI"
      },
      "outputs": [],
      "source": [
        "# @title Solution 5\n",
        "def polyline(n, length, angle):\n",
        "    for _ in range(n):\n",
        "        turtle.fd(length)\n",
        "        turtle.lt(angle)"
      ]
    },
    {
      "cell_type": "markdown",
      "metadata": {
        "id": "CmKKusJ_MfEM"
      },
      "source": [
        "<p>Now we can <strong>rewrite</strong> (aka <strong>refactor</strong>) <code>polygon</code> and <code>arc</code> using <code>polyline</code>:</p>"
      ]
    },
    {
      "cell_type": "code",
      "execution_count": null,
      "metadata": {
        "colab": {
          "base_uri": "https://localhost:8080/",
          "height": 521
        },
        "id": "0dmmsnhNMf0F",
        "outputId": "b632472c-e706-43df-fa6d-e10c45d4cd1d"
      },
      "outputs": [
        {
          "data": {
            "text/html": [
              "\n",
              "      <svg width=\"800\" height=\"500\">\n",
              "        <rect width=\"100%\" height=\"100%\" fill=\"black\"/>\n",
              "        <line x1=\"400\" y1=\"250\" x2=\"400.0\" y2=\"247.008\" stroke-linecap=\"round\" style=\"stroke:white;stroke-width:4\"/><line x1=\"400.0\" y1=\"247.008\" x2=\"399.94\" y2=\"244.017\" stroke-linecap=\"round\" style=\"stroke:white;stroke-width:4\"/><line x1=\"399.94\" y1=\"244.017\" x2=\"399.821\" y2=\"241.027\" stroke-linecap=\"round\" style=\"stroke:white;stroke-width:4\"/><line x1=\"399.821\" y1=\"241.027\" x2=\"399.642\" y2=\"238.04\" stroke-linecap=\"round\" style=\"stroke:white;stroke-width:4\"/><line x1=\"399.642\" y1=\"238.04\" x2=\"399.404\" y2=\"235.058\" stroke-linecap=\"round\" style=\"stroke:white;stroke-width:4\"/><line x1=\"399.404\" y1=\"235.058\" x2=\"399.106\" y2=\"232.081\" stroke-linecap=\"round\" style=\"stroke:white;stroke-width:4\"/><line x1=\"399.106\" y1=\"232.081\" x2=\"398.749\" y2=\"229.11\" stroke-linecap=\"round\" style=\"stroke:white;stroke-width:4\"/><line x1=\"398.749\" y1=\"229.11\" x2=\"398.333\" y2=\"226.147\" stroke-linecap=\"round\" style=\"stroke:white;stroke-width:4\"/><line x1=\"398.333\" y1=\"226.147\" x2=\"397.858\" y2=\"223.193\" stroke-linecap=\"round\" style=\"stroke:white;stroke-width:4\"/><line x1=\"397.858\" y1=\"223.193\" x2=\"397.324\" y2=\"220.249\" stroke-linecap=\"round\" style=\"stroke:white;stroke-width:4\"/><line x1=\"397.324\" y1=\"220.249\" x2=\"396.731\" y2=\"217.316\" stroke-linecap=\"round\" style=\"stroke:white;stroke-width:4\"/><line x1=\"396.731\" y1=\"217.316\" x2=\"396.08\" y2=\"214.396\" stroke-linecap=\"round\" style=\"stroke:white;stroke-width:4\"/><line x1=\"396.08\" y1=\"214.396\" x2=\"395.371\" y2=\"211.489\" stroke-linecap=\"round\" style=\"stroke:white;stroke-width:4\"/><line x1=\"395.371\" y1=\"211.489\" x2=\"394.604\" y2=\"208.597\" stroke-linecap=\"round\" style=\"stroke:white;stroke-width:4\"/><line x1=\"394.604\" y1=\"208.597\" x2=\"393.779\" y2=\"205.721\" stroke-linecap=\"round\" style=\"stroke:white;stroke-width:4\"/><line x1=\"393.779\" y1=\"205.721\" x2=\"392.897\" y2=\"202.862\" stroke-linecap=\"round\" style=\"stroke:white;stroke-width:4\"/><line x1=\"392.897\" y1=\"202.862\" x2=\"391.958\" y2=\"200.021\" stroke-linecap=\"round\" style=\"stroke:white;stroke-width:4\"/><line x1=\"391.958\" y1=\"200.021\" x2=\"390.963\" y2=\"197.199\" stroke-linecap=\"round\" style=\"stroke:white;stroke-width:4\"/><line x1=\"390.963\" y1=\"197.199\" x2=\"389.912\" y2=\"194.398\" stroke-linecap=\"round\" style=\"stroke:white;stroke-width:4\"/><line x1=\"389.912\" y1=\"194.398\" x2=\"388.805\" y2=\"191.618\" stroke-linecap=\"round\" style=\"stroke:white;stroke-width:4\"/><line x1=\"388.805\" y1=\"191.618\" x2=\"387.643\" y2=\"188.861\" stroke-linecap=\"round\" style=\"stroke:white;stroke-width:4\"/><line x1=\"387.643\" y1=\"188.861\" x2=\"386.426\" y2=\"186.128\" stroke-linecap=\"round\" style=\"stroke:white;stroke-width:4\"/><line x1=\"386.426\" y1=\"186.128\" x2=\"385.155\" y2=\"183.419\" stroke-linecap=\"round\" style=\"stroke:white;stroke-width:4\"/><line x1=\"385.155\" y1=\"183.419\" x2=\"383.83\" y2=\"180.736\" stroke-linecap=\"round\" style=\"stroke:white;stroke-width:4\"/><line x1=\"383.83\" y1=\"180.736\" x2=\"382.452\" y2=\"178.08\" stroke-linecap=\"round\" style=\"stroke:white;stroke-width:4\"/><line x1=\"382.452\" y1=\"178.08\" x2=\"381.021\" y2=\"175.452\" stroke-linecap=\"round\" style=\"stroke:white;stroke-width:4\"/><line x1=\"381.021\" y1=\"175.452\" x2=\"379.538\" y2=\"172.853\" stroke-linecap=\"round\" style=\"stroke:white;stroke-width:4\"/><line x1=\"379.538\" y1=\"172.853\" x2=\"378.003\" y2=\"170.285\" stroke-linecap=\"round\" style=\"stroke:white;stroke-width:4\"/><line x1=\"378.003\" y1=\"170.285\" x2=\"376.417\" y2=\"167.748\" stroke-linecap=\"round\" style=\"stroke:white;stroke-width:4\"/><line x1=\"376.417\" y1=\"167.748\" x2=\"374.781\" y2=\"165.243\" stroke-linecap=\"round\" style=\"stroke:white;stroke-width:4\"/><line x1=\"374.781\" y1=\"165.243\" x2=\"373.096\" y2=\"162.771\" stroke-linecap=\"round\" style=\"stroke:white;stroke-width:4\"/><line x1=\"373.096\" y1=\"162.771\" x2=\"371.362\" y2=\"160.333\" stroke-linecap=\"round\" style=\"stroke:white;stroke-width:4\"/><line x1=\"371.362\" y1=\"160.333\" x2=\"369.579\" y2=\"157.93\" stroke-linecap=\"round\" style=\"stroke:white;stroke-width:4\"/><line x1=\"369.579\" y1=\"157.93\" x2=\"367.749\" y2=\"155.563\" stroke-linecap=\"round\" style=\"stroke:white;stroke-width:4\"/><line x1=\"367.749\" y1=\"155.563\" x2=\"365.872\" y2=\"153.233\" stroke-linecap=\"round\" style=\"stroke:white;stroke-width:4\"/><line x1=\"365.872\" y1=\"153.233\" x2=\"363.949\" y2=\"150.941\" stroke-linecap=\"round\" style=\"stroke:white;stroke-width:4\"/><line x1=\"363.949\" y1=\"150.941\" x2=\"361.98\" y2=\"148.688\" stroke-linecap=\"round\" style=\"stroke:white;stroke-width:4\"/><line x1=\"361.98\" y1=\"148.688\" x2=\"359.967\" y2=\"146.475\" stroke-linecap=\"round\" style=\"stroke:white;stroke-width:4\"/><line x1=\"359.967\" y1=\"146.475\" x2=\"357.91\" y2=\"144.302\" stroke-linecap=\"round\" style=\"stroke:white;stroke-width:4\"/><line x1=\"357.91\" y1=\"144.302\" x2=\"355.81\" y2=\"142.171\" stroke-linecap=\"round\" style=\"stroke:white;stroke-width:4\"/><line x1=\"355.81\" y1=\"142.171\" x2=\"353.668\" y2=\"140.082\" stroke-linecap=\"round\" style=\"stroke:white;stroke-width:4\"/><line x1=\"353.668\" y1=\"140.082\" x2=\"351.485\" y2=\"138.036\" stroke-linecap=\"round\" style=\"stroke:white;stroke-width:4\"/><line x1=\"351.485\" y1=\"138.036\" x2=\"349.262\" y2=\"136.034\" stroke-linecap=\"round\" style=\"stroke:white;stroke-width:4\"/><line x1=\"349.262\" y1=\"136.034\" x2=\"346.999\" y2=\"134.077\" stroke-linecap=\"round\" style=\"stroke:white;stroke-width:4\"/><line x1=\"346.999\" y1=\"134.077\" x2=\"344.697\" y2=\"132.165\" stroke-linecap=\"round\" style=\"stroke:white;stroke-width:4\"/><line x1=\"344.697\" y1=\"132.165\" x2=\"342.358\" y2=\"130.3\" stroke-linecap=\"round\" style=\"stroke:white;stroke-width:4\"/><line x1=\"342.358\" y1=\"130.3\" x2=\"339.982\" y2=\"128.482\" stroke-linecap=\"round\" style=\"stroke:white;stroke-width:4\"/><line x1=\"339.982\" y1=\"128.482\" x2=\"337.57\" y2=\"126.711\" stroke-linecap=\"round\" style=\"stroke:white;stroke-width:4\"/><line x1=\"337.57\" y1=\"126.711\" x2=\"335.123\" y2=\"124.989\" stroke-linecap=\"round\" style=\"stroke:white;stroke-width:4\"/><line x1=\"335.123\" y1=\"124.989\" x2=\"332.643\" y2=\"123.316\" stroke-linecap=\"round\" style=\"stroke:white;stroke-width:4\"/><line x1=\"332.643\" y1=\"123.316\" x2=\"330.13\" y2=\"121.693\" stroke-linecap=\"round\" style=\"stroke:white;stroke-width:4\"/><line x1=\"330.13\" y1=\"121.693\" x2=\"327.585\" y2=\"120.12\" stroke-linecap=\"round\" style=\"stroke:white;stroke-width:4\"/><line x1=\"327.585\" y1=\"120.12\" x2=\"325.009\" y2=\"118.598\" stroke-linecap=\"round\" style=\"stroke:white;stroke-width:4\"/><line x1=\"325.009\" y1=\"118.598\" x2=\"322.403\" y2=\"117.128\" stroke-linecap=\"round\" style=\"stroke:white;stroke-width:4\"/><line x1=\"322.403\" y1=\"117.128\" x2=\"319.768\" y2=\"115.71\" stroke-linecap=\"round\" style=\"stroke:white;stroke-width:4\"/><line x1=\"319.768\" y1=\"115.71\" x2=\"317.106\" y2=\"114.345\" stroke-linecap=\"round\" style=\"stroke:white;stroke-width:4\"/><line x1=\"317.106\" y1=\"114.345\" x2=\"314.417\" y2=\"113.033\" stroke-linecap=\"round\" style=\"stroke:white;stroke-width:4\"/><line x1=\"314.417\" y1=\"113.033\" x2=\"311.702\" y2=\"111.775\" stroke-linecap=\"round\" style=\"stroke:white;stroke-width:4\"/><line x1=\"311.702\" y1=\"111.775\" x2=\"308.963\" y2=\"110.572\" stroke-linecap=\"round\" style=\"stroke:white;stroke-width:4\"/><line x1=\"308.963\" y1=\"110.572\" x2=\"306.2\" y2=\"109.424\" stroke-linecap=\"round\" style=\"stroke:white;stroke-width:4\"/><line x1=\"306.2\" y1=\"109.424\" x2=\"303.415\" y2=\"108.331\" stroke-linecap=\"round\" style=\"stroke:white;stroke-width:4\"/><line x1=\"303.415\" y1=\"108.331\" x2=\"300.609\" y2=\"107.294\" stroke-linecap=\"round\" style=\"stroke:white;stroke-width:4\"/><line x1=\"300.609\" y1=\"107.294\" x2=\"297.782\" y2=\"106.313\" stroke-linecap=\"round\" style=\"stroke:white;stroke-width:4\"/><line x1=\"297.782\" y1=\"106.313\" x2=\"294.936\" y2=\"105.388\" stroke-linecap=\"round\" style=\"stroke:white;stroke-width:4\"/><line x1=\"294.936\" y1=\"105.388\" x2=\"292.073\" y2=\"104.52\" stroke-linecap=\"round\" style=\"stroke:white;stroke-width:4\"/><line x1=\"292.073\" y1=\"104.52\" x2=\"289.193\" y2=\"103.71\" stroke-linecap=\"round\" style=\"stroke:white;stroke-width:4\"/><line x1=\"289.193\" y1=\"103.71\" x2=\"286.297\" y2=\"102.957\" stroke-linecap=\"round\" style=\"stroke:white;stroke-width:4\"/><line x1=\"286.297\" y1=\"102.957\" x2=\"283.387\" y2=\"102.262\" stroke-linecap=\"round\" style=\"stroke:white;stroke-width:4\"/><line x1=\"283.387\" y1=\"102.262\" x2=\"280.464\" y2=\"101.625\" stroke-linecap=\"round\" style=\"stroke:white;stroke-width:4\"/><line x1=\"280.464\" y1=\"101.625\" x2=\"277.528\" y2=\"101.047\" stroke-linecap=\"round\" style=\"stroke:white;stroke-width:4\"/><line x1=\"277.528\" y1=\"101.047\" x2=\"274.581\" y2=\"100.527\" stroke-linecap=\"round\" style=\"stroke:white;stroke-width:4\"/><line x1=\"274.581\" y1=\"100.527\" x2=\"271.625\" y2=\"100.066\" stroke-linecap=\"round\" style=\"stroke:white;stroke-width:4\"/><line x1=\"271.625\" y1=\"100.066\" x2=\"268.66\" y2=\"99.664\" stroke-linecap=\"round\" style=\"stroke:white;stroke-width:4\"/><line x1=\"268.66\" y1=\"99.664\" x2=\"265.688\" y2=\"99.322\" stroke-linecap=\"round\" style=\"stroke:white;stroke-width:4\"/><line x1=\"265.688\" y1=\"99.322\" x2=\"262.709\" y2=\"99.039\" stroke-linecap=\"round\" style=\"stroke:white;stroke-width:4\"/><line x1=\"262.709\" y1=\"99.039\" x2=\"259.725\" y2=\"98.815\" stroke-linecap=\"round\" style=\"stroke:white;stroke-width:4\"/><line x1=\"259.725\" y1=\"98.815\" x2=\"256.738\" y2=\"98.651\" stroke-linecap=\"round\" style=\"stroke:white;stroke-width:4\"/><line x1=\"256.738\" y1=\"98.651\" x2=\"253.748\" y2=\"98.547\" stroke-linecap=\"round\" style=\"stroke:white;stroke-width:4\"/><line x1=\"253.748\" y1=\"98.547\" x2=\"250.756\" y2=\"98.502\" stroke-linecap=\"round\" style=\"stroke:white;stroke-width:4\"/><line x1=\"250.756\" y1=\"98.502\" x2=\"247.764\" y2=\"98.517\" stroke-linecap=\"round\" style=\"stroke:white;stroke-width:4\"/><line x1=\"247.764\" y1=\"98.517\" x2=\"244.773\" y2=\"98.592\" stroke-linecap=\"round\" style=\"stroke:white;stroke-width:4\"/><line x1=\"244.773\" y1=\"98.592\" x2=\"241.784\" y2=\"98.726\" stroke-linecap=\"round\" style=\"stroke:white;stroke-width:4\"/><line x1=\"241.784\" y1=\"98.726\" x2=\"238.798\" y2=\"98.92\" stroke-linecap=\"round\" style=\"stroke:white;stroke-width:4\"/><line x1=\"238.798\" y1=\"98.92\" x2=\"235.817\" y2=\"99.173\" stroke-linecap=\"round\" style=\"stroke:white;stroke-width:4\"/><line x1=\"235.817\" y1=\"99.173\" x2=\"232.841\" y2=\"99.486\" stroke-linecap=\"round\" style=\"stroke:white;stroke-width:4\"/><line x1=\"232.841\" y1=\"99.486\" x2=\"229.872\" y2=\"99.858\" stroke-linecap=\"round\" style=\"stroke:white;stroke-width:4\"/><line x1=\"229.872\" y1=\"99.858\" x2=\"226.911\" y2=\"100.289\" stroke-linecap=\"round\" style=\"stroke:white;stroke-width:4\"/><line x1=\"226.911\" y1=\"100.289\" x2=\"223.959\" y2=\"100.779\" stroke-linecap=\"round\" style=\"stroke:white;stroke-width:4\"/><line x1=\"223.959\" y1=\"100.779\" x2=\"221.018\" y2=\"101.328\" stroke-linecap=\"round\" style=\"stroke:white;stroke-width:4\"/><line x1=\"221.018\" y1=\"101.328\" x2=\"218.088\" y2=\"101.935\" stroke-linecap=\"round\" style=\"stroke:white;stroke-width:4\"/><line x1=\"218.088\" y1=\"101.935\" x2=\"215.171\" y2=\"102.601\" stroke-linecap=\"round\" style=\"stroke:white;stroke-width:4\"/><line x1=\"215.171\" y1=\"102.601\" x2=\"212.268\" y2=\"103.325\" stroke-linecap=\"round\" style=\"stroke:white;stroke-width:4\"/><line x1=\"212.268\" y1=\"103.325\" x2=\"209.38\" y2=\"104.107\" stroke-linecap=\"round\" style=\"stroke:white;stroke-width:4\"/><line x1=\"209.38\" y1=\"104.107\" x2=\"206.508\" y2=\"104.946\" stroke-linecap=\"round\" style=\"stroke:white;stroke-width:4\"/><line x1=\"206.508\" y1=\"104.946\" x2=\"203.653\" y2=\"105.842\" stroke-linecap=\"round\" style=\"stroke:white;stroke-width:4\"/><line x1=\"203.653\" y1=\"105.842\" x2=\"200.817\" y2=\"106.795\" stroke-linecap=\"round\" style=\"stroke:white;stroke-width:4\"/><line x1=\"200.817\" y1=\"106.795\" x2=\"198.0\" y2=\"107.804\" stroke-linecap=\"round\" style=\"stroke:white;stroke-width:4\"/><line x1=\"198.0\" y1=\"107.804\" x2=\"195.204\" y2=\"108.869\" stroke-linecap=\"round\" style=\"stroke:white;stroke-width:4\"/><line x1=\"195.204\" y1=\"108.869\" x2=\"192.43\" y2=\"109.99\" stroke-linecap=\"round\" style=\"stroke:white;stroke-width:4\"/><line x1=\"192.43\" y1=\"109.99\" x2=\"189.679\" y2=\"111.166\" stroke-linecap=\"round\" style=\"stroke:white;stroke-width:4\"/><line x1=\"189.679\" y1=\"111.166\" x2=\"186.952\" y2=\"112.397\" stroke-linecap=\"round\" style=\"stroke:white;stroke-width:4\"/><line x1=\"186.952\" y1=\"112.397\" x2=\"184.25\" y2=\"113.682\" stroke-linecap=\"round\" style=\"stroke:white;stroke-width:4\"/><line x1=\"184.25\" y1=\"113.682\" x2=\"181.574\" y2=\"115.02\" stroke-linecap=\"round\" style=\"stroke:white;stroke-width:4\"/><line x1=\"181.574\" y1=\"115.02\" x2=\"178.925\" y2=\"116.411\" stroke-linecap=\"round\" style=\"stroke:white;stroke-width:4\"/><line x1=\"178.925\" y1=\"116.411\" x2=\"176.305\" y2=\"117.855\" stroke-linecap=\"round\" style=\"stroke:white;stroke-width:4\"/>\n",
              "        <g visibility=visible transform=\"rotate(240.00000000000009,176.305,117.855) translate(158.305, 99.855)\">\n",
              "<path style=\" stroke:none;fill-rule:evenodd;fill:white;fill-opacity:1;\" d=\"M 18.214844 0.632812 C 16.109375 1.800781 15.011719 4.074219 15.074219 7.132812 L 15.085938 7.652344 L 14.785156 7.496094 C 13.476562 6.824219 11.957031 6.671875 10.40625 7.066406 C 8.46875 7.550781 6.515625 9.15625 4.394531 11.992188 C 3.0625 13.777344 2.679688 14.636719 3.042969 15.027344 L 3.15625 15.152344 L 3.519531 15.152344 C 4.238281 15.152344 4.828125 14.886719 8.1875 13.039062 C 9.386719 12.378906 10.371094 11.839844 10.378906 11.839844 C 10.386719 11.839844 10.355469 11.929688 10.304688 12.035156 C 9.832031 13.09375 9.257812 14.820312 8.96875 16.078125 C 7.914062 20.652344 8.617188 24.53125 11.070312 27.660156 C 11.351562 28.015625 11.363281 27.914062 10.972656 28.382812 C 8.925781 30.84375 7.945312 33.28125 8.238281 35.1875 C 8.289062 35.527344 8.28125 35.523438 8.917969 35.523438 C 10.941406 35.523438 13.074219 34.207031 15.136719 31.6875 C 15.359375 31.417969 15.328125 31.425781 15.5625 31.574219 C 16.292969 32.042969 18.023438 32.964844 18.175781 32.964844 C 18.335938 32.964844 19.941406 32.210938 20.828125 31.71875 C 20.996094 31.625 21.136719 31.554688 21.136719 31.558594 C 21.203125 31.664062 21.898438 32.414062 22.222656 32.730469 C 23.835938 34.300781 25.5625 35.132812 27.582031 35.300781 C 27.90625 35.328125 27.9375 35.308594 28.007812 34.984375 C 28.382812 33.242188 27.625 30.925781 25.863281 28.425781 L 25.542969 27.96875 L 25.699219 27.785156 C 28.945312 23.960938 29.132812 18.699219 26.257812 11.96875 L 26.207031 11.84375 L 27.945312 12.703125 C 31.53125 14.476562 32.316406 14.800781 33.03125 14.800781 C 33.976562 14.800781 33.78125 13.9375 32.472656 12.292969 C 28.519531 7.355469 25.394531 5.925781 21.921875 7.472656 L 21.558594 7.636719 L 21.578125 7.542969 C 21.699219 6.992188 21.761719 5.742188 21.699219 5.164062 C 21.496094 3.296875 20.664062 1.964844 19.003906 0.855469 C 18.480469 0.503906 18.457031 0.5 18.214844 0.632812\"/>\n",
              "</g>\n",
              "      </svg>\n",
              "    "
            ],
            "text/plain": [
              "<IPython.core.display.HTML object>"
            ]
          },
          "metadata": {},
          "output_type": "display_data"
        }
      ],
      "source": [
        "def polygon(n, length):\n",
        "    angle = 360.0 / n\n",
        "    polyline(n, length, angle)\n",
        "\n",
        "def arc(r, angle):\n",
        "    arc_length = 2 * math.pi * r * angle / 360\n",
        "    n = int(arc_length / 3) + 1\n",
        "    step_length = arc_length / n\n",
        "    step_angle = float(angle) / n\n",
        "    polyline(n, step_length, step_angle)\n",
        "\n",
        "turtle.initializeTurtle()\n",
        "\n",
        "radius = 150\n",
        "sector = 120\n",
        "arc(radius, sector)"
      ]
    },
    {
      "cell_type": "markdown",
      "metadata": {
        "id": "3gziWW9bMlUg"
      },
      "source": [
        "<p>... and even <strong>rewrite</strong> <code>circle</code> using <code>arc</code> !</p>\n"
      ]
    },
    {
      "cell_type": "code",
      "execution_count": null,
      "metadata": {
        "colab": {
          "base_uri": "https://localhost:8080/",
          "height": 521
        },
        "id": "3B_gupy7MhXQ",
        "outputId": "36d09687-c68a-4b6f-8996-96d78f107193"
      },
      "outputs": [
        {
          "data": {
            "text/html": [
              "\n",
              "      <svg width=\"800\" height=\"500\">\n",
              "        <rect width=\"100%\" height=\"100%\" fill=\"black\"/>\n",
              "        <line x1=\"400\" y1=\"250\" x2=\"400.0\" y2=\"247.008\" stroke-linecap=\"round\" style=\"stroke:white;stroke-width:4\"/><line x1=\"400.0\" y1=\"247.008\" x2=\"399.94\" y2=\"244.017\" stroke-linecap=\"round\" style=\"stroke:white;stroke-width:4\"/><line x1=\"399.94\" y1=\"244.017\" x2=\"399.821\" y2=\"241.027\" stroke-linecap=\"round\" style=\"stroke:white;stroke-width:4\"/><line x1=\"399.821\" y1=\"241.027\" x2=\"399.642\" y2=\"238.04\" stroke-linecap=\"round\" style=\"stroke:white;stroke-width:4\"/><line x1=\"399.642\" y1=\"238.04\" x2=\"399.404\" y2=\"235.058\" stroke-linecap=\"round\" style=\"stroke:white;stroke-width:4\"/><line x1=\"399.404\" y1=\"235.058\" x2=\"399.106\" y2=\"232.081\" stroke-linecap=\"round\" style=\"stroke:white;stroke-width:4\"/><line x1=\"399.106\" y1=\"232.081\" x2=\"398.749\" y2=\"229.11\" stroke-linecap=\"round\" style=\"stroke:white;stroke-width:4\"/><line x1=\"398.749\" y1=\"229.11\" x2=\"398.333\" y2=\"226.147\" stroke-linecap=\"round\" style=\"stroke:white;stroke-width:4\"/><line x1=\"398.333\" y1=\"226.147\" x2=\"397.858\" y2=\"223.193\" stroke-linecap=\"round\" style=\"stroke:white;stroke-width:4\"/><line x1=\"397.858\" y1=\"223.193\" x2=\"397.324\" y2=\"220.249\" stroke-linecap=\"round\" style=\"stroke:white;stroke-width:4\"/><line x1=\"397.324\" y1=\"220.249\" x2=\"396.731\" y2=\"217.316\" stroke-linecap=\"round\" style=\"stroke:white;stroke-width:4\"/><line x1=\"396.731\" y1=\"217.316\" x2=\"396.08\" y2=\"214.396\" stroke-linecap=\"round\" style=\"stroke:white;stroke-width:4\"/><line x1=\"396.08\" y1=\"214.396\" x2=\"395.371\" y2=\"211.489\" stroke-linecap=\"round\" style=\"stroke:white;stroke-width:4\"/><line x1=\"395.371\" y1=\"211.489\" x2=\"394.604\" y2=\"208.597\" stroke-linecap=\"round\" style=\"stroke:white;stroke-width:4\"/><line x1=\"394.604\" y1=\"208.597\" x2=\"393.779\" y2=\"205.721\" stroke-linecap=\"round\" style=\"stroke:white;stroke-width:4\"/><line x1=\"393.779\" y1=\"205.721\" x2=\"392.897\" y2=\"202.862\" stroke-linecap=\"round\" style=\"stroke:white;stroke-width:4\"/><line x1=\"392.897\" y1=\"202.862\" x2=\"391.958\" y2=\"200.021\" stroke-linecap=\"round\" style=\"stroke:white;stroke-width:4\"/><line x1=\"391.958\" y1=\"200.021\" x2=\"390.963\" y2=\"197.199\" stroke-linecap=\"round\" style=\"stroke:white;stroke-width:4\"/><line x1=\"390.963\" y1=\"197.199\" x2=\"389.912\" y2=\"194.398\" stroke-linecap=\"round\" style=\"stroke:white;stroke-width:4\"/><line x1=\"389.912\" y1=\"194.398\" x2=\"388.805\" y2=\"191.618\" stroke-linecap=\"round\" style=\"stroke:white;stroke-width:4\"/><line x1=\"388.805\" y1=\"191.618\" x2=\"387.643\" y2=\"188.861\" stroke-linecap=\"round\" style=\"stroke:white;stroke-width:4\"/><line x1=\"387.643\" y1=\"188.861\" x2=\"386.426\" y2=\"186.128\" stroke-linecap=\"round\" style=\"stroke:white;stroke-width:4\"/><line x1=\"386.426\" y1=\"186.128\" x2=\"385.155\" y2=\"183.419\" stroke-linecap=\"round\" style=\"stroke:white;stroke-width:4\"/><line x1=\"385.155\" y1=\"183.419\" x2=\"383.83\" y2=\"180.736\" stroke-linecap=\"round\" style=\"stroke:white;stroke-width:4\"/><line x1=\"383.83\" y1=\"180.736\" x2=\"382.452\" y2=\"178.08\" stroke-linecap=\"round\" style=\"stroke:white;stroke-width:4\"/><line x1=\"382.452\" y1=\"178.08\" x2=\"381.021\" y2=\"175.452\" stroke-linecap=\"round\" style=\"stroke:white;stroke-width:4\"/><line x1=\"381.021\" y1=\"175.452\" x2=\"379.538\" y2=\"172.853\" stroke-linecap=\"round\" style=\"stroke:white;stroke-width:4\"/><line x1=\"379.538\" y1=\"172.853\" x2=\"378.003\" y2=\"170.285\" stroke-linecap=\"round\" style=\"stroke:white;stroke-width:4\"/><line x1=\"378.003\" y1=\"170.285\" x2=\"376.417\" y2=\"167.748\" stroke-linecap=\"round\" style=\"stroke:white;stroke-width:4\"/><line x1=\"376.417\" y1=\"167.748\" x2=\"374.781\" y2=\"165.243\" stroke-linecap=\"round\" style=\"stroke:white;stroke-width:4\"/><line x1=\"374.781\" y1=\"165.243\" x2=\"373.096\" y2=\"162.771\" stroke-linecap=\"round\" style=\"stroke:white;stroke-width:4\"/><line x1=\"373.096\" y1=\"162.771\" x2=\"371.362\" y2=\"160.333\" stroke-linecap=\"round\" style=\"stroke:white;stroke-width:4\"/><line x1=\"371.362\" y1=\"160.333\" x2=\"369.579\" y2=\"157.93\" stroke-linecap=\"round\" style=\"stroke:white;stroke-width:4\"/><line x1=\"369.579\" y1=\"157.93\" x2=\"367.749\" y2=\"155.563\" stroke-linecap=\"round\" style=\"stroke:white;stroke-width:4\"/><line x1=\"367.749\" y1=\"155.563\" x2=\"365.872\" y2=\"153.233\" stroke-linecap=\"round\" style=\"stroke:white;stroke-width:4\"/><line x1=\"365.872\" y1=\"153.233\" x2=\"363.949\" y2=\"150.941\" stroke-linecap=\"round\" style=\"stroke:white;stroke-width:4\"/><line x1=\"363.949\" y1=\"150.941\" x2=\"361.98\" y2=\"148.688\" stroke-linecap=\"round\" style=\"stroke:white;stroke-width:4\"/><line x1=\"361.98\" y1=\"148.688\" x2=\"359.967\" y2=\"146.475\" stroke-linecap=\"round\" style=\"stroke:white;stroke-width:4\"/><line x1=\"359.967\" y1=\"146.475\" x2=\"357.91\" y2=\"144.302\" stroke-linecap=\"round\" style=\"stroke:white;stroke-width:4\"/><line x1=\"357.91\" y1=\"144.302\" x2=\"355.81\" y2=\"142.171\" stroke-linecap=\"round\" style=\"stroke:white;stroke-width:4\"/><line x1=\"355.81\" y1=\"142.171\" x2=\"353.668\" y2=\"140.082\" stroke-linecap=\"round\" style=\"stroke:white;stroke-width:4\"/><line x1=\"353.668\" y1=\"140.082\" x2=\"351.485\" y2=\"138.036\" stroke-linecap=\"round\" style=\"stroke:white;stroke-width:4\"/><line x1=\"351.485\" y1=\"138.036\" x2=\"349.262\" y2=\"136.034\" stroke-linecap=\"round\" style=\"stroke:white;stroke-width:4\"/><line x1=\"349.262\" y1=\"136.034\" x2=\"346.999\" y2=\"134.077\" stroke-linecap=\"round\" style=\"stroke:white;stroke-width:4\"/><line x1=\"346.999\" y1=\"134.077\" x2=\"344.697\" y2=\"132.165\" stroke-linecap=\"round\" style=\"stroke:white;stroke-width:4\"/><line x1=\"344.697\" y1=\"132.165\" x2=\"342.358\" y2=\"130.3\" stroke-linecap=\"round\" style=\"stroke:white;stroke-width:4\"/><line x1=\"342.358\" y1=\"130.3\" x2=\"339.982\" y2=\"128.482\" stroke-linecap=\"round\" style=\"stroke:white;stroke-width:4\"/><line x1=\"339.982\" y1=\"128.482\" x2=\"337.57\" y2=\"126.711\" stroke-linecap=\"round\" style=\"stroke:white;stroke-width:4\"/><line x1=\"337.57\" y1=\"126.711\" x2=\"335.123\" y2=\"124.989\" stroke-linecap=\"round\" style=\"stroke:white;stroke-width:4\"/><line x1=\"335.123\" y1=\"124.989\" x2=\"332.643\" y2=\"123.316\" stroke-linecap=\"round\" style=\"stroke:white;stroke-width:4\"/><line x1=\"332.643\" y1=\"123.316\" x2=\"330.13\" y2=\"121.693\" stroke-linecap=\"round\" style=\"stroke:white;stroke-width:4\"/><line x1=\"330.13\" y1=\"121.693\" x2=\"327.585\" y2=\"120.12\" stroke-linecap=\"round\" style=\"stroke:white;stroke-width:4\"/><line x1=\"327.585\" y1=\"120.12\" x2=\"325.009\" y2=\"118.598\" stroke-linecap=\"round\" style=\"stroke:white;stroke-width:4\"/><line x1=\"325.009\" y1=\"118.598\" x2=\"322.403\" y2=\"117.128\" stroke-linecap=\"round\" style=\"stroke:white;stroke-width:4\"/><line x1=\"322.403\" y1=\"117.128\" x2=\"319.768\" y2=\"115.71\" stroke-linecap=\"round\" style=\"stroke:white;stroke-width:4\"/><line x1=\"319.768\" y1=\"115.71\" x2=\"317.106\" y2=\"114.345\" stroke-linecap=\"round\" style=\"stroke:white;stroke-width:4\"/><line x1=\"317.106\" y1=\"114.345\" x2=\"314.417\" y2=\"113.033\" stroke-linecap=\"round\" style=\"stroke:white;stroke-width:4\"/><line x1=\"314.417\" y1=\"113.033\" x2=\"311.702\" y2=\"111.775\" stroke-linecap=\"round\" style=\"stroke:white;stroke-width:4\"/><line x1=\"311.702\" y1=\"111.775\" x2=\"308.963\" y2=\"110.572\" stroke-linecap=\"round\" style=\"stroke:white;stroke-width:4\"/><line x1=\"308.963\" y1=\"110.572\" x2=\"306.2\" y2=\"109.424\" stroke-linecap=\"round\" style=\"stroke:white;stroke-width:4\"/><line x1=\"306.2\" y1=\"109.424\" x2=\"303.415\" y2=\"108.331\" stroke-linecap=\"round\" style=\"stroke:white;stroke-width:4\"/><line x1=\"303.415\" y1=\"108.331\" x2=\"300.609\" y2=\"107.294\" stroke-linecap=\"round\" style=\"stroke:white;stroke-width:4\"/><line x1=\"300.609\" y1=\"107.294\" x2=\"297.782\" y2=\"106.313\" stroke-linecap=\"round\" style=\"stroke:white;stroke-width:4\"/><line x1=\"297.782\" y1=\"106.313\" x2=\"294.936\" y2=\"105.388\" stroke-linecap=\"round\" style=\"stroke:white;stroke-width:4\"/><line x1=\"294.936\" y1=\"105.388\" x2=\"292.073\" y2=\"104.52\" stroke-linecap=\"round\" style=\"stroke:white;stroke-width:4\"/><line x1=\"292.073\" y1=\"104.52\" x2=\"289.193\" y2=\"103.71\" stroke-linecap=\"round\" style=\"stroke:white;stroke-width:4\"/><line x1=\"289.193\" y1=\"103.71\" x2=\"286.297\" y2=\"102.957\" stroke-linecap=\"round\" style=\"stroke:white;stroke-width:4\"/><line x1=\"286.297\" y1=\"102.957\" x2=\"283.387\" y2=\"102.262\" stroke-linecap=\"round\" style=\"stroke:white;stroke-width:4\"/><line x1=\"283.387\" y1=\"102.262\" x2=\"280.464\" y2=\"101.625\" stroke-linecap=\"round\" style=\"stroke:white;stroke-width:4\"/><line x1=\"280.464\" y1=\"101.625\" x2=\"277.528\" y2=\"101.047\" stroke-linecap=\"round\" style=\"stroke:white;stroke-width:4\"/><line x1=\"277.528\" y1=\"101.047\" x2=\"274.581\" y2=\"100.527\" stroke-linecap=\"round\" style=\"stroke:white;stroke-width:4\"/><line x1=\"274.581\" y1=\"100.527\" x2=\"271.625\" y2=\"100.066\" stroke-linecap=\"round\" style=\"stroke:white;stroke-width:4\"/><line x1=\"271.625\" y1=\"100.066\" x2=\"268.66\" y2=\"99.664\" stroke-linecap=\"round\" style=\"stroke:white;stroke-width:4\"/><line x1=\"268.66\" y1=\"99.664\" x2=\"265.688\" y2=\"99.322\" stroke-linecap=\"round\" style=\"stroke:white;stroke-width:4\"/><line x1=\"265.688\" y1=\"99.322\" x2=\"262.709\" y2=\"99.039\" stroke-linecap=\"round\" style=\"stroke:white;stroke-width:4\"/><line x1=\"262.709\" y1=\"99.039\" x2=\"259.725\" y2=\"98.815\" stroke-linecap=\"round\" style=\"stroke:white;stroke-width:4\"/><line x1=\"259.725\" y1=\"98.815\" x2=\"256.738\" y2=\"98.651\" stroke-linecap=\"round\" style=\"stroke:white;stroke-width:4\"/><line x1=\"256.738\" y1=\"98.651\" x2=\"253.748\" y2=\"98.547\" stroke-linecap=\"round\" style=\"stroke:white;stroke-width:4\"/><line x1=\"253.748\" y1=\"98.547\" x2=\"250.756\" y2=\"98.502\" stroke-linecap=\"round\" style=\"stroke:white;stroke-width:4\"/><line x1=\"250.756\" y1=\"98.502\" x2=\"247.764\" y2=\"98.517\" stroke-linecap=\"round\" style=\"stroke:white;stroke-width:4\"/><line x1=\"247.764\" y1=\"98.517\" x2=\"244.773\" y2=\"98.592\" stroke-linecap=\"round\" style=\"stroke:white;stroke-width:4\"/><line x1=\"244.773\" y1=\"98.592\" x2=\"241.784\" y2=\"98.726\" stroke-linecap=\"round\" style=\"stroke:white;stroke-width:4\"/><line x1=\"241.784\" y1=\"98.726\" x2=\"238.798\" y2=\"98.92\" stroke-linecap=\"round\" style=\"stroke:white;stroke-width:4\"/><line x1=\"238.798\" y1=\"98.92\" x2=\"235.817\" y2=\"99.173\" stroke-linecap=\"round\" style=\"stroke:white;stroke-width:4\"/><line x1=\"235.817\" y1=\"99.173\" x2=\"232.841\" y2=\"99.486\" stroke-linecap=\"round\" style=\"stroke:white;stroke-width:4\"/><line x1=\"232.841\" y1=\"99.486\" x2=\"229.872\" y2=\"99.858\" stroke-linecap=\"round\" style=\"stroke:white;stroke-width:4\"/><line x1=\"229.872\" y1=\"99.858\" x2=\"226.911\" y2=\"100.289\" stroke-linecap=\"round\" style=\"stroke:white;stroke-width:4\"/><line x1=\"226.911\" y1=\"100.289\" x2=\"223.959\" y2=\"100.779\" stroke-linecap=\"round\" style=\"stroke:white;stroke-width:4\"/><line x1=\"223.959\" y1=\"100.779\" x2=\"221.018\" y2=\"101.328\" stroke-linecap=\"round\" style=\"stroke:white;stroke-width:4\"/><line x1=\"221.018\" y1=\"101.328\" x2=\"218.088\" y2=\"101.935\" stroke-linecap=\"round\" style=\"stroke:white;stroke-width:4\"/><line x1=\"218.088\" y1=\"101.935\" x2=\"215.171\" y2=\"102.601\" stroke-linecap=\"round\" style=\"stroke:white;stroke-width:4\"/><line x1=\"215.171\" y1=\"102.601\" x2=\"212.268\" y2=\"103.325\" stroke-linecap=\"round\" style=\"stroke:white;stroke-width:4\"/><line x1=\"212.268\" y1=\"103.325\" x2=\"209.38\" y2=\"104.107\" stroke-linecap=\"round\" style=\"stroke:white;stroke-width:4\"/><line x1=\"209.38\" y1=\"104.107\" x2=\"206.508\" y2=\"104.946\" stroke-linecap=\"round\" style=\"stroke:white;stroke-width:4\"/><line x1=\"206.508\" y1=\"104.946\" x2=\"203.653\" y2=\"105.842\" stroke-linecap=\"round\" style=\"stroke:white;stroke-width:4\"/><line x1=\"203.653\" y1=\"105.842\" x2=\"200.817\" y2=\"106.795\" stroke-linecap=\"round\" style=\"stroke:white;stroke-width:4\"/><line x1=\"200.817\" y1=\"106.795\" x2=\"198.0\" y2=\"107.804\" stroke-linecap=\"round\" style=\"stroke:white;stroke-width:4\"/><line x1=\"198.0\" y1=\"107.804\" x2=\"195.204\" y2=\"108.869\" stroke-linecap=\"round\" style=\"stroke:white;stroke-width:4\"/><line x1=\"195.204\" y1=\"108.869\" x2=\"192.43\" y2=\"109.99\" stroke-linecap=\"round\" style=\"stroke:white;stroke-width:4\"/><line x1=\"192.43\" y1=\"109.99\" x2=\"189.679\" y2=\"111.166\" stroke-linecap=\"round\" style=\"stroke:white;stroke-width:4\"/><line x1=\"189.679\" y1=\"111.166\" x2=\"186.952\" y2=\"112.397\" stroke-linecap=\"round\" style=\"stroke:white;stroke-width:4\"/><line x1=\"186.952\" y1=\"112.397\" x2=\"184.25\" y2=\"113.682\" stroke-linecap=\"round\" style=\"stroke:white;stroke-width:4\"/><line x1=\"184.25\" y1=\"113.682\" x2=\"181.574\" y2=\"115.02\" stroke-linecap=\"round\" style=\"stroke:white;stroke-width:4\"/><line x1=\"181.574\" y1=\"115.02\" x2=\"178.925\" y2=\"116.411\" stroke-linecap=\"round\" style=\"stroke:white;stroke-width:4\"/><line x1=\"178.925\" y1=\"116.411\" x2=\"176.305\" y2=\"117.855\" stroke-linecap=\"round\" style=\"stroke:white;stroke-width:4\"/><line x1=\"176.305\" y1=\"117.855\" x2=\"173.722\" y2=\"119.346\" stroke-linecap=\"round\" style=\"stroke:white;stroke-width:4\"/><line x1=\"173.722\" y1=\"119.346\" x2=\"171.2\" y2=\"120.939\" stroke-linecap=\"round\" style=\"stroke:white;stroke-width:4\"/><line x1=\"171.2\" y1=\"120.939\" x2=\"168.744\" y2=\"122.631\" stroke-linecap=\"round\" style=\"stroke:white;stroke-width:4\"/><line x1=\"168.744\" y1=\"122.631\" x2=\"166.357\" y2=\"124.419\" stroke-linecap=\"round\" style=\"stroke:white;stroke-width:4\"/><line x1=\"166.357\" y1=\"124.419\" x2=\"164.043\" y2=\"126.301\" stroke-linecap=\"round\" style=\"stroke:white;stroke-width:4\"/><line x1=\"164.043\" y1=\"126.301\" x2=\"161.806\" y2=\"128.273\" stroke-linecap=\"round\" style=\"stroke:white;stroke-width:4\"/><line x1=\"161.806\" y1=\"128.273\" x2=\"159.649\" y2=\"130.332\" stroke-linecap=\"round\" style=\"stroke:white;stroke-width:4\"/><line x1=\"159.649\" y1=\"130.332\" x2=\"157.575\" y2=\"132.476\" stroke-linecap=\"round\" style=\"stroke:white;stroke-width:4\"/><line x1=\"157.575\" y1=\"132.476\" x2=\"155.588\" y2=\"134.7\" stroke-linecap=\"round\" style=\"stroke:white;stroke-width:4\"/><line x1=\"155.588\" y1=\"134.7\" x2=\"153.691\" y2=\"137.002\" stroke-linecap=\"round\" style=\"stroke:white;stroke-width:4\"/><line x1=\"153.691\" y1=\"137.002\" x2=\"151.887\" y2=\"139.377\" stroke-linecap=\"round\" style=\"stroke:white;stroke-width:4\"/><line x1=\"151.887\" y1=\"139.377\" x2=\"150.179\" y2=\"141.822\" stroke-linecap=\"round\" style=\"stroke:white;stroke-width:4\"/><line x1=\"150.179\" y1=\"141.822\" x2=\"148.57\" y2=\"144.333\" stroke-linecap=\"round\" style=\"stroke:white;stroke-width:4\"/><line x1=\"148.57\" y1=\"144.333\" x2=\"147.062\" y2=\"146.906\" stroke-linecap=\"round\" style=\"stroke:white;stroke-width:4\"/><line x1=\"147.062\" y1=\"146.906\" x2=\"145.657\" y2=\"149.537\" stroke-linecap=\"round\" style=\"stroke:white;stroke-width:4\"/><line x1=\"145.657\" y1=\"149.537\" x2=\"144.358\" y2=\"152.222\" stroke-linecap=\"round\" style=\"stroke:white;stroke-width:4\"/><line x1=\"144.358\" y1=\"152.222\" x2=\"143.167\" y2=\"154.956\" stroke-linecap=\"round\" style=\"stroke:white;stroke-width:4\"/><line x1=\"143.167\" y1=\"154.956\" x2=\"142.085\" y2=\"157.735\" stroke-linecap=\"round\" style=\"stroke:white;stroke-width:4\"/><line x1=\"142.085\" y1=\"157.735\" x2=\"141.115\" y2=\"160.555\" stroke-linecap=\"round\" style=\"stroke:white;stroke-width:4\"/><line x1=\"141.115\" y1=\"160.555\" x2=\"140.257\" y2=\"163.412\" stroke-linecap=\"round\" style=\"stroke:white;stroke-width:4\"/><line x1=\"140.257\" y1=\"163.412\" x2=\"139.514\" y2=\"166.3\" stroke-linecap=\"round\" style=\"stroke:white;stroke-width:4\"/><line x1=\"139.514\" y1=\"166.3\" x2=\"138.886\" y2=\"169.216\" stroke-linecap=\"round\" style=\"stroke:white;stroke-width:4\"/><line x1=\"138.886\" y1=\"169.216\" x2=\"138.375\" y2=\"172.154\" stroke-linecap=\"round\" style=\"stroke:white;stroke-width:4\"/><line x1=\"138.375\" y1=\"172.154\" x2=\"137.981\" y2=\"175.11\" stroke-linecap=\"round\" style=\"stroke:white;stroke-width:4\"/><line x1=\"137.981\" y1=\"175.11\" x2=\"137.705\" y2=\"178.08\" stroke-linecap=\"round\" style=\"stroke:white;stroke-width:4\"/><line x1=\"137.705\" y1=\"178.08\" x2=\"137.547\" y2=\"181.058\" stroke-linecap=\"round\" style=\"stroke:white;stroke-width:4\"/><line x1=\"137.547\" y1=\"181.058\" x2=\"137.507\" y2=\"184.04\" stroke-linecap=\"round\" style=\"stroke:white;stroke-width:4\"/><line x1=\"137.507\" y1=\"184.04\" x2=\"137.586\" y2=\"187.021\" stroke-linecap=\"round\" style=\"stroke:white;stroke-width:4\"/><line x1=\"137.586\" y1=\"187.021\" x2=\"137.784\" y2=\"189.997\" stroke-linecap=\"round\" style=\"stroke:white;stroke-width:4\"/><line x1=\"137.784\" y1=\"189.997\" x2=\"138.1\" y2=\"192.963\" stroke-linecap=\"round\" style=\"stroke:white;stroke-width:4\"/><line x1=\"138.1\" y1=\"192.963\" x2=\"138.533\" y2=\"195.914\" stroke-linecap=\"round\" style=\"stroke:white;stroke-width:4\"/><line x1=\"138.533\" y1=\"195.914\" x2=\"139.083\" y2=\"198.845\" stroke-linecap=\"round\" style=\"stroke:white;stroke-width:4\"/><line x1=\"139.083\" y1=\"198.845\" x2=\"139.749\" y2=\"201.752\" stroke-linecap=\"round\" style=\"stroke:white;stroke-width:4\"/><line x1=\"139.749\" y1=\"201.752\" x2=\"140.53\" y2=\"204.63\" stroke-linecap=\"round\" style=\"stroke:white;stroke-width:4\"/><line x1=\"140.53\" y1=\"204.63\" x2=\"141.425\" y2=\"207.475\" stroke-linecap=\"round\" style=\"stroke:white;stroke-width:4\"/><line x1=\"141.425\" y1=\"207.475\" x2=\"142.433\" y2=\"210.282\" stroke-linecap=\"round\" style=\"stroke:white;stroke-width:4\"/><line x1=\"142.433\" y1=\"210.282\" x2=\"143.551\" y2=\"213.047\" stroke-linecap=\"round\" style=\"stroke:white;stroke-width:4\"/><line x1=\"143.551\" y1=\"213.047\" x2=\"144.779\" y2=\"215.765\" stroke-linecap=\"round\" style=\"stroke:white;stroke-width:4\"/><line x1=\"144.779\" y1=\"215.765\" x2=\"146.114\" y2=\"218.432\" stroke-linecap=\"round\" style=\"stroke:white;stroke-width:4\"/><line x1=\"146.114\" y1=\"218.432\" x2=\"147.554\" y2=\"221.044\" stroke-linecap=\"round\" style=\"stroke:white;stroke-width:4\"/><line x1=\"147.554\" y1=\"221.044\" x2=\"149.096\" y2=\"223.597\" stroke-linecap=\"round\" style=\"stroke:white;stroke-width:4\"/><line x1=\"149.096\" y1=\"223.597\" x2=\"150.739\" y2=\"226.086\" stroke-linecap=\"round\" style=\"stroke:white;stroke-width:4\"/><line x1=\"150.739\" y1=\"226.086\" x2=\"152.479\" y2=\"228.508\" stroke-linecap=\"round\" style=\"stroke:white;stroke-width:4\"/><line x1=\"152.479\" y1=\"228.508\" x2=\"154.314\" y2=\"230.859\" stroke-linecap=\"round\" style=\"stroke:white;stroke-width:4\"/><line x1=\"154.314\" y1=\"230.859\" x2=\"156.241\" y2=\"233.135\" stroke-linecap=\"round\" style=\"stroke:white;stroke-width:4\"/><line x1=\"156.241\" y1=\"233.135\" x2=\"158.257\" y2=\"235.333\" stroke-linecap=\"round\" style=\"stroke:white;stroke-width:4\"/><line x1=\"158.257\" y1=\"235.333\" x2=\"160.359\" y2=\"237.449\" stroke-linecap=\"round\" style=\"stroke:white;stroke-width:4\"/><line x1=\"160.359\" y1=\"237.449\" x2=\"162.543\" y2=\"239.48\" stroke-linecap=\"round\" style=\"stroke:white;stroke-width:4\"/><line x1=\"162.543\" y1=\"239.48\" x2=\"164.806\" y2=\"241.422\" stroke-linecap=\"round\" style=\"stroke:white;stroke-width:4\"/><line x1=\"164.806\" y1=\"241.422\" x2=\"167.145\" y2=\"243.273\" stroke-linecap=\"round\" style=\"stroke:white;stroke-width:4\"/><line x1=\"167.145\" y1=\"243.273\" x2=\"169.556\" y2=\"245.029\" stroke-linecap=\"round\" style=\"stroke:white;stroke-width:4\"/><line x1=\"169.556\" y1=\"245.029\" x2=\"172.035\" y2=\"246.688\" stroke-linecap=\"round\" style=\"stroke:white;stroke-width:4\"/><line x1=\"172.035\" y1=\"246.688\" x2=\"174.578\" y2=\"248.247\" stroke-linecap=\"round\" style=\"stroke:white;stroke-width:4\"/><line x1=\"174.578\" y1=\"248.247\" x2=\"177.18\" y2=\"249.704\" stroke-linecap=\"round\" style=\"stroke:white;stroke-width:4\"/><line x1=\"177.18\" y1=\"249.704\" x2=\"179.838\" y2=\"251.056\" stroke-linecap=\"round\" style=\"stroke:white;stroke-width:4\"/><line x1=\"179.838\" y1=\"251.056\" x2=\"182.548\" y2=\"252.302\" stroke-linecap=\"round\" style=\"stroke:white;stroke-width:4\"/><line x1=\"182.548\" y1=\"252.302\" x2=\"185.305\" y2=\"253.439\" stroke-linecap=\"round\" style=\"stroke:white;stroke-width:4\"/><line x1=\"185.305\" y1=\"253.439\" x2=\"188.105\" y2=\"254.465\" stroke-linecap=\"round\" style=\"stroke:white;stroke-width:4\"/><line x1=\"188.105\" y1=\"254.465\" x2=\"190.944\" y2=\"255.379\" stroke-linecap=\"round\" style=\"stroke:white;stroke-width:4\"/><line x1=\"190.944\" y1=\"255.379\" x2=\"193.817\" y2=\"256.18\" stroke-linecap=\"round\" style=\"stroke:white;stroke-width:4\"/><line x1=\"193.817\" y1=\"256.18\" x2=\"196.72\" y2=\"256.866\" stroke-linecap=\"round\" style=\"stroke:white;stroke-width:4\"/><line x1=\"196.72\" y1=\"256.866\" x2=\"199.648\" y2=\"257.436\" stroke-linecap=\"round\" style=\"stroke:white;stroke-width:4\"/><line x1=\"199.648\" y1=\"257.436\" x2=\"202.596\" y2=\"257.889\" stroke-linecap=\"round\" style=\"stroke:white;stroke-width:4\"/><line x1=\"202.596\" y1=\"257.889\" x2=\"205.56\" y2=\"258.224\" stroke-linecap=\"round\" style=\"stroke:white;stroke-width:4\"/><line x1=\"205.56\" y1=\"258.224\" x2=\"208.535\" y2=\"258.441\" stroke-linecap=\"round\" style=\"stroke:white;stroke-width:4\"/><line x1=\"208.535\" y1=\"258.441\" x2=\"211.516\" y2=\"258.54\" stroke-linecap=\"round\" style=\"stroke:white;stroke-width:4\"/><line x1=\"211.516\" y1=\"258.54\" x2=\"214.498\" y2=\"258.52\" stroke-linecap=\"round\" style=\"stroke:white;stroke-width:4\"/><line x1=\"214.498\" y1=\"258.52\" x2=\"217.477\" y2=\"258.382\" stroke-linecap=\"round\" style=\"stroke:white;stroke-width:4\"/><line x1=\"217.477\" y1=\"258.382\" x2=\"220.448\" y2=\"258.125\" stroke-linecap=\"round\" style=\"stroke:white;stroke-width:4\"/><line x1=\"220.448\" y1=\"258.125\" x2=\"223.407\" y2=\"257.75\" stroke-linecap=\"round\" style=\"stroke:white;stroke-width:4\"/><line x1=\"223.407\" y1=\"257.75\" x2=\"226.349\" y2=\"257.258\" stroke-linecap=\"round\" style=\"stroke:white;stroke-width:4\"/><line x1=\"226.349\" y1=\"257.258\" x2=\"229.269\" y2=\"256.65\" stroke-linecap=\"round\" style=\"stroke:white;stroke-width:4\"/><line x1=\"229.269\" y1=\"256.65\" x2=\"232.162\" y2=\"255.926\" stroke-linecap=\"round\" style=\"stroke:white;stroke-width:4\"/><line x1=\"232.162\" y1=\"255.926\" x2=\"235.024\" y2=\"255.087\" stroke-linecap=\"round\" style=\"stroke:white;stroke-width:4\"/><line x1=\"235.024\" y1=\"255.087\" x2=\"237.851\" y2=\"254.135\" stroke-linecap=\"round\" style=\"stroke:white;stroke-width:4\"/><line x1=\"237.851\" y1=\"254.135\" x2=\"240.638\" y2=\"253.072\" stroke-linecap=\"round\" style=\"stroke:white;stroke-width:4\"/><line x1=\"240.638\" y1=\"253.072\" x2=\"243.38\" y2=\"251.899\" stroke-linecap=\"round\" style=\"stroke:white;stroke-width:4\"/><line x1=\"243.38\" y1=\"251.899\" x2=\"246.073\" y2=\"250.618\" stroke-linecap=\"round\" style=\"stroke:white;stroke-width:4\"/><line x1=\"246.073\" y1=\"250.618\" x2=\"248.713\" y2=\"249.231\" stroke-linecap=\"round\" style=\"stroke:white;stroke-width:4\"/><line x1=\"248.713\" y1=\"249.231\" x2=\"251.296\" y2=\"247.74\" stroke-linecap=\"round\" style=\"stroke:white;stroke-width:4\"/><line x1=\"251.296\" y1=\"247.74\" x2=\"253.818\" y2=\"246.147\" stroke-linecap=\"round\" style=\"stroke:white;stroke-width:4\"/><line x1=\"253.818\" y1=\"246.147\" x2=\"256.274\" y2=\"244.455\" stroke-linecap=\"round\" style=\"stroke:white;stroke-width:4\"/><line x1=\"256.274\" y1=\"244.455\" x2=\"258.661\" y2=\"242.667\" stroke-linecap=\"round\" style=\"stroke:white;stroke-width:4\"/><line x1=\"258.661\" y1=\"242.667\" x2=\"260.975\" y2=\"240.785\" stroke-linecap=\"round\" style=\"stroke:white;stroke-width:4\"/><line x1=\"260.975\" y1=\"240.785\" x2=\"263.212\" y2=\"238.813\" stroke-linecap=\"round\" style=\"stroke:white;stroke-width:4\"/><line x1=\"263.212\" y1=\"238.813\" x2=\"265.369\" y2=\"236.754\" stroke-linecap=\"round\" style=\"stroke:white;stroke-width:4\"/><line x1=\"265.369\" y1=\"236.754\" x2=\"267.443\" y2=\"234.61\" stroke-linecap=\"round\" style=\"stroke:white;stroke-width:4\"/><line x1=\"267.443\" y1=\"234.61\" x2=\"269.43\" y2=\"232.386\" stroke-linecap=\"round\" style=\"stroke:white;stroke-width:4\"/><line x1=\"269.43\" y1=\"232.386\" x2=\"271.327\" y2=\"230.084\" stroke-linecap=\"round\" style=\"stroke:white;stroke-width:4\"/><line x1=\"271.327\" y1=\"230.084\" x2=\"273.131\" y2=\"227.709\" stroke-linecap=\"round\" style=\"stroke:white;stroke-width:4\"/><line x1=\"273.131\" y1=\"227.709\" x2=\"274.839\" y2=\"225.264\" stroke-linecap=\"round\" style=\"stroke:white;stroke-width:4\"/><line x1=\"274.839\" y1=\"225.264\" x2=\"276.448\" y2=\"222.753\" stroke-linecap=\"round\" style=\"stroke:white;stroke-width:4\"/><line x1=\"276.448\" y1=\"222.753\" x2=\"277.956\" y2=\"220.18\" stroke-linecap=\"round\" style=\"stroke:white;stroke-width:4\"/><line x1=\"277.956\" y1=\"220.18\" x2=\"279.361\" y2=\"217.549\" stroke-linecap=\"round\" style=\"stroke:white;stroke-width:4\"/><line x1=\"279.361\" y1=\"217.549\" x2=\"280.66\" y2=\"214.864\" stroke-linecap=\"round\" style=\"stroke:white;stroke-width:4\"/><line x1=\"280.66\" y1=\"214.864\" x2=\"281.851\" y2=\"212.13\" stroke-linecap=\"round\" style=\"stroke:white;stroke-width:4\"/><line x1=\"281.851\" y1=\"212.13\" x2=\"282.933\" y2=\"209.351\" stroke-linecap=\"round\" style=\"stroke:white;stroke-width:4\"/><line x1=\"282.933\" y1=\"209.351\" x2=\"283.903\" y2=\"206.531\" stroke-linecap=\"round\" style=\"stroke:white;stroke-width:4\"/><line x1=\"283.903\" y1=\"206.531\" x2=\"284.761\" y2=\"203.674\" stroke-linecap=\"round\" style=\"stroke:white;stroke-width:4\"/><line x1=\"284.761\" y1=\"203.674\" x2=\"285.504\" y2=\"200.786\" stroke-linecap=\"round\" style=\"stroke:white;stroke-width:4\"/><line x1=\"285.504\" y1=\"200.786\" x2=\"286.132\" y2=\"197.87\" stroke-linecap=\"round\" style=\"stroke:white;stroke-width:4\"/><line x1=\"286.132\" y1=\"197.87\" x2=\"286.643\" y2=\"194.932\" stroke-linecap=\"round\" style=\"stroke:white;stroke-width:4\"/><line x1=\"286.643\" y1=\"194.932\" x2=\"287.037\" y2=\"191.976\" stroke-linecap=\"round\" style=\"stroke:white;stroke-width:4\"/><line x1=\"287.037\" y1=\"191.976\" x2=\"287.313\" y2=\"189.006\" stroke-linecap=\"round\" style=\"stroke:white;stroke-width:4\"/><line x1=\"287.313\" y1=\"189.006\" x2=\"287.471\" y2=\"186.028\" stroke-linecap=\"round\" style=\"stroke:white;stroke-width:4\"/><line x1=\"287.471\" y1=\"186.028\" x2=\"287.511\" y2=\"183.046\" stroke-linecap=\"round\" style=\"stroke:white;stroke-width:4\"/><line x1=\"287.511\" y1=\"183.046\" x2=\"287.432\" y2=\"180.065\" stroke-linecap=\"round\" style=\"stroke:white;stroke-width:4\"/><line x1=\"287.432\" y1=\"180.065\" x2=\"287.234\" y2=\"177.089\" stroke-linecap=\"round\" style=\"stroke:white;stroke-width:4\"/><line x1=\"287.234\" y1=\"177.089\" x2=\"286.918\" y2=\"174.123\" stroke-linecap=\"round\" style=\"stroke:white;stroke-width:4\"/><line x1=\"286.918\" y1=\"174.123\" x2=\"286.485\" y2=\"171.172\" stroke-linecap=\"round\" style=\"stroke:white;stroke-width:4\"/><line x1=\"286.485\" y1=\"171.172\" x2=\"285.935\" y2=\"168.241\" stroke-linecap=\"round\" style=\"stroke:white;stroke-width:4\"/><line x1=\"285.935\" y1=\"168.241\" x2=\"285.269\" y2=\"165.334\" stroke-linecap=\"round\" style=\"stroke:white;stroke-width:4\"/><line x1=\"285.269\" y1=\"165.334\" x2=\"284.488\" y2=\"162.456\" stroke-linecap=\"round\" style=\"stroke:white;stroke-width:4\"/><line x1=\"284.488\" y1=\"162.456\" x2=\"283.593\" y2=\"159.611\" stroke-linecap=\"round\" style=\"stroke:white;stroke-width:4\"/><line x1=\"283.593\" y1=\"159.611\" x2=\"282.585\" y2=\"156.804\" stroke-linecap=\"round\" style=\"stroke:white;stroke-width:4\"/><line x1=\"282.585\" y1=\"156.804\" x2=\"281.467\" y2=\"154.039\" stroke-linecap=\"round\" style=\"stroke:white;stroke-width:4\"/><line x1=\"281.467\" y1=\"154.039\" x2=\"280.239\" y2=\"151.321\" stroke-linecap=\"round\" style=\"stroke:white;stroke-width:4\"/><line x1=\"280.239\" y1=\"151.321\" x2=\"278.904\" y2=\"148.654\" stroke-linecap=\"round\" style=\"stroke:white;stroke-width:4\"/><line x1=\"278.904\" y1=\"148.654\" x2=\"277.464\" y2=\"146.042\" stroke-linecap=\"round\" style=\"stroke:white;stroke-width:4\"/><line x1=\"277.464\" y1=\"146.042\" x2=\"275.922\" y2=\"143.489\" stroke-linecap=\"round\" style=\"stroke:white;stroke-width:4\"/><line x1=\"275.922\" y1=\"143.489\" x2=\"274.279\" y2=\"141.0\" stroke-linecap=\"round\" style=\"stroke:white;stroke-width:4\"/><line x1=\"274.279\" y1=\"141.0\" x2=\"272.539\" y2=\"138.578\" stroke-linecap=\"round\" style=\"stroke:white;stroke-width:4\"/><line x1=\"272.539\" y1=\"138.578\" x2=\"270.704\" y2=\"136.227\" stroke-linecap=\"round\" style=\"stroke:white;stroke-width:4\"/><line x1=\"270.704\" y1=\"136.227\" x2=\"268.777\" y2=\"133.951\" stroke-linecap=\"round\" style=\"stroke:white;stroke-width:4\"/><line x1=\"268.777\" y1=\"133.951\" x2=\"266.761\" y2=\"131.753\" stroke-linecap=\"round\" style=\"stroke:white;stroke-width:4\"/><line x1=\"266.761\" y1=\"131.753\" x2=\"264.659\" y2=\"129.637\" stroke-linecap=\"round\" style=\"stroke:white;stroke-width:4\"/><line x1=\"264.659\" y1=\"129.637\" x2=\"262.475\" y2=\"127.606\" stroke-linecap=\"round\" style=\"stroke:white;stroke-width:4\"/><line x1=\"262.475\" y1=\"127.606\" x2=\"260.212\" y2=\"125.664\" stroke-linecap=\"round\" style=\"stroke:white;stroke-width:4\"/><line x1=\"260.212\" y1=\"125.664\" x2=\"257.873\" y2=\"123.813\" stroke-linecap=\"round\" style=\"stroke:white;stroke-width:4\"/><line x1=\"257.873\" y1=\"123.813\" x2=\"255.462\" y2=\"122.057\" stroke-linecap=\"round\" style=\"stroke:white;stroke-width:4\"/><line x1=\"255.462\" y1=\"122.057\" x2=\"252.983\" y2=\"120.398\" stroke-linecap=\"round\" style=\"stroke:white;stroke-width:4\"/><line x1=\"252.983\" y1=\"120.398\" x2=\"250.44\" y2=\"118.839\" stroke-linecap=\"round\" style=\"stroke:white;stroke-width:4\"/><line x1=\"250.44\" y1=\"118.839\" x2=\"247.838\" y2=\"117.382\" stroke-linecap=\"round\" style=\"stroke:white;stroke-width:4\"/><line x1=\"247.838\" y1=\"117.382\" x2=\"245.18\" y2=\"116.03\" stroke-linecap=\"round\" style=\"stroke:white;stroke-width:4\"/><line x1=\"245.18\" y1=\"116.03\" x2=\"242.47\" y2=\"114.784\" stroke-linecap=\"round\" style=\"stroke:white;stroke-width:4\"/><line x1=\"242.47\" y1=\"114.784\" x2=\"239.713\" y2=\"113.647\" stroke-linecap=\"round\" style=\"stroke:white;stroke-width:4\"/><line x1=\"239.713\" y1=\"113.647\" x2=\"236.913\" y2=\"112.621\" stroke-linecap=\"round\" style=\"stroke:white;stroke-width:4\"/><line x1=\"236.913\" y1=\"112.621\" x2=\"234.074\" y2=\"111.707\" stroke-linecap=\"round\" style=\"stroke:white;stroke-width:4\"/><line x1=\"234.074\" y1=\"111.707\" x2=\"231.201\" y2=\"110.906\" stroke-linecap=\"round\" style=\"stroke:white;stroke-width:4\"/><line x1=\"231.201\" y1=\"110.906\" x2=\"228.298\" y2=\"110.22\" stroke-linecap=\"round\" style=\"stroke:white;stroke-width:4\"/><line x1=\"228.298\" y1=\"110.22\" x2=\"225.37\" y2=\"109.65\" stroke-linecap=\"round\" style=\"stroke:white;stroke-width:4\"/>\n",
              "        <g visibility=visible transform=\"rotate(281.0126582278476,225.37,109.65) translate(207.37, 91.65)\">\n",
              "<path style=\" stroke:none;fill-rule:evenodd;fill:white;fill-opacity:1;\" d=\"M 18.214844 0.632812 C 16.109375 1.800781 15.011719 4.074219 15.074219 7.132812 L 15.085938 7.652344 L 14.785156 7.496094 C 13.476562 6.824219 11.957031 6.671875 10.40625 7.066406 C 8.46875 7.550781 6.515625 9.15625 4.394531 11.992188 C 3.0625 13.777344 2.679688 14.636719 3.042969 15.027344 L 3.15625 15.152344 L 3.519531 15.152344 C 4.238281 15.152344 4.828125 14.886719 8.1875 13.039062 C 9.386719 12.378906 10.371094 11.839844 10.378906 11.839844 C 10.386719 11.839844 10.355469 11.929688 10.304688 12.035156 C 9.832031 13.09375 9.257812 14.820312 8.96875 16.078125 C 7.914062 20.652344 8.617188 24.53125 11.070312 27.660156 C 11.351562 28.015625 11.363281 27.914062 10.972656 28.382812 C 8.925781 30.84375 7.945312 33.28125 8.238281 35.1875 C 8.289062 35.527344 8.28125 35.523438 8.917969 35.523438 C 10.941406 35.523438 13.074219 34.207031 15.136719 31.6875 C 15.359375 31.417969 15.328125 31.425781 15.5625 31.574219 C 16.292969 32.042969 18.023438 32.964844 18.175781 32.964844 C 18.335938 32.964844 19.941406 32.210938 20.828125 31.71875 C 20.996094 31.625 21.136719 31.554688 21.136719 31.558594 C 21.203125 31.664062 21.898438 32.414062 22.222656 32.730469 C 23.835938 34.300781 25.5625 35.132812 27.582031 35.300781 C 27.90625 35.328125 27.9375 35.308594 28.007812 34.984375 C 28.382812 33.242188 27.625 30.925781 25.863281 28.425781 L 25.542969 27.96875 L 25.699219 27.785156 C 28.945312 23.960938 29.132812 18.699219 26.257812 11.96875 L 26.207031 11.84375 L 27.945312 12.703125 C 31.53125 14.476562 32.316406 14.800781 33.03125 14.800781 C 33.976562 14.800781 33.78125 13.9375 32.472656 12.292969 C 28.519531 7.355469 25.394531 5.925781 21.921875 7.472656 L 21.558594 7.636719 L 21.578125 7.542969 C 21.699219 6.992188 21.761719 5.742188 21.699219 5.164062 C 21.496094 3.296875 20.664062 1.964844 19.003906 0.855469 C 18.480469 0.503906 18.457031 0.5 18.214844 0.632812\"/>\n",
              "</g>\n",
              "      </svg>\n",
              "    "
            ],
            "text/plain": [
              "<IPython.core.display.HTML object>"
            ]
          },
          "metadata": {},
          "output_type": "display_data"
        }
      ],
      "source": [
        "def circle(r):\n",
        "    arc(r, 360)\n",
        "\n",
        "radius = 75\n",
        "circle(radius)"
      ]
    },
    {
      "cell_type": "markdown",
      "metadata": {
        "id": "Ok5aRjKkMtLE"
      },
      "source": [
        "<p>This process of <strong>rearranging</strong> a program to</p>\n",
        "<ul>\n",
        "<li><strong>improve</strong> interfaces</li>\n",
        "<li>and facilitate code reuse</li>\n",
        "</ul>\n",
        "<p>is called refactoring.</p>"
      ]
    },
    {
      "cell_type": "markdown",
      "metadata": {
        "id": "TWaoStbpNTL4"
      },
      "source": [
        "<p>Noticing that <code>arc</code> and <code>polygon</code> were <strong>similar code</strong>, we <em>factored them out</em> into <code>polyline</code> !</p>"
      ]
    },
    {
      "cell_type": "markdown",
      "metadata": {
        "id": "Lb86f3opNYWp"
      },
      "source": [
        "<p>If planned ahead, we might have written first <code>polyline</code> avoiding refactoring</p>\n",
        "<p> ... but often we don’t know enough at the beginning of a project to design all the interfaces.</p>\n",
        "<p>Once we start coding, we <strong>understand the problem</strong> better.</p>"
      ]
    },
    {
      "cell_type": "markdown",
      "metadata": {
        "id": "cwboYwq7Ph30"
      },
      "source": [
        "<p>Sometimes refactoring means we have learned something.</p>\n"
      ]
    },
    {
      "cell_type": "markdown",
      "metadata": {
        "id": "vAbRt099PsIM"
      },
      "source": [
        "... or just that we need a Software Development Plan!"
      ]
    }
  ],
  "metadata": {
    "colab": {
      "provenance": [],
      "toc_visible": true,
      "collapsed_sections": [
        "nVDtWg5BpfQW",
        "jtgD_0w04XhP"
      ]
    },
    "kernelspec": {
      "display_name": "Python 3",
      "name": "python3"
    }
  },
  "nbformat": 4,
  "nbformat_minor": 0
}